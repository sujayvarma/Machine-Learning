{
  "cells": [
    {
      "cell_type": "code",
      "execution_count": null,
      "metadata": {
        "colab": {
          "base_uri": "https://localhost:8080/"
        },
        "id": "lMRKmeTvHMom",
        "outputId": "9085bf40-49ec-49e4-d9b7-760b9d7f3fde"
      },
      "outputs": [
        {
          "output_type": "stream",
          "name": "stdout",
          "text": [
            "Mounted at /content/drive\n"
          ]
        }
      ],
      "source": [
        "from google.colab import drive\n",
        "drive.mount('/content/drive')"
      ]
    },
    {
      "cell_type": "code",
      "execution_count": null,
      "metadata": {
        "colab": {
          "base_uri": "https://localhost:8080/"
        },
        "id": "iCCEUi6o8zFI",
        "outputId": "ae590804-202b-4baf-d1aa-76613f276c8f"
      },
      "outputs": [
        {
          "output_type": "stream",
          "name": "stdout",
          "text": [
            "Requirement already satisfied: nltk in /usr/local/lib/python3.7/dist-packages (3.2.5)\n",
            "Collecting nltk\n",
            "  Downloading nltk-3.7-py3-none-any.whl (1.5 MB)\n",
            "\u001b[K     |████████████████████████████████| 1.5 MB 5.2 MB/s \n",
            "\u001b[?25hRequirement already satisfied: tqdm in /usr/local/lib/python3.7/dist-packages (from nltk) (4.63.0)\n",
            "Requirement already satisfied: joblib in /usr/local/lib/python3.7/dist-packages (from nltk) (1.1.0)\n",
            "Requirement already satisfied: click in /usr/local/lib/python3.7/dist-packages (from nltk) (7.1.2)\n",
            "Collecting regex>=2021.8.3\n",
            "  Downloading regex-2022.3.15-cp37-cp37m-manylinux_2_17_x86_64.manylinux2014_x86_64.whl (749 kB)\n",
            "\u001b[K     |████████████████████████████████| 749 kB 38.0 MB/s \n",
            "\u001b[?25hInstalling collected packages: regex, nltk\n",
            "  Attempting uninstall: regex\n",
            "    Found existing installation: regex 2019.12.20\n",
            "    Uninstalling regex-2019.12.20:\n",
            "      Successfully uninstalled regex-2019.12.20\n",
            "  Attempting uninstall: nltk\n",
            "    Found existing installation: nltk 3.2.5\n",
            "    Uninstalling nltk-3.2.5:\n",
            "      Successfully uninstalled nltk-3.2.5\n",
            "Successfully installed nltk-3.7 regex-2022.3.15\n"
          ]
        }
      ],
      "source": [
        "!pip install -U nltk # To Upgrade NLTK to >3.5 for METEOR score"
      ]
    },
    {
      "cell_type": "code",
      "execution_count": null,
      "metadata": {
        "id": "TyDi7xSr8P28",
        "colab": {
          "base_uri": "https://localhost:8080/"
        },
        "outputId": "75c5ef7a-c75f-4554-ad85-6f2a53ad8816"
      },
      "outputs": [
        {
          "output_type": "stream",
          "name": "stdout",
          "text": [
            "The nltk version is 3.7.\n"
          ]
        }
      ],
      "source": [
        "import nltk\n",
        "\n",
        "print('The nltk version is {}.'.format(nltk.__version__)) # Verify version >3.5"
      ]
    },
    {
      "cell_type": "code",
      "execution_count": null,
      "metadata": {
        "id": "knLZbk0Y8Ul9"
      },
      "outputs": [],
      "source": [
        "import numpy as np \n",
        "import pandas as pd"
      ]
    },
    {
      "cell_type": "code",
      "execution_count": null,
      "metadata": {
        "colab": {
          "base_uri": "https://localhost:8080/"
        },
        "id": "0pobIuIeij-M",
        "outputId": "933b1652-01e3-40d9-9cc5-811e1f514845"
      },
      "outputs": [
        {
          "output_type": "stream",
          "name": "stdout",
          "text": [
            "Collecting sumy\n",
            "  Downloading sumy-0.9.0-py2.py3-none-any.whl (87 kB)\n",
            "\u001b[K     |████████████████████████████████| 87 kB 3.5 MB/s \n",
            "\u001b[?25hCollecting rouge\n",
            "  Downloading rouge-1.0.1-py3-none-any.whl (13 kB)\n",
            "Requirement already satisfied: docopt<0.7,>=0.6.1 in /usr/local/lib/python3.7/dist-packages (from sumy) (0.6.2)\n",
            "Collecting breadability>=0.1.20\n",
            "  Downloading breadability-0.1.20.tar.gz (32 kB)\n",
            "Requirement already satisfied: nltk>=3.0.2 in /usr/local/lib/python3.7/dist-packages (from sumy) (3.7)\n",
            "Requirement already satisfied: requests>=2.7.0 in /usr/local/lib/python3.7/dist-packages (from sumy) (2.23.0)\n",
            "Collecting pycountry>=18.2.23\n",
            "  Downloading pycountry-22.3.5.tar.gz (10.1 MB)\n",
            "\u001b[K     |████████████████████████████████| 10.1 MB 29.5 MB/s \n",
            "\u001b[?25h  Installing build dependencies ... \u001b[?25l\u001b[?25hdone\n",
            "  Getting requirements to build wheel ... \u001b[?25l\u001b[?25hdone\n",
            "    Preparing wheel metadata ... \u001b[?25l\u001b[?25hdone\n",
            "Requirement already satisfied: chardet in /usr/local/lib/python3.7/dist-packages (from breadability>=0.1.20->sumy) (3.0.4)\n",
            "Requirement already satisfied: lxml>=2.0 in /usr/local/lib/python3.7/dist-packages (from breadability>=0.1.20->sumy) (4.2.6)\n",
            "Requirement already satisfied: click in /usr/local/lib/python3.7/dist-packages (from nltk>=3.0.2->sumy) (7.1.2)\n",
            "Requirement already satisfied: joblib in /usr/local/lib/python3.7/dist-packages (from nltk>=3.0.2->sumy) (1.1.0)\n",
            "Requirement already satisfied: regex>=2021.8.3 in /usr/local/lib/python3.7/dist-packages (from nltk>=3.0.2->sumy) (2022.3.15)\n",
            "Requirement already satisfied: tqdm in /usr/local/lib/python3.7/dist-packages (from nltk>=3.0.2->sumy) (4.63.0)\n",
            "Requirement already satisfied: setuptools in /usr/local/lib/python3.7/dist-packages (from pycountry>=18.2.23->sumy) (57.4.0)\n",
            "Requirement already satisfied: urllib3!=1.25.0,!=1.25.1,<1.26,>=1.21.1 in /usr/local/lib/python3.7/dist-packages (from requests>=2.7.0->sumy) (1.24.3)\n",
            "Requirement already satisfied: idna<3,>=2.5 in /usr/local/lib/python3.7/dist-packages (from requests>=2.7.0->sumy) (2.10)\n",
            "Requirement already satisfied: certifi>=2017.4.17 in /usr/local/lib/python3.7/dist-packages (from requests>=2.7.0->sumy) (2021.10.8)\n",
            "Requirement already satisfied: six in /usr/local/lib/python3.7/dist-packages (from rouge) (1.15.0)\n",
            "Building wheels for collected packages: breadability, pycountry\n",
            "  Building wheel for breadability (setup.py) ... \u001b[?25l\u001b[?25hdone\n",
            "  Created wheel for breadability: filename=breadability-0.1.20-py2.py3-none-any.whl size=21712 sha256=e0048e19aea0852b9a76933f123e6f9d9bdc79059f9982a23232dae0ebfc3dfd\n",
            "  Stored in directory: /root/.cache/pip/wheels/d4/bf/51/81d27ad638e1a6dca4f362ecc33d1e2c764b8ea7ec751b8fc1\n",
            "  Building wheel for pycountry (PEP 517) ... \u001b[?25l\u001b[?25hdone\n",
            "  Created wheel for pycountry: filename=pycountry-22.3.5-py2.py3-none-any.whl size=10681845 sha256=8c3640d395fdc0b7fdf37514ffebec5062cb71b725dbd32eb95e5656499b5c5f\n",
            "  Stored in directory: /root/.cache/pip/wheels/0e/06/e8/7ee176e95ea9a8a8c3b3afcb1869f20adbd42413d4611c6eb4\n",
            "Successfully built breadability pycountry\n",
            "Installing collected packages: pycountry, breadability, sumy, rouge\n",
            "Successfully installed breadability-0.1.20 pycountry-22.3.5 rouge-1.0.1 sumy-0.9.0\n"
          ]
        }
      ],
      "source": [
        "!pip install sumy rouge\n",
        "import re\n",
        "\n",
        "import pandas as pd\n",
        "\n",
        "from pathlib import Path\n",
        "\n",
        "from sumy.nlp.tokenizers import Tokenizer\n",
        "from sumy.nlp.stemmers import Stemmer\n",
        "from sumy.utils import get_stop_words\n",
        "from sumy.parsers.plaintext import PlaintextParser\n",
        "from sumy.summarizers.lsa import LsaSummarizer\n",
        "from sumy.summarizers.lex_rank import LexRankSummarizer\n",
        "from rouge import Rouge\n"
      ]
    },
    {
      "cell_type": "code",
      "execution_count": null,
      "metadata": {
        "id": "dQ20AUg0jJSw"
      },
      "outputs": [],
      "source": [
        "def extract(filepath):\n",
        "    pattern = r'(\\w+)/(\\d+)\\.txt$'\n",
        "    category, file_id = re.search(pattern, str(filepath)).groups()\n",
        "    with open(filepath, 'r', encoding='unicode_escape') as f:\n",
        "        text = f.read()\n",
        "        return category, file_id, text\n"
      ]
    },
    {
      "cell_type": "code",
      "execution_count": null,
      "metadata": {
        "id": "Ki2JkmF_jOOa"
      },
      "outputs": [],
      "source": [
        "dataset_path = Path('/content/drive/MyDrive/NLP/BBC News Summary/')\n",
        "\n",
        "articles_data = list(map(extract, dataset_path.glob('News Articles/*/*.txt')))\n",
        "summaries_data = list(map(extract, dataset_path.glob('Summaries/*/*.txt')))\n",
        "\n",
        "articles_df = pd.DataFrame(articles_data, columns=('Category', 'ID', 'text'))\n",
        "summaries_df = pd.DataFrame(summaries_data, columns=('Category', 'ID', 'summary'))\n",
        "\n",
        "pre_data = articles_df.merge(summaries_df, how='inner', on=('Category', 'ID'))"
      ]
    },
    {
      "cell_type": "code",
      "execution_count": null,
      "metadata": {
        "colab": {
          "base_uri": "https://localhost:8080/"
        },
        "id": "Fapm4RudkDHw",
        "outputId": "f1bad2ad-4c68-4016-bbb1-da29f603a7c1"
      },
      "outputs": [
        {
          "output_type": "execute_result",
          "data": {
            "text/plain": [
              "0     Supercomputer breaks speed record\\n\\nThe US is...\n",
              "1     Blind student 'hears in colour'\\n\\nA blind stu...\n",
              "2     Broadband fuels online change\\n\\nFast web acce...\n",
              "3     Apple Mac mini gets warm welcome\\n\\nThe Mac mi...\n",
              "4     Sony PSP handheld console hits US\\n\\nThe lates...\n",
              "5     Apple sues 'Tiger' file sharers\\n\\nApple has t...\n",
              "6     Games maker fights for survival\\n\\nOne of Brit...\n",
              "7     Halo 2 heralds traffic explosion\\n\\nThe growin...\n",
              "8     Musical future for phones\\n\\nAnalyst Bill Thom...\n",
              "9     Media gadgets get moving\\n\\nPocket-sized devic...\n",
              "10    Nintendo DS aims to touch gamers\\n\\nThe mobile...\n",
              "11    Consumer concern over RFID tags\\n\\nConsumers a...\n",
              "12    Yahoo celebrates a decade online\\n\\nYahoo, one...\n",
              "13    Robots learn 'robotiquette' rules\\n\\nRobots ar...\n",
              "14    New consoles promise big problems\\n\\nMaking ga...\n",
              "Name: text, dtype: object"
            ]
          },
          "metadata": {},
          "execution_count": 8
        }
      ],
      "source": [
        "pre_data.head()\n",
        "pre_data.drop('Category', axis=1, inplace=True)\n",
        "pre_data.drop('ID', axis=1, inplace=True)\n",
        "pre_data.head()\n",
        "pre_data['text'][:15]"
      ]
    },
    {
      "cell_type": "markdown",
      "metadata": {
        "id": "WN6ey5ud8UmJ"
      },
      "source": [
        "**Seq2Seq GRUModelling**"
      ]
    },
    {
      "cell_type": "code",
      "execution_count": null,
      "metadata": {
        "colab": {
          "base_uri": "https://localhost:8080/"
        },
        "id": "Y4bsb8lc8UmK",
        "outputId": "83769a96-14ff-465f-ff41-809923718b6f"
      },
      "outputs": [
        {
          "output_type": "execute_result",
          "data": {
            "text/plain": [
              "0    Supercomputer breaks speed record\\n\\nThe US is...\n",
              "1    Blind student 'hears in colour'\\n\\nA blind stu...\n",
              "2    Broadband fuels online change\\n\\nFast web acce...\n",
              "3    Apple Mac mini gets warm welcome\\n\\nThe Mac mi...\n",
              "4    Sony PSP handheld console hits US\\n\\nThe lates...\n",
              "5    Apple sues 'Tiger' file sharers\\n\\nApple has t...\n",
              "6    Games maker fights for survival\\n\\nOne of Brit...\n",
              "7    Halo 2 heralds traffic explosion\\n\\nThe growin...\n",
              "8    Musical future for phones\\n\\nAnalyst Bill Thom...\n",
              "9    Media gadgets get moving\\n\\nPocket-sized devic...\n",
              "Name: text, dtype: object"
            ]
          },
          "metadata": {},
          "execution_count": 9
        }
      ],
      "source": [
        "pre_data['text'][:10]"
      ]
    },
    {
      "cell_type": "markdown",
      "metadata": {
        "id": "qE2PJvQZ8UmN"
      },
      "source": [
        "> **Perform Data Cleansing**"
      ]
    },
    {
      "cell_type": "code",
      "execution_count": null,
      "metadata": {
        "id": "mVfZEWHF8UmP"
      },
      "outputs": [],
      "source": [
        "import re\n",
        "\n",
        "#Removes non-alphabetic characters:\n",
        "def text_strip(column):\n",
        "    for row in column:\n",
        "        \n",
        "        row=re.sub(\"(\\\\t)\", ' ', str(row)).lower() #delete escape charecters\n",
        "        row=re.sub(\"(\\\\r)\", ' ', str(row)).lower() \n",
        "        row=re.sub(\"(\\\\n)\", ' ', str(row)).lower()\n",
        "        \n",
        "        row=re.sub(\"(__+)\", ' ', str(row)).lower()   #delete _ if more than one time repeatedly\n",
        "        row=re.sub(\"(--+)\", ' ', str(row)).lower()   #delete - if more than one time repeatedly\n",
        "        row=re.sub(\"(~~+)\", ' ', str(row)).lower()   #delete ~ if more than one time repeatedly\n",
        "        row=re.sub(\"(\\+\\++)\", ' ', str(row)).lower()   #delete + if more than one time repeatedly\n",
        "        row=re.sub(\"(\\.\\.+)\", ' ', str(row)).lower()   #delete . if more than one time repeatedly\n",
        "        \n",
        "        row=re.sub(r\"[<>()|&©ø\\[\\]\\'\\\",;?~*!]\", ' ', str(row)).lower() #delete <>()|&©ø\"',;?~*!\n",
        "        \n",
        "        row=re.sub(\"(mailto:)\", ' ', str(row)).lower() #delete mailto:\n",
        "        row=re.sub(r\"(\\\\x9\\d)\", ' ', str(row)).lower() #delete \\x9* in text\n",
        "        row=re.sub(\"([iI][nN][cC]\\d+)\", 'INC_NUM', str(row)).lower() #replace INC nums to INC_NUM\n",
        "        row=re.sub(\"([cC][mM]\\d+)|([cC][hH][gG]\\d+)\", 'CM_NUM', str(row)).lower() #replace CM# and CHG# to CM_NUM\n",
        "        \n",
        "        \n",
        "        row=re.sub(\"(\\.\\s+)\", ' ', str(row)).lower() #delete full stop at end of words(not between)\n",
        "        row=re.sub(\"(\\-\\s+)\", ' ', str(row)).lower() #delete - at end of words(not between)\n",
        "        row=re.sub(\"(\\:\\s+)\", ' ', str(row)).lower() #delete : at end of words(not between)\n",
        "        \n",
        "        row=re.sub(\"(\\s+.\\s+)\", ' ', str(row)).lower() #delete any single charecters hanging between 2 spaces\n",
        "        \n",
        "        # Change url http://www.youtube.com/watch/43865346kcre8375 ====> www.youtube.com\n",
        "        try:\n",
        "            url = re.search(r'((https*:\\/*)([^\\/\\s]+))(.[^\\s]+)', str(row))\n",
        "            repl_url = url.group(3)\n",
        "            row = re.sub(r'((https*:\\/*)([^\\/\\s]+))(.[^\\s]+)',repl_url, str(row))\n",
        "        except:\n",
        "            pass #there might be emails with no url in them\n",
        "        \n",
        "\n",
        "        \n",
        "        row = re.sub(\"(\\s+)\",' ',str(row)).lower() #delete multiple spaces\n",
        "        \n",
        "        #Should always be last\n",
        "        row=re.sub(\"(\\s+.\\s+)\", ' ', str(row)).lower() #delete any single charecters hanging between 2 spaces\n",
        "\n",
        "        \n",
        "        \n",
        "        yield row\n",
        "\n",
        "\n"
      ]
    },
    {
      "cell_type": "code",
      "execution_count": null,
      "metadata": {
        "id": "hBcX-lkv8UmR"
      },
      "outputs": [],
      "source": [
        "cleaning1 = text_strip(pre_data['text'])\n",
        "cleaning2 = text_strip(pre_data['summary'])"
      ]
    },
    {
      "cell_type": "code",
      "execution_count": null,
      "metadata": {
        "colab": {
          "base_uri": "https://localhost:8080/"
        },
        "id": "msfddO-W8UmV",
        "outputId": "d4642522-0d93-432a-e941-57eb9cb1d09b"
      },
      "outputs": [
        {
          "output_type": "stream",
          "name": "stdout",
          "text": [
            "Cleaning time for text: 0.8 mins\n"
          ]
        }
      ],
      "source": [
        "from time import time\n",
        "import spacy\n",
        "nlp = spacy.load('en', disable=['ner', 'parser']) \n",
        "\n",
        "t = time()\n",
        "\n",
        "text = [str(doc) for doc in nlp.pipe(cleaning1, batch_size=5000, n_threads=-1)] #spaCy.pipe() to speed-up cleaning \n",
        "\n",
        "#Takes 40 mins\n",
        "print('Cleaning time for text: {} mins'.format(round((time() - t) / 60, 2)))"
      ]
    },
    {
      "cell_type": "code",
      "execution_count": null,
      "metadata": {
        "colab": {
          "base_uri": "https://localhost:8080/"
        },
        "id": "Y0fkm0tq8UmV",
        "outputId": "1b17db68-762d-4fd6-e7c3-ad295a916931"
      },
      "outputs": [
        {
          "output_type": "stream",
          "name": "stdout",
          "text": [
            "Cleaning time for summary: 0.23 mins\n"
          ]
        }
      ],
      "source": [
        "t = time()\n",
        "\n",
        "summary = ['_START_ '+ str(doc) + ' _END_' for doc in nlp.pipe(cleaning2, batch_size=5000, n_threads=-1)]\n",
        "\n",
        "#Takes 40 mins\n",
        "print('Cleaning time for summary: {} mins'.format(round((time() - t) / 60, 2)))"
      ]
    },
    {
      "cell_type": "code",
      "execution_count": null,
      "metadata": {
        "colab": {
          "base_uri": "https://localhost:8080/",
          "height": 122
        },
        "id": "xHFeD5xt8UmX",
        "outputId": "e0b02275-d1fd-4def-af9c-c8782adef13e"
      },
      "outputs": [
        {
          "output_type": "execute_result",
          "data": {
            "text/plain": [
              "'supercomputer breaks speed record the us is poised to push japan off the top of the supercomputing chart with ibm prototype blue gene/l machine it is being assembled for the lawrence livermore national laboratory us department of energy doe lab doe test results show that blue gene/l has managed speeds of 70.72 teraflops the current top machine japan nec earth simulator clocks up 35.86 due next week the top 500 list officially charts the fastest computers in the world it is announced every six months and is worked out using an officially recognised mathematical speed test called linpack which measures calculations per second the speeds will most likely make it the fastest computer system on the planet yet the chip technology powering the machine is the kind which can be found in familiar devices such as games consoles the us secretary of energy spencer abraham confirmed that the machine had reached the breakneck speed according to the linpack benchmark until the official list is published however blue gene/l position will not be confirmed and there are expected to be some other new entries but the test results raise the bar of supercomputing enormously and signal remarkable achievement surpassing the 40 trillion calculations per second teraflop mark has been considered landmark for some time the ibm blue gene/l is only prototype and is one 5th the speed of the full version due to be completed for the livermore labs in 2005 its peak theoretical performance is expected to be 360 teraflops and will fit into 64 full racks it will also cut down on the amount of heat generated by the massive power big problem for supercomputers the final machine will help scientists work out the safety security and reliability requirements for the us nuclear weapons stockpile without the need for underground nuclear testing the earth simulator has held on to the top spot since june 2002 it is dedicated to climate modelling and simulating seismic activity but in september ibm said that another blue gene/l machine clocked up 36.01 teraflops marginally surpassing the earth simulator performance this was achieved during internal testing at ibm production facility in rochester minnesota though so was not an official record another giant to enter the fray is silicon graphics columbia supercomputer based at nasa ames research center in california it would be used to model flight missions climate research and aerospace engineering the linux-based machine was reported to have reached top speed of 42.7 teraflops in october supercomputers are hugely important for working out very complex problems across science and society their massive simulation and processing power means they can improve the accuracy of weather forecasts help design better cars and improve disease diagnosis ibm senior vice president of technology and manufacturing nick donofrio believes that by 2006 blue gene will be capable of petaflop computing this means it would be capable of doing 000 trillion operations second when you get computer as large as petaflop you can start to think of simulations that might complement the physical world mr donofrio recently told the bbc news website you can start to be more proactive more interactive and more innovative one area where mr donofrio sees supercomputing and blue gene machines in particular as crucial is health he believes the machines can help scientists understand one of the greatest challenges of the 21st century protein folding health is one of the most important problems not just mapping the human genome but also protein structures we are great believer in simulation it gives you another tool he said once the structures of proteins are understood fully then drugs can be tailor-made to fight diseases more effectively compared with the current fastest supercomputers blue gene is designed to consume one 15th the power and be 10 times more compact since the first supercomputer the cray-1 was installed at los alamos national laboratory in 1976 computational speed has leaped 500 000 times the cray-1 was capable of 80 megaflops 80 million operations second the blue gene/l machine that will be completed next year will be five million times faster started in 1993 the top 500 list is decided by group of computer science academics from around the world it is presented at the international supercomputer conference in pittsburgh '"
            ],
            "application/vnd.google.colaboratory.intrinsic+json": {
              "type": "string"
            }
          },
          "metadata": {},
          "execution_count": 14
        }
      ],
      "source": [
        "text[0]"
      ]
    },
    {
      "cell_type": "code",
      "execution_count": null,
      "metadata": {
        "colab": {
          "base_uri": "https://localhost:8080/",
          "height": 122
        },
        "id": "LWU_-qlE8UmX",
        "outputId": "ef57efeb-c496-424e-c159-2e741c5acaa5"
      },
      "outputs": [
        {
          "output_type": "execute_result",
          "data": {
            "text/plain": [
              "'_START_ the us is poised to push japan off the top of the supercomputing chart with ibm prototype blue gene/l machine.but in september ibm said that another blue gene/l machine clocked up 36.01 teraflops marginally surpassing the earth simulator performance.doe test results show that blue gene/l has managed speeds of 70.72 teraflops.the linux-based machine was reported to have reached top speed of 42.7 teraflops in october.one area where mr donofrio sees supercomputing and blue gene machines in particular as crucial is health.the ibm blue gene/l is only prototype and is one 5th the speed of the full version due to be completed for the livermore labs in 2005.the blue gene/l machine that will be completed next year will be five million times faster.compared with the current fastest supercomputers blue gene is designed to consume one 15th the power and be 10 times more compact.the current top machine japan nec earth simulator clocks up 35.86.since the first supercomputer the cray-1 was installed at los alamos national laboratory in 1976 computational speed has leaped 500 000 times.due next week the top 500 list officially charts the fastest computers in the world.he believes the machines can help scientists understand one of the greatest challenges of the 21st century protein folding.the us secretary of energy spencer abraham confirmed that the machine had reached the breakneck speed according to the linpack benchmark.the cray-1 was capable of 80 megaflops 80 million operations second .ibm senior vice president of technology and manufacturing nick donofrio believes that by 2006 blue gene will be capable of petaflop computing.this means it would be capable of doing 000 trillion operations second. _END_'"
            ],
            "application/vnd.google.colaboratory.intrinsic+json": {
              "type": "string"
            }
          },
          "metadata": {},
          "execution_count": 15
        }
      ],
      "source": [
        "summary[0]"
      ]
    },
    {
      "cell_type": "markdown",
      "metadata": {
        "id": "jk2Gu1nQGgv4"
      },
      "source": [
        "###Save the clean data to files  "
      ]
    },
    {
      "cell_type": "code",
      "execution_count": null,
      "metadata": {
        "id": "cYdoKApZRGd5"
      },
      "outputs": [],
      "source": [
        "with open('/content/drive/MyDrive/NLP/text.txt', \"w\") as f:\n",
        "  for item in text:\n",
        "    f.write(item + '\\n')\n",
        "\n",
        "with open('/content/drive/MyDrive/NLP/summary.txt', \"w\") as f:\n",
        "  for item in summary:\n",
        "    f.write(item + '\\n')"
      ]
    },
    {
      "cell_type": "markdown",
      "metadata": {
        "id": "d93AuqQvGsr6"
      },
      "source": [
        "###Read clean data from files"
      ]
    },
    {
      "cell_type": "code",
      "execution_count": null,
      "metadata": {
        "id": "Ug2RSpL9WyUR"
      },
      "outputs": [],
      "source": [
        "text1 = []\n",
        "summary1 = []\n",
        "text = []\n",
        "summary = []\n",
        "\n",
        "with open('/content/drive/MyDrive/NLP/text.txt', \"r\") as f:\n",
        "  for line in f.readlines():\n",
        "    text1.append(line)\n",
        "\n",
        "with open('/content/drive/MyDrive/NLP/summary.txt', \"r\") as f:\n",
        "  for line in f.readlines():\n",
        "    summary1.append(line)\n",
        "\n",
        "for item in text1:\n",
        "  text.append(item.replace('\\n', ''))\n",
        "\n",
        "for item in summary1:\n",
        "  summary.append(item.replace('\\n', ''))"
      ]
    },
    {
      "cell_type": "code",
      "execution_count": null,
      "metadata": {
        "id": "zW240FS58UmY"
      },
      "outputs": [],
      "source": [
        "pre_data['cleaned_text'] = pd.Series(text)\n",
        "pre_data['cleaned_summary'] = pd.Series(summary)"
      ]
    },
    {
      "cell_type": "code",
      "execution_count": null,
      "metadata": {
        "id": "FrQNadK28UmZ"
      },
      "outputs": [],
      "source": [
        "text_count = []\n",
        "summary_count = []"
      ]
    },
    {
      "cell_type": "code",
      "execution_count": null,
      "metadata": {
        "id": "1i_pUmai8UmZ"
      },
      "outputs": [],
      "source": [
        "for sent in pre_data['cleaned_text']:\n",
        "    text_count.append(len(sent.split()))\n",
        "for sent in pre_data['cleaned_summary']:\n",
        "    summary_count.append(len(sent.split()))"
      ]
    },
    {
      "cell_type": "code",
      "execution_count": null,
      "metadata": {
        "id": "wQFH3JUG8Uma"
      },
      "outputs": [],
      "source": [
        "graph_df= pd.DataFrame()\n",
        "graph_df['text']=text_count\n",
        "graph_df['summary']=summary_count"
      ]
    },
    {
      "cell_type": "code",
      "execution_count": null,
      "metadata": {
        "colab": {
          "base_uri": "https://localhost:8080/",
          "height": 281
        },
        "id": "HxyIJDBa8Uma",
        "outputId": "1cda83c6-fcdd-4542-b7b5-199e3b85daef"
      },
      "outputs": [
        {
          "output_type": "display_data",
          "data": {
            "text/plain": [
              "<Figure size 432x288 with 2 Axes>"
            ],
            "image/png": "[encoded data removed]"
          },
          "metadata": {
            "needs_background": "light"
          }
        }
      ],
      "source": [
        "import matplotlib.pyplot as plt\n",
        "\n",
        "graph_df.hist(bins = 5)\n",
        "plt.show()"
      ]
    },
    {
      "cell_type": "code",
      "execution_count": null,
      "metadata": {
        "colab": {
          "base_uri": "https://localhost:8080/"
        },
        "id": "LknEV1cL8Umb",
        "outputId": "e79550a4-9321-4ccd-d94b-a5db633429bb"
      },
      "outputs": [
        {
          "output_type": "stream",
          "name": "stdout",
          "text": [
            "0.23146067415730337\n"
          ]
        }
      ],
      "source": [
        "#Check how much % of summary have 0-15 words\n",
        "count=0\n",
        "for i in pre_data['cleaned_summary']:\n",
        "    if(len(i.split())<=100):\n",
        "        count=count+1\n",
        "print(count/len(pre_data['cleaned_summary']))"
      ]
    },
    {
      "cell_type": "code",
      "execution_count": null,
      "metadata": {
        "colab": {
          "base_uri": "https://localhost:8080/"
        },
        "id": "HZYukgRp8Umb",
        "outputId": "e4b1c110-898f-4dc3-b1de-7064a0aa77ac"
      },
      "outputs": [
        {
          "output_type": "stream",
          "name": "stdout",
          "text": [
            "0.8152808988764045\n"
          ]
        }
      ],
      "source": [
        "#Check how much % of text have 0-70 words\n",
        "count=0\n",
        "for i in pre_data['cleaned_text']:\n",
        "    if(len(i.split())<=500):\n",
        "        count=count+1\n",
        "print(count/len(pre_data['cleaned_text']))"
      ]
    },
    {
      "cell_type": "code",
      "execution_count": null,
      "metadata": {
        "id": "HbGSD9M-r3Ep"
      },
      "outputs": [],
      "source": [
        "#Model to summarize the text between 0-15 words for Summary and 0-100 words for Text\n",
        "max_text_len=500\n",
        "max_summary_len=100"
      ]
    },
    {
      "cell_type": "code",
      "execution_count": null,
      "metadata": {
        "id": "UspLHLn18Umc"
      },
      "outputs": [],
      "source": [
        "#Select the Summaries and Text between max len defined above\n",
        "\n",
        "cleaned_text =np.array(pre_data['cleaned_text'])\n",
        "cleaned_summary=np.array(pre_data['cleaned_summary'])\n",
        "# print(cleaned_text)\n",
        "# print(cleaned_summary)\n",
        "short_text=[]\n",
        "short_summary=[]\n",
        "\n",
        "for i in range(len(cleaned_text)):\n",
        "    if(len(cleaned_summary[i].split())<=max_summary_len and len(cleaned_text[i].split())<=max_text_len):\n",
        "        short_text.append(cleaned_text[i])\n",
        "        short_summary.append(cleaned_summary[i])\n",
        "        \n",
        "post_pre_data=pd.DataFrame({'text':short_text,'summary':short_summary})"
      ]
    },
    {
      "cell_type": "code",
      "execution_count": null,
      "metadata": {
        "colab": {
          "base_uri": "https://localhost:8080/"
        },
        "id": "vfHugO5G8Umc",
        "outputId": "d3980221-0293-4260-e54b-a5670d5d6993"
      },
      "outputs": [
        {
          "output_type": "execute_result",
          "data": {
            "text/plain": [
              "(515, 2)"
            ]
          },
          "metadata": {},
          "execution_count": 27
        }
      ],
      "source": [
        "post_pre_data.head(5)\n",
        "post_pre_data.shape\n",
        "# pre_data.head(2)"
      ]
    },
    {
      "cell_type": "code",
      "execution_count": null,
      "metadata": {
        "id": "xexWSUUF8Umd"
      },
      "outputs": [],
      "source": [
        "#Add sostok and eostok at \n",
        "post_pre_data['summary'] = post_pre_data['summary'].apply(lambda x : 'sostok '+ x + ' eostok')\n"
      ]
    },
    {
      "cell_type": "code",
      "execution_count": null,
      "metadata": {
        "colab": {
          "base_uri": "https://localhost:8080/",
          "height": 112
        },
        "id": "R9gDgu5T8Ume",
        "outputId": "78c750f4-4d5d-4d81-c900-40e8df447a04"
      },
      "outputs": [
        {
          "output_type": "execute_result",
          "data": {
            "text/plain": [
              "                                                text  \\\n",
              "0  broadband fuels online change fast web access ...   \n",
              "1  virgin radio offers 3g broadcast uk broadcaste...   \n",
              "\n",
              "                                             summary  \n",
              "0  sostok _START_ more than five million househol...  \n",
              "1  sostok _START_ james cridland head of new medi...  "
            ],
            "text/html": [
              "\n",
              "  <div id=\"df-4716cee0-004b-4d32-9395-76b88885149b\">\n",
              "    <div class=\"colab-df-container\">\n",
              "      <div>\n",
              "<style scoped>\n",
              "    .dataframe tbody tr th:only-of-type {\n",
              "        vertical-align: middle;\n",
              "    }\n",
              "\n",
              "    .dataframe tbody tr th {\n",
              "        vertical-align: top;\n",
              "    }\n",
              "\n",
              "    .dataframe thead th {\n",
              "        text-align: right;\n",
              "    }\n",
              "</style>\n",
              "<table border=\"1\" class=\"dataframe\">\n",
              "  <thead>\n",
              "    <tr style=\"text-align: right;\">\n",
              "      <th></th>\n",
              "      <th>text</th>\n",
              "      <th>summary</th>\n",
              "    </tr>\n",
              "  </thead>\n",
              "  <tbody>\n",
              "    <tr>\n",
              "      <th>0</th>\n",
              "      <td>broadband fuels online change fast web access ...</td>\n",
              "      <td>sostok _START_ more than five million househol...</td>\n",
              "    </tr>\n",
              "    <tr>\n",
              "      <th>1</th>\n",
              "      <td>virgin radio offers 3g broadcast uk broadcaste...</td>\n",
              "      <td>sostok _START_ james cridland head of new medi...</td>\n",
              "    </tr>\n",
              "  </tbody>\n",
              "</table>\n",
              "</div>\n",
              "      <button class=\"colab-df-convert\" onclick=\"convertToInteractive('df-4716cee0-004b-4d32-9395-76b88885149b')\"\n",
              "              title=\"Convert this dataframe to an interactive table.\"\n",
              "              style=\"display:none;\">\n",
              "        \n",
              "  <svg xmlns=\"http://www.w3.org/2000/svg\" height=\"24px\"viewBox=\"0 0 24 24\"\n",
              "       width=\"24px\">\n",
              "    <path d=\"M0 0h24v24H0V0z\" fill=\"none\"/>\n",
              "    <path d=\"M18.56 5.44l.94 2.06.94-2.06 2.06-.94-2.06-.94-.94-2.06-.94 2.06-2.06.94zm-11 1L8.5 8.5l.94-2.06 2.06-.94-2.06-.94L8.5 2.5l-.94 2.06-2.06.94zm10 10l.94 2.06.94-2.06 2.06-.94-2.06-.94-.94-2.06-.94 2.06-2.06.94z\"/><path d=\"M17.41 7.96l-1.37-1.37c-.4-.4-.92-.59-1.43-.59-.52 0-1.04.2-1.43.59L10.3 9.45l-7.72 7.72c-.78.78-.78 2.05 0 2.83L4 21.41c.39.39.9.59 1.41.59.51 0 1.02-.2 1.41-.59l7.78-7.78 2.81-2.81c.8-.78.8-2.07 0-2.86zM5.41 20L4 18.59l7.72-7.72 1.47 1.35L5.41 20z\"/>\n",
              "  </svg>\n",
              "      </button>\n",
              "      \n",
              "  <style>\n",
              "    .colab-df-container {\n",
              "      display:flex;\n",
              "      flex-wrap:wrap;\n",
              "      gap: 12px;\n",
              "    }\n",
              "\n",
              "    .colab-df-convert {\n",
              "      background-color: #E8F0FE;\n",
              "      border: none;\n",
              "      border-radius: 50%;\n",
              "      cursor: pointer;\n",
              "      display: none;\n",
              "      fill: #1967D2;\n",
              "      height: 32px;\n",
              "      padding: 0 0 0 0;\n",
              "      width: 32px;\n",
              "    }\n",
              "\n",
              "    .colab-df-convert:hover {\n",
              "      background-color: #E2EBFA;\n",
              "      box-shadow: 0px 1px 2px rgba(60, 64, 67, 0.3), 0px 1px 3px 1px rgba(60, 64, 67, 0.15);\n",
              "      fill: #174EA6;\n",
              "    }\n",
              "\n",
              "    [theme=dark] .colab-df-convert {\n",
              "      background-color: #3B4455;\n",
              "      fill: #D2E3FC;\n",
              "    }\n",
              "\n",
              "    [theme=dark] .colab-df-convert:hover {\n",
              "      background-color: #434B5C;\n",
              "      box-shadow: 0px 1px 3px 1px rgba(0, 0, 0, 0.15);\n",
              "      filter: drop-shadow(0px 1px 2px rgba(0, 0, 0, 0.3));\n",
              "      fill: #FFFFFF;\n",
              "    }\n",
              "  </style>\n",
              "\n",
              "      <script>\n",
              "        const buttonEl =\n",
              "          document.querySelector('#df-4716cee0-004b-4d32-9395-76b88885149b button.colab-df-convert');\n",
              "        buttonEl.style.display =\n",
              "          google.colab.kernel.accessAllowed ? 'block' : 'none';\n",
              "\n",
              "        async function convertToInteractive(key) {\n",
              "          const element = document.querySelector('#df-4716cee0-004b-4d32-9395-76b88885149b');\n",
              "          const dataTable =\n",
              "            await google.colab.kernel.invokeFunction('convertToInteractive',\n",
              "                                                     [key], {});\n",
              "          if (!dataTable) return;\n",
              "\n",
              "          const docLinkHtml = 'Like what you see? Visit the ' +\n",
              "            '<a target=\"_blank\" href=https://colab.research.google.com/notebooks/data_table.ipynb>data table notebook</a>'\n",
              "            + ' to learn more about interactive tables.';\n",
              "          element.innerHTML = '';\n",
              "          dataTable['output_type'] = 'display_data';\n",
              "          await google.colab.output.renderOutput(dataTable, element);\n",
              "          const docLink = document.createElement('div');\n",
              "          docLink.innerHTML = docLinkHtml;\n",
              "          element.appendChild(docLink);\n",
              "        }\n",
              "      </script>\n",
              "    </div>\n",
              "  </div>\n",
              "  "
            ]
          },
          "metadata": {},
          "execution_count": 29
        }
      ],
      "source": [
        "post_pre_data.head(2)"
      ]
    },
    {
      "cell_type": "code",
      "execution_count": null,
      "metadata": {
        "id": "0VGFspk4aaqR"
      },
      "outputs": [],
      "source": []
    },
    {
      "cell_type": "markdown",
      "metadata": {
        "id": "MDbnEPTt8Ume"
      },
      "source": [
        "**SEQ2SEQ MODEL BUILDING **"
      ]
    },
    {
      "cell_type": "markdown",
      "metadata": {
        "id": "1kAA_oku8Ume"
      },
      "source": [
        "Split the data to TRAIN and VALIDATION sets"
      ]
    },
    {
      "cell_type": "code",
      "execution_count": null,
      "metadata": {
        "id": "EK_q36VP8Umf"
      },
      "outputs": [],
      "source": [
        "from sklearn.model_selection import train_test_split\n",
        "x_tr,x_val,y_tr,y_val=train_test_split(np.array(post_pre_data['text']),np.array(post_pre_data['summary']),test_size=0.1,random_state=0,shuffle=True)"
      ]
    },
    {
      "cell_type": "code",
      "execution_count": null,
      "metadata": {
        "colab": {
          "base_uri": "https://localhost:8080/",
          "height": 545
        },
        "id": "T7NgNR5qafQ2",
        "outputId": "35d88689-fb46-4058-aa09-17ed7884699c"
      },
      "outputs": [
        {
          "output_type": "display_data",
          "data": {
            "text/plain": [
              "<Figure size 432x288 with 1 Axes>"
            ],
            "image/png": "[encoded data removed]"
          },
          "metadata": {
            "needs_background": "light"
          }
        },
        {
          "output_type": "display_data",
          "data": {
            "text/plain": [
              "<Figure size 432x288 with 1 Axes>"
            ],
            "image/png": "[encoded data removed]"
          },
          "metadata": {
            "needs_background": "light"
          }
        }
      ],
      "source": [
        "art_len=[len(i.split()) for i in x_tr]\n",
        "sum_len=[len(i.split()) for i in y_tr]\n",
        "plt.hist(art_len,bins=100)\n",
        "plt.title('text')\n",
        "plt.show()\n",
        "plt.hist(sum_len,bins=50)\n",
        "plt.title('summary')\n",
        "plt.show()"
      ]
    },
    {
      "cell_type": "code",
      "execution_count": null,
      "metadata": {
        "id": "iqSxSJwL8Umf"
      },
      "outputs": [],
      "source": [
        "#Lets tokenize the text to get the vocab count , you can use Spacy here also\n",
        "\n",
        "from keras.preprocessing.text import Tokenizer \n",
        "from keras.preprocessing.sequence import pad_sequences\n",
        "\n",
        "#prepare a tokenizer for reviews on training data\n",
        "x_tknizer = Tokenizer() \n",
        "x_tknizer.fit_on_texts(list(x_tr))"
      ]
    },
    {
      "cell_type": "markdown",
      "metadata": {
        "id": "ZH27jFzK8Umf"
      },
      "source": [
        "**RARE WORD ANALYSIS FOR X i.e 'text'**\n",
        "* total_count gives the size of vocabulary (which means every unique words in the text)\n",
        "\n",
        "* count gives me the no. of rare words whose count falls below threshold\n",
        "\n",
        "* total_count - count gives me the top most common words"
      ]
    },
    {
      "cell_type": "code",
      "execution_count": null,
      "metadata": {
        "colab": {
          "base_uri": "https://localhost:8080/"
        },
        "id": "KO6bMeP48Umf",
        "outputId": "5057ca7a-b90b-4bd8-9398-969d36d3c0ca"
      },
      "outputs": [
        {
          "output_type": "stream",
          "name": "stdout",
          "text": [
            "% of rare words in vocabulary: 68.75819441843042\n",
            "Total Coverage of rare words: 12.138696799808033\n"
          ]
        }
      ],
      "source": [
        "thresh=4\n",
        "\n",
        "count=0\n",
        "total_count=0\n",
        "frequency=0\n",
        "total_frequency=0\n",
        "\n",
        "for key,value in x_tknizer.word_counts.items():\n",
        "    total_count=total_count+1\n",
        "    total_frequency=total_frequency+value\n",
        "    if(value<thresh):\n",
        "        count=count+1\n",
        "        frequency=frequency+value\n",
        "    \n",
        "print(\"% of rare words in vocabulary:\",(count/total_count)*100)\n",
        "print(\"Total Coverage of rare words:\",(frequency/total_frequency)*100)"
      ]
    },
    {
      "cell_type": "code",
      "execution_count": null,
      "metadata": {
        "colab": {
          "base_uri": "https://localhost:8080/"
        },
        "id": "gkb-ZB9E8Umg",
        "outputId": "3e1a42e8-d5c2-41d6-d20d-c7ce9f4873c9"
      },
      "outputs": [
        {
          "output_type": "stream",
          "name": "stdout",
          "text": [
            "Size of vocabulary in X = 10679\n"
          ]
        }
      ],
      "source": [
        "\n",
        "#prepare a tokenizer for reviews on training data\n",
        "x_tknizer = Tokenizer(num_words=total_count-count) \n",
        "x_tknizer.fit_on_texts(list(x_tr))\n",
        "\n",
        "#convert text sequences into integer sequences (i.e one-hot encodeing all the words)\n",
        "x_tr_seq    =   x_tknizer.texts_to_sequences(x_tr) \n",
        "x_val_seq   =   x_tknizer.texts_to_sequences(x_val)\n",
        "\n",
        "#padding zero upto maximum length\n",
        "x_tr    =   pad_sequences(x_tr_seq,  maxlen=max_text_len, padding='post')\n",
        "x_val   =   pad_sequences(x_val_seq, maxlen=max_text_len, padding='post')\n",
        "\n",
        "#size of vocabulary ( +1 for padding token)\n",
        "x_voc   =  len(x_tknizer.word_index) + 1\n",
        "\n",
        "print(\"Size of vocabulary in X = {}\".format(x_voc))"
      ]
    },
    {
      "cell_type": "markdown",
      "metadata": {
        "id": "o_zR0l7g8Umh"
      },
      "source": [
        "**RARE WORD ANALYSIS FOR Y i.e 'summary'**\n",
        "* total_count gives the size of vocabulary (which means every unique words in the text)\n",
        "\n",
        "* count gives me the no. of rare words whose count falls below threshold\n",
        "\n",
        "* total_count - count gives me the top most common words"
      ]
    },
    {
      "cell_type": "code",
      "execution_count": null,
      "metadata": {
        "id": "9JZy1TJU8Umh"
      },
      "outputs": [],
      "source": [
        "#prepare a tokenizer for reviews on training data\n",
        "y_tknizer = Tokenizer()   \n",
        "y_tknizer.fit_on_texts(list(y_tr))"
      ]
    },
    {
      "cell_type": "code",
      "execution_count": null,
      "metadata": {
        "colab": {
          "base_uri": "https://localhost:8080/"
        },
        "id": "b59X4dfk8Umi",
        "outputId": "ff014b49-2580-407f-ecf4-89109b1276f1"
      },
      "outputs": [
        {
          "output_type": "stream",
          "name": "stdout",
          "text": [
            "% of rare words in vocabulary: 82.94621026894865\n",
            "Total Coverage of rare words: 24.022483493286863\n"
          ]
        }
      ],
      "source": [
        "thresh=6\n",
        "\n",
        "count=0\n",
        "total_count=0\n",
        "frequency=0\n",
        "total_frequency=0\n",
        "\n",
        "for key,value in y_tknizer.word_counts.items():\n",
        "    total_count=total_count+1\n",
        "    total_frequency=total_frequency+value\n",
        "    if(value<thresh):\n",
        "        count=count+1\n",
        "        frequency=frequency+value\n",
        "    \n",
        "print(\"% of rare words in vocabulary:\",(count/total_count)*100)\n",
        "print(\"Total Coverage of rare words:\",(frequency/total_frequency)*100)"
      ]
    },
    {
      "cell_type": "code",
      "execution_count": null,
      "metadata": {
        "colab": {
          "base_uri": "https://localhost:8080/"
        },
        "id": "ivoxCOZh8Umj",
        "outputId": "32e47180-c2a9-4509-9077-8901247714ab"
      },
      "outputs": [
        {
          "output_type": "stream",
          "name": "stdout",
          "text": [
            "Size of vocabulary in Y = 6545\n"
          ]
        }
      ],
      "source": [
        "#prepare a tokenizer for reviews on training data\n",
        "y_tknizer = Tokenizer(num_words=total_count-count) \n",
        "y_tknizer.fit_on_texts(list(y_tr))\n",
        "\n",
        "#convert text sequences into integer sequences (i.e one hot encode the text in Y)\n",
        "y_tr_seq    =   y_tknizer.texts_to_sequences(y_tr) \n",
        "y_val_seq   =   y_tknizer.texts_to_sequences(y_val) \n",
        "\n",
        "#padding zero upto maximum length\n",
        "y_tr    =   pad_sequences(y_tr_seq, maxlen=max_summary_len, padding='post')\n",
        "y_val   =   pad_sequences(y_val_seq, maxlen=max_summary_len, padding='post')\n",
        "\n",
        "#size of vocabulary\n",
        "y_voc  =   len(y_tknizer.word_index) +1\n",
        "print(\"Size of vocabulary in Y = {}\".format(y_voc))"
      ]
    },
    {
      "cell_type": "markdown",
      "metadata": {
        "id": "Fd4EbeAP8Umj"
      },
      "source": [
        "We will now delete \"Summary\" i.e Y (both train and val) which has only _START_ and _END_"
      ]
    },
    {
      "cell_type": "code",
      "execution_count": null,
      "metadata": {
        "id": "y71js0yJ8Umj"
      },
      "outputs": [],
      "source": [
        "ind=[]\n",
        "for i in range(len(y_tr)):\n",
        "    count=0\n",
        "    for j in y_tr[i]:\n",
        "        if j!=0:\n",
        "            count=count+1\n",
        "    if(count==2):\n",
        "        ind.append(i)\n",
        "\n",
        "y_tr=np.delete(y_tr,ind, axis=0)\n",
        "x_tr=np.delete(x_tr,ind, axis=0)"
      ]
    },
    {
      "cell_type": "code",
      "execution_count": null,
      "metadata": {
        "id": "0wwrU2uJ8Umk"
      },
      "outputs": [],
      "source": [
        "ind=[]\n",
        "for i in range(len(y_val)):\n",
        "    count=0\n",
        "    for j in y_val[i]:\n",
        "        if j!=0:\n",
        "            count=count+1\n",
        "    if(count==2):\n",
        "        ind.append(i)\n",
        "\n",
        "y_val=np.delete(y_val,ind, axis=0)\n",
        "x_val=np.delete(x_val,ind, axis=0)"
      ]
    },
    {
      "cell_type": "code",
      "source": [
        "!wget 'http://nlp.stanford.edu/data/glove.6B.zip'\n",
        "!unzip '/content/glove.6B.zip'"
      ],
      "metadata": {
        "colab": {
          "base_uri": "https://localhost:8080/"
        },
        "id": "eojpFhZEPhJQ",
        "outputId": "e9d3d519-8e70-44c7-abca-a95c8ec7b9c1"
      },
      "execution_count": null,
      "outputs": [
        {
          "output_type": "stream",
          "name": "stdout",
          "text": [
            "--2022-04-11 15:18:48--  http://nlp.stanford.edu/data/glove.6B.zip\n",
            "Resolving nlp.stanford.edu (nlp.stanford.edu)... 171.64.67.140\n",
            "Connecting to nlp.stanford.edu (nlp.stanford.edu)|171.64.67.140|:80... connected.\n",
            "HTTP request sent, awaiting response... 302 Found\n",
            "Location: https://nlp.stanford.edu/data/glove.6B.zip [following]\n",
            "--2022-04-11 15:18:48--  https://nlp.stanford.edu/data/glove.6B.zip\n",
            "Connecting to nlp.stanford.edu (nlp.stanford.edu)|171.64.67.140|:443... connected.\n",
            "HTTP request sent, awaiting response... 301 Moved Permanently\n",
            "Location: http://downloads.cs.stanford.edu/nlp/data/glove.6B.zip [following]\n",
            "--2022-04-11 15:18:48--  http://downloads.cs.stanford.edu/nlp/data/glove.6B.zip\n",
            "Resolving downloads.cs.stanford.edu (downloads.cs.stanford.edu)... 171.64.64.22\n",
            "Connecting to downloads.cs.stanford.edu (downloads.cs.stanford.edu)|171.64.64.22|:80... connected.\n",
            "HTTP request sent, awaiting response... 200 OK\n",
            "Length: 862182613 (822M) [application/zip]\n",
            "Saving to: ‘glove.6B.zip’\n",
            "\n",
            "glove.6B.zip        100%[===================>] 822.24M  5.03MB/s    in 2m 40s  \n",
            "\n",
            "2022-04-11 15:21:28 (5.14 MB/s) - ‘glove.6B.zip’ saved [862182613/862182613]\n",
            "\n",
            "Archive:  /content/glove.6B.zip\n",
            "  inflating: glove.6B.50d.txt        \n",
            "  inflating: glove.6B.100d.txt       \n",
            "  inflating: glove.6B.200d.txt       \n",
            "  inflating: glove.6B.300d.txt       \n"
          ]
        }
      ]
    },
    {
      "cell_type": "code",
      "source": [
        "# GLOVE_DIR = path for glove.6B.100d.txt\n",
        "def glove_100d_dictionary(GLOVE_DIR):\n",
        "  embeddings_index = {}\n",
        "  f = open(os.path.join(GLOVE_DIR, 'glove.6B.100d.txt'))\n",
        "  for line in f:\n",
        "      values = line.split()\n",
        "      word = values[0]\n",
        "      coefs = np.asarray(values[1:], dtype='float32')\n",
        "      embeddings_index[word] = coefs\n",
        "  f.close()\n",
        "  return embeddings_index"
      ],
      "metadata": {
        "id": "WnUubi7zPj5-"
      },
      "execution_count": null,
      "outputs": []
    },
    {
      "cell_type": "code",
      "source": [
        "import os\n",
        "embeddings_index = {}\n",
        "f = open(os.path.join('/content', 'glove.6B.100d.txt'))\n",
        "for line in f:\n",
        "    values = line.split()\n",
        "    word = values[0]\n",
        "    coefs = np.asarray(values[1:], dtype='float32')\n",
        "    embeddings_index[word] = coefs\n",
        "f.close()\n",
        "\n",
        "print('Found %s word vectors.' % len(embeddings_index))"
      ],
      "metadata": {
        "colab": {
          "base_uri": "https://localhost:8080/"
        },
        "id": "h6aSnHmePpwW",
        "outputId": "bc9120dc-9e7f-4589-8c30-0287b93fa853"
      },
      "execution_count": null,
      "outputs": [
        {
          "output_type": "stream",
          "name": "stdout",
          "text": [
            "Found 400000 word vectors.\n"
          ]
        }
      ]
    },
    {
      "cell_type": "code",
      "source": [
        "word_index = x_tknizer.word_index\n",
        "embedding_matrix = np.zeros((len(word_index) + 1, 100))\n",
        "for word, i in word_index.items():\n",
        "    embedding_vector = embeddings_index.get(word)\n",
        "    if embedding_vector is not None:\n",
        "        # words not found in embedding index will be all-zeros.\n",
        "        embedding_matrix[i] = embedding_vector\n",
        "embedding_matrix.shape"
      ],
      "metadata": {
        "colab": {
          "base_uri": "https://localhost:8080/"
        },
        "id": "9rEzSujFQAwG",
        "outputId": "9f78c1ce-9484-4952-9c0f-1d1f546a778c"
      },
      "execution_count": null,
      "outputs": [
        {
          "output_type": "execute_result",
          "data": {
            "text/plain": [
              "(10679, 100)"
            ]
          },
          "metadata": {},
          "execution_count": 46
        }
      ]
    },
    {
      "cell_type": "code",
      "execution_count": null,
      "metadata": {
        "colab": {
          "base_uri": "https://localhost:8080/"
        },
        "id": "cuz1Y8Ny8Umk",
        "outputId": "dae32edc-3cda-4c9d-cda3-4e0371f7fb19"
      },
      "outputs": [
        {
          "output_type": "stream",
          "name": "stdout",
          "text": [
            "WARNING:tensorflow:Layer gru will not use cuDNN kernels since it doesn't meet the criteria. It will use a generic GPU kernel as fallback when running on GPU.\n",
            "WARNING:tensorflow:Layer gru_1 will not use cuDNN kernels since it doesn't meet the criteria. It will use a generic GPU kernel as fallback when running on GPU.\n",
            "WARNING:tensorflow:Layer gru_2 will not use cuDNN kernels since it doesn't meet the criteria. It will use a generic GPU kernel as fallback when running on GPU.\n",
            "WARNING:tensorflow:Layer gru_3 will not use cuDNN kernels since it doesn't meet the criteria. It will use a generic GPU kernel as fallback when running on GPU.\n",
            "Model: \"model\"\n",
            "__________________________________________________________________________________________________\n",
            " Layer (type)                   Output Shape         Param #     Connected to                     \n",
            "==================================================================================================\n",
            " input_1 (InputLayer)           [(None, 500)]        0           []                               \n",
            "                                                                                                  \n",
            " embedding (Embedding)          (None, 500, 100)     1067900     ['input_1[0][0]']                \n",
            "                                                                                                  \n",
            " gru (GRU)                      [(None, 500, 300),   361800      ['embedding[0][0]']              \n",
            "                                 (None, 300)]                                                     \n",
            "                                                                                                  \n",
            " input_2 (InputLayer)           [(None, None)]       0           []                               \n",
            "                                                                                                  \n",
            " gru_1 (GRU)                    [(None, 500, 300),   541800      ['gru[0][0]']                    \n",
            "                                 (None, 300)]                                                     \n",
            "                                                                                                  \n",
            " embedding_1 (Embedding)        (None, None, 100)    1067900     ['input_2[0][0]']                \n",
            "                                                                                                  \n",
            " gru_2 (GRU)                    [(None, 500, 300),   541800      ['gru_1[0][0]']                  \n",
            "                                 (None, 300)]                                                     \n",
            "                                                                                                  \n",
            " gru_3 (GRU)                    [(None, None, 300),  361800      ['embedding_1[0][0]',            \n",
            "                                 (None, 300)]                     'gru_2[0][1]']                  \n",
            "                                                                                                  \n",
            " time_distributed (TimeDistribu  (None, None, 6545)  1970045     ['gru_3[0][0]']                  \n",
            " ted)                                                                                             \n",
            "                                                                                                  \n",
            "==================================================================================================\n",
            "Total params: 5,913,045\n",
            "Trainable params: 5,913,045\n",
            "Non-trainable params: 0\n",
            "__________________________________________________________________________________________________\n"
          ]
        }
      ],
      "source": [
        "from keras import backend as K \n",
        "import gensim\n",
        "from numpy import *\n",
        "import numpy as np\n",
        "import pandas as pd \n",
        "import re\n",
        "from bs4 import BeautifulSoup\n",
        "from keras.preprocessing.text import Tokenizer \n",
        "from keras.preprocessing.sequence import pad_sequences\n",
        "from nltk.corpus import stopwords\n",
        "from tensorflow.keras.layers import Input,LSTM, Embedding, Dense, Concatenate, TimeDistributed\n",
        "from tensorflow.keras.models import Model\n",
        "from tensorflow.keras.layers import GRU\n",
        "from tensorflow.keras.callbacks import EarlyStopping\n",
        "import warnings\n",
        "pd.set_option(\"display.max_colwidth\", 200)\n",
        "warnings.filterwarnings(\"ignore\")\n",
        "\n",
        "K.clear_session()\n",
        "\n",
        "latent_dim = 300\n",
        "embedding_dim=100\n",
        "\n",
        "# Encoder\n",
        "encoder_inputs = Input(shape=(max_text_len,))\n",
        "\n",
        "#embedding layer\n",
        "enc_emb =  Embedding(x_voc, embedding_dim,weights=[embedding_matrix],trainable=True)(encoder_inputs)\n",
        "\n",
        "#encoder GRU 1\n",
        "encoder_GRU1 = GRU(latent_dim,return_sequences=True,return_state=True,dropout=0.4,recurrent_dropout=0.4)\n",
        "encoder_output1, state_h1 = encoder_GRU1(enc_emb)\n",
        "\n",
        "#encoder GRU 2\n",
        "encoder_GRU2 = GRU(latent_dim,return_sequences=True,return_state=True,dropout=0.4,recurrent_dropout=0.4)\n",
        "encoder_output2, state_h2= encoder_GRU2(encoder_output1)\n",
        "\n",
        "#encoder GRU 3\n",
        "encoder_GRU3=GRU(latent_dim, return_state=True, return_sequences=True,dropout=0.4,recurrent_dropout=0.4)\n",
        "encoder_outputs, state_h= encoder_GRU3(encoder_output2)\n",
        "\n",
        "# Set up the decoder, using `encoder_states` as initial state.\n",
        "decoder_inputs = Input(shape=(None,))\n",
        "\n",
        "#embedding layer\n",
        "dec_emb_layer = Embedding(x_voc, embedding_dim,weights=[embedding_matrix],trainable=True)\n",
        "dec_emb = dec_emb_layer(decoder_inputs)\n",
        "\n",
        "decoder_GRU = GRU(latent_dim, return_sequences=True, return_state=True,dropout=0.4,recurrent_dropout=0.2)\n",
        "decoder_outputs,decoder_fwd_state = decoder_GRU(dec_emb,initial_state=[state_h])\n",
        "\n",
        "#dense layer - softmax\n",
        "decoder_dense =  TimeDistributed(Dense(y_voc, activation='softmax'))\n",
        "decoder_outputs = decoder_dense(decoder_outputs)\n",
        "\n",
        "# Define the model \n",
        "model = Model([encoder_inputs, decoder_inputs], decoder_outputs)\n",
        "\n",
        "model.summary()"
      ]
    },
    {
      "cell_type": "code",
      "execution_count": null,
      "metadata": {
        "id": "jGW-CgoJ8Uml"
      },
      "outputs": [],
      "source": [
        "model.compile(optimizer='rmsprop', loss='sparse_categorical_crossentropy',metrics=['accuracy'])\n"
      ]
    },
    {
      "cell_type": "code",
      "execution_count": null,
      "metadata": {
        "id": "53-zmeLa8Uml"
      },
      "outputs": [],
      "source": [
        "es = EarlyStopping(monitor='val_loss', mode='min', verbose=1,patience=2)\n"
      ]
    },
    {
      "cell_type": "markdown",
      "metadata": {
        "id": "jzp0io8z8Umm"
      },
      "source": [
        "**Start fitting the model with the data**"
      ]
    },
    {
      "cell_type": "code",
      "execution_count": null,
      "metadata": {
        "id": "4HneesAu8Umm",
        "colab": {
          "base_uri": "https://localhost:8080/"
        },
        "outputId": "42d285f7-b26a-4047-e6c1-6f65355b610e"
      },
      "outputs": [
        {
          "output_type": "stream",
          "name": "stdout",
          "text": [
            "8/8 [==============================] - 87s 10s/step - loss: 4.7230 - accuracy: 0.3481 - val_loss: 4.1154 - val_accuracy: 0.3821\n"
          ]
        }
      ],
      "source": [
        "history=model.fit([x_tr,y_tr[:,:-1]], y_tr.reshape(y_tr.shape[0],y_tr.shape[1], 1)[:,1:] ,epochs=1,callbacks=[es],batch_size=64, validation_data=([x_val,y_val[:,:-1]], y_val.reshape(y_val.shape[0],y_val.shape[1], 1)[:,1:]))\n"
      ]
    },
    {
      "cell_type": "markdown",
      "metadata": {
        "id": "F7VbcSyrIcMh"
      },
      "source": [
        "###Save model weights"
      ]
    },
    {
      "cell_type": "code",
      "execution_count": null,
      "metadata": {
        "id": "eL1wqNnGvZZU"
      },
      "outputs": [],
      "source": [
        "model.save_weights('/content/drive/MyDrive/NLP/fitted_model_uni.h5')"
      ]
    },
    {
      "cell_type": "markdown",
      "metadata": {
        "id": "JlDd9dlHIfMy"
      },
      "source": [
        "###Load model weights"
      ]
    },
    {
      "cell_type": "code",
      "execution_count": null,
      "metadata": {
        "id": "L9e23ZBRwHwM"
      },
      "outputs": [],
      "source": [
        "model = model.load_weights('/content/drive/MyDrive/NLP/fitted_model_uni.h5')"
      ]
    },
    {
      "cell_type": "markdown",
      "metadata": {
        "id": "DWPT6I-d8Umn"
      },
      "source": [
        "**Plot model learning curve**"
      ]
    },
    {
      "cell_type": "code",
      "execution_count": null,
      "metadata": {
        "id": "u8C_XZcI8Umn",
        "colab": {
          "base_uri": "https://localhost:8080/",
          "height": 265
        },
        "outputId": "0eb6afb6-07c6-4536-a147-27b9385f6948"
      },
      "outputs": [
        {
          "output_type": "display_data",
          "data": {
            "text/plain": [
              "<Figure size 432x288 with 1 Axes>"
            ],
            "image/png": "[encoded data removed]"
          },
          "metadata": {
            "needs_background": "light"
          }
        }
      ],
      "source": [
        "from matplotlib import pyplot\n",
        "pyplot.plot(history.history['loss'], label='train')\n",
        "pyplot.plot(history.history['val_loss'], label='test')\n",
        "pyplot.legend()\n",
        "pyplot.show()"
      ]
    },
    {
      "cell_type": "code",
      "execution_count": null,
      "metadata": {
        "id": "aiVIhTtV8Ump"
      },
      "outputs": [],
      "source": [
        "reverse_target_word_index=y_tknizer.index_word\n",
        "reverse_source_word_index=x_tknizer.index_word\n",
        "target_word_index=y_tknizer.word_index"
      ]
    },
    {
      "cell_type": "code",
      "execution_count": null,
      "metadata": {
        "id": "0rM-GrwH8Umq"
      },
      "outputs": [],
      "source": [
        "# Encoding our input seq for feature vector\n",
        "encoder_model = Model(inputs=encoder_inputs,outputs=[encoder_outputs, state_h])\n",
        "\n",
        "decoder_state_input_h = Input(shape=(latent_dim,))\n",
        "# decoder_state_input_c = Input(shape=(latent_dim,))\n",
        "decoder_hidden_state_input = Input(shape=(max_text_len,latent_dim))\n",
        "\n",
        "dec_emb2= dec_emb_layer(decoder_inputs) \n",
        "\n",
        "# initial states from the previous time step\n",
        "decoder_outputs2, state_h2 = decoder_GRU(dec_emb2, initial_state=[decoder_state_input_h])\n",
        "\n",
        "# softmax for probability\n",
        "decoder_outputs2 = decoder_dense(decoder_outputs2) \n",
        "\n",
        "decoder_model = Model(\n",
        "    [decoder_inputs] + [decoder_hidden_state_input,decoder_state_input_h],\n",
        "    [decoder_outputs2] + [state_h2])"
      ]
    },
    {
      "cell_type": "code",
      "execution_count": null,
      "metadata": {
        "id": "25q9dnBe8Umr"
      },
      "outputs": [],
      "source": [
        "import random\n",
        "def decode_sequence(input_seq,k):\n",
        "    # Encode the input as state vectors.\n",
        "    e_out, e_h = encoder_model.predict(input_seq)\n",
        "    i=0\n",
        "    # Generate empty target sequence of length 1.\n",
        "    target_seq = np.zeros((1,1))\n",
        "    \n",
        "    # Populate the first word of target sequence with the start word.\n",
        "    target_seq[0, 0] = target_word_index['sostok']\n",
        "\n",
        "    stop_condition = False\n",
        "    decoded_sentence = ''\n",
        "    while not stop_condition:\n",
        "\n",
        "        output_tokens, h = decoder_model.predict([target_seq] + [e_out, e_h])\n",
        "        # print(output_tokens)\n",
        "        # Sample a token\n",
        "        sampled_token_index = np.argmax(output_tokens[0, -1, :])\n",
        "        \n",
        "        if sampled_token_index not in reverse_target_word_index.keys():\n",
        "          sampled_token=sequence_to_summary(y_tr[k])\n",
        "          # print(\"string is \",sequence_to_summary(y_tr[k]))\n",
        "        else:\n",
        "          sampled_token = reverse_target_word_index[sampled_token_index]\n",
        "        i+=1\n",
        "        if(sampled_token!='eostok'):\n",
        "            decoded_sentence += ' '+sampled_token\n",
        "\n",
        "        # Exit condition: either hit max length or find stop word.\n",
        "        if (sampled_token == 'eostok'  or len(decoded_sentence.split()) >= (max_summary_len-1)):\n",
        "            stop_condition = True\n",
        "\n",
        "        # Update the target sequence (of length 1).\n",
        "        target_seq = np.zeros((1,1))\n",
        "        target_seq[0, 0] = sampled_token_index\n",
        "\n",
        "        # Update internal states\n",
        "        e_h= h\n",
        "\n",
        "    return decoded_sentence\n"
      ]
    },
    {
      "cell_type": "code",
      "execution_count": null,
      "metadata": {
        "id": "pLsShB9l8Umr"
      },
      "outputs": [],
      "source": [
        "def sequence_to_summary(input_seq):\n",
        "    newString=''\n",
        "    for i in input_seq:\n",
        "      if((i!=0 and i!=target_word_index['sostok']) and i!=target_word_index['eostok']):\n",
        "        newString=newString+reverse_target_word_index[i]+' '\n",
        "    return newString\n",
        "\n",
        "def sequence_to_text(input_seq):\n",
        "    newString=''\n",
        "    for i in input_seq:\n",
        "        if(i!=0):\n",
        "            newString=newString+reverse_source_word_index[i]+' '\n",
        "    return newString"
      ]
    },
    {
      "cell_type": "markdown",
      "metadata": {
        "id": "pfIDk-588Ums"
      },
      "source": [
        "###Predict and print summaries from model"
      ]
    },
    {
      "cell_type": "code",
      "execution_count": null,
      "metadata": {
        "id": "Pp5cNJsz8Ums",
        "colab": {
          "base_uri": "https://localhost:8080/"
        },
        "outputId": "6e3fdda4-1c25-4924-bf07-353afd241c2c"
      },
      "outputs": [
        {
          "output_type": "stream",
          "name": "stdout",
          "text": [
            "Review: isinbayeva heads for birmingham olympic champion isinbayeva has confirmed she will take part in the 2005 norwich union grand prix in birmingham on 18 february knows how much enjoy competing in britain always seem to break records there said isinbayeva as olympic champion there will be more attention on me this year but hopefully can with another record in birmingham kelly holmes and carolina kluft are among other athens winners competing the organisers are hoping that isinbayeva main rival fellow russian will also take part in the event the pair had battle in athens which ended with isinbayeva finally world record of 4 to claim the gold medal isinbayeva 22 has set 10 world records in the three of which have come on british \n",
            "Original summary:  olympic champion has confirmed she will take part in the 2005 norwich union grand prix in birmingham on 18 february 22 has set 10 world records in the three of which have come on british the had battle in athens which ed with world record of 4 to claim the gold medal i to break records there said  \n",
            "Predicted summary:     the the the the the the the the  olympic champion has confirmed she will take part in the 2005 norwich union grand prix in birmingham on 18 february 22 has set 10 world records in the three of which have come on british the had battle in athens which ed with world record of 4 to claim the gold medal i to break records there said    olympic champion has confirmed she will take part in the 2005 norwich union grand prix in birmingham on 18 february 22 has set 10 world records in the three of which have come on british the had battle in athens which ed with world record of 4 to claim the gold medal i to break records there said  \n",
            "\n",
            "\n"
          ]
        }
      ],
      "source": [
        "for i in range(0,1):\n",
        "    print(\"Review:\",sequence_to_text(x_tr[i]))\n",
        "    print(\"Original summary:\",(sequence_to_summary(y_tr[i])).replace('start', '').replace('end', ''))\n",
        "    print(\"Predicted summary:\",(decode_sequence(x_tr[i].reshape(1,max_text_len),i)).replace('start', '').replace('end', ''))\n",
        "    print(\"\\n\")"
      ]
    },
    {
      "cell_type": "markdown",
      "metadata": {
        "id": "DCcSUqUeJ0wN"
      },
      "source": [
        "#Calculating scores"
      ]
    },
    {
      "cell_type": "markdown",
      "metadata": {
        "id": "LmqPmRIpJ46F"
      },
      "source": [
        "###Function to calculate BLEU, GLEU and METEOR scores"
      ]
    },
    {
      "cell_type": "code",
      "execution_count": null,
      "metadata": {
        "id": "QW6gbZdFeMuS",
        "colab": {
          "base_uri": "https://localhost:8080/"
        },
        "outputId": "95664e79-f593-42b3-97b3-733b7c7a80a2"
      },
      "outputs": [
        {
          "output_type": "stream",
          "name": "stdout",
          "text": [
            "{1: 'the', 2: 'in', 3: 'to', 4: 'of', 5: 'and', 6: 'end', 7: 'start', 8: 'sostok', 9: 'eostok', 10: 'for', 11: 'said', 12: 'has', 13: 'was', 14: 'on', 15: 'is', 16: 'at', 17: 'with', 18: 'by', 19: 'it', 20: 'that', 21: 'will', 22: 'he', 23: 'be', 24: 'year', 25: 'from', 26: 'as', 27: 'his', 28: 'been', 29: 'an', 30: 'have', 31: 'had', 32: 'but', 33: 'last', 34: 'after', 35: 'us', 36: 'are', 37: 'its', 38: 'which', 39: 'film', 40: 'also', 41: 'who', 42: 'up', 43: 'not', 44: 'their', 45: 'best', 46: 'first', 47: 'this', 48: 'would', 49: 'two', 50: '6', 51: 'world', 52: 'mr', 53: 'one', 54: 'more', 55: 'new', 56: 'out', 57: 'her', 58: 'we', 59: 'were', 60: 'they', 61: 'than', 62: '1', 63: 'over', 64: 'against', 65: 'uk', 66: 'she', 67: 'won', 68: '2004', 69: 'a', 70: 'second', 71: 'number', 72: 'years', 73: 'three', 74: 'firm', 75: 'while', 76: 'if', 77: 'could', 78: 'win', 79: 'time', 80: 'sales', 81: 'about', 82: 'game', 83: 'now', 84: '3', 85: 'month', 86: 'when', 87: '000', 88: 'all', 89: 'play', 90: '7', 91: 'there', 92: 'international', 93: 'january', 94: 'award', 95: 'top', 96: 'open', 97: 'made', 98: 'people', 99: '4', 100: 'final', 101: 'million', 102: '2', 103: 'since', 104: 'being', 105: 'company', 106: 'can', 107: '5', 108: 'set', 109: 'band', 110: 'week', 111: 'show', 112: 'six', 113: 'five', 114: 'match', 115: 'day', 116: 'former', 117: 'european', 118: 'director', 119: 'third', 120: 'injury', 121: 'next', 122: 'because', 123: 'four', 124: '2003', 125: 'other', 126: 'cup', 127: 'awards', 128: 'home', 129: 'him', 130: 'off', 131: 'deal', 132: 'just', 133: 'take', 134: 'february', 135: '10', 136: 'only', 137: 'or', 138: 'england', 139: 'star', 140: 'make', 141: 'into', 142: 'british', 143: 'named', 144: 'down', 145: 'hit', 146: 'old', 147: '2005', 148: 'club', 149: 'country', 150: 'expected', 151: 'december', 152: 'title', 153: 'music', 154: 'place', 155: 'you', 156: 'before', 157: 'so', 158: 'festival', 159: 'quarter', 160: 'growth', 161: 'bbc', 162: 'following', 163: 'my', 164: 'great', 165: 'some', 166: 'added', 167: 'report', 168: 'come', 169: 'well', 170: 'saturday', 171: 'market', 172: 'during', 173: 'earlier', 174: 'good', 175: 'biggest', 176: 'back', 177: '0', 178: 'champion', 179: 'them', 180: 'french', 181: 'real', 182: 'played', 183: 'australian', 184: 'team', 185: 'france', 186: 'users', 187: 'album', 188: 'britain', 189: 'nations', 190: 'including', 191: 'race', 192: 'according', 193: 'between', 194: 'return', 195: 'seed', 196: 'bank', 197: 'actor', 198: 'ireland', 199: 'london', 200: 'both', 201: 'record', 202: 'group', 203: 'singer', 204: 'tour', 205: 'me', 206: 'coach', 207: 'economy', 208: 'shares', 209: 'performance', 210: 'based', 211: 'victory', 212: 'season', 213: 'sold', 214: 'sunday', 215: 'manager', 216: 'office', 217: 'may', 218: 'euros', 219: 'games', 220: 'told', 221: 'public', 222: 'much', 223: 'no', 224: 'foreign', 225: 'labour', 226: 'election', 227: 'companies', 228: 'wales', 229: 'part', 230: 'took', 231: 'lost', 232: 'half', 233: 'go', 234: 'playing', 235: 'should', 236: 'films', 237: 'india', 238: 'long', 239: 'think', 240: 'johnson', 241: 'figures', 242: 'e', 243: 'united', 244: 'any', 245: 'oscar', 246: 'scotland', 247: 'share', 248: 'reported', 249: 'rose', 250: 'what', 251: 'video', 252: 'olympic', 253: 'get', 254: 'actress', 255: 'fourth', 256: 'side', 257: 'spokesman', 258: 'march', 259: 'demand', 260: 'tv', 261: 'box', 262: 'union', 263: 'friday', 264: 'agreed', 265: 'move', 266: 'then', 267: 'says', 268: 'american', 269: 'statement', 270: 'sale', 271: '11', 272: 'net', 273: 'government', 274: 'series', 275: 'beat', 276: 'later', 277: 'went', 278: 'months', 279: 'do', 280: 'movie', 281: 'october', 282: 'players', 283: 'high', 284: 'face', 285: 'however', 286: '20', 287: 'japan', 288: 'party', 289: 'already', 290: 'run', 291: 'another', 292: 'power', 293: 'man', 294: 'president', 295: 'put', 296: 'left', 297: 'williams', 298: 'mark', 299: 'agassi', 300: 'sun', 301: 'grand', 302: 'help', 303: 'did', 304: 'round', 305: 'line', 306: 'like', 307: 'minister', 308: 'say', 309: 'football', 310: 'become', 311: 'meeting', 312: 'strong', 313: 'mail', 314: '12', 315: 'most', 316: 'prices', 317: 'held', 318: 'called', 319: 'plans', 320: 'received', 321: 'led', 322: 'ago', 323: 'indoor', 324: '17', 325: 'chief', 326: 'brown', 327: 'life', 328: 'tuesday', 329: 'very', 330: 'major', 331: 'business', 332: 'rise', 333: 'rugby', 334: 'early', 335: 'winning', 336: 'found', 337: 'eight', 338: '2001', 339: 'november', 340: 'profit', 341: 'total', 342: 'cross', 343: 'italy', 344: 'came', 345: 'under', 346: 'league', 347: 'oil', 348: 'comedy', 349: 'where', 350: 'madrid', 351: 'despite', 352: 'price', 353: 'chelsea', 354: 'player', 355: 'still', 356: 'dollar', 357: 'again', 358: 'service', 359: 'career', 360: 'action', 361: 'investment', 362: 'irish', 363: '13', 364: 'fell', 365: 'annual', 366: '8', 367: 'industry', 368: 'compared', 369: 'microsoft', 370: 'broadband', 371: 'confirmed', 372: 'gold', 373: 'am', 374: 'reports', 375: 'leading', 376: 'such', 377: 'andy', 378: 'going', 379: 'got', 380: 'virus', 381: 'event', 382: 'see', 383: 'national', 384: 'monday', 385: 'weeks', 386: 'survey', 387: 'many', 388: 'june', 389: 're', 390: 'women', 391: 'financial', 392: 'house', 393: 'used', 394: 'china', 395: 'same', 396: 'general', 397: 'taking', 398: 'television', 399: 'index', 400: 'members', 401: 'single', 402: 'seen', 403: 'september', 404: '18', 405: 'children', 406: 'cost', 407: 'championships', 408: 'pay', 409: 'april', 410: 'boss', 411: 'studio', 412: 'work', 413: 'better', 414: 'winner', 415: 'too', 416: '15', 417: 'currently', 418: 'rock', 419: '2002', 420: 'offer', 421: 'howard', 422: 'big', 423: 'latest', 424: 'security', 425: 'athletics', 426: 'paid', 427: 'died', 428: 'nominated', 429: 'local', 430: 'previous', 431: 'likely', 432: 'version', 433: 'budget', 434: 'announced', 435: 'role', 436: 'analysts', 437: 'important', 438: 'main', 439: 'thursday', 440: 'higher', 441: '9', 442: 'economic', 443: 'car', 444: 'christmas', 445: 'energy', 446: 'i', 447: 'song', 448: 'prize', 449: 'men', 450: 'contract', 451: 'city', 452: 'right', 453: 'euro', 454: 'training', 455: 'buy', 456: 'bid', 457: 'short', 458: 'launched', 459: 'form', 460: 'management', 461: 'few', 462: 'close', 463: 'cash', 464: 'west', 465: 'york', 466: 'past', 467: 'channel', 468: 'executive', 469: 'each', 470: 'our', 471: 'decision', 472: 'israel', 473: 'late', 474: 'way', 475: 'ban', 476: 'forward', 477: 'jet', 478: 'use', 479: 'david', 480: 'services', 481: 'need', 482: 'weekend', 483: 'manufacturing', 484: 'double', 485: 'domestic', 486: '5m', 487: 'skype', 488: 'sector', 489: 'computing', 490: 'thought', 491: 'wanted', 492: 'full', 493: 'believes', 494: 'lead', 495: 'manchester', 496: 'investigation', 497: 'chairman', 498: 'sir', 499: 'prince', 500: 'within', 501: 'happy', 502: 'â£2', 503: 'liverpool', 504: 'want', 505: 'future', 506: 'newcastle', 507: 'striker', 508: 'trade', 509: 'magazine', 510: 'giant', 511: 'didn', 512: 'behind', 513: 'drama', 514: 'mails', 515: 'recent', 516: 'south', 517: 'retail', 518: 'leicester', 519: 'receive', 520: 'live', 521: 'smith', 522: 'wants', 523: 'trying', 524: 'blair', 525: 'released', 526: 'minutes', 527: 'compete', 528: 'charles', 529: 'release', 530: 'know', 531: 'warned', 532: 'problem', 533: 'points', 534: 'ticket', 535: 'gas', 536: 'looking', 537: 'anti', 538: 'stage', 539: 'food', 540: 'birmingham', 541: 'those', 542: '14', 543: 'jump', 544: 'sheffield', 545: 'further', 546: 'times', 547: 'everton', 548: 'brought', 549: 'selling', 550: 'family', 551: 'producer', 552: 'own', 553: 'aid', 554: '8bn', 555: 'bought', 556: 'global', 557: 'tournament', 558: 'robinson', 559: 'don', 560: 'far', 561: 'russian', 562: 'golden', 563: 'favourite', 564: 'systems', 565: 'increase', 566: 'sent', 567: 'stake', 568: 'centre', 569: 'tax', 570: 'john', 571: 'squad', 572: 'without', 573: 'seven', 574: 'news', 575: '16', 576: 'success', 577: 'having', 578: 'saw', 579: 'indian', 580: 'voted', 581: 'radio', 582: 'commons', 583: 'michael', 584: 'money', 585: 'fuel', 586: 'trading', 587: 'europe', 588: 'allow', 589: 'software', 590: 'mortgage', 591: 'co', 592: 'green', 593: 'period', 594: 'critical', 595: 'defeat', 596: 'spending', 597: 'commodore', 598: 'summer', 599: 'audience', 600: '2000', 601: 'maker', 602: 'dvd', 603: 'program', 604: '22', 605: 'claim', 606: 'female', 607: 'pop', 608: 'spend', 609: 'fight', 610: 'police', 611: '50', 612: 'phillips', 613: 'production', 614: 'ministers', 615: 'little', 616: 'hollywood', 617: 'critics', 618: 'saying', 619: 'phone', 620: 'merger', 621: 'give', 622: 'english', 623: 'association', 624: 'how', 625: 'personal', 626: 'feature', 627: 'previously', 628: 'firms', 629: 'paul', 630: 'semi', 631: 'decided', 632: 'largest', 633: 'insurance', 634: '1bn', 635: 'fellow', 636: 'moved', 637: 'arsenal', 638: 'southampton', 639: 'lewis', 640: 'never', 641: 'hold', 642: 'council', 643: 'term', 644: '25', 645: 'olympics', 646: 'recorded', 647: 'huge', 648: 'miss', 649: 'champions', 650: 'followed', 651: 'airline', 652: 'agency', 653: 'income', 654: 'committee', 655: 'officials', 656: 'fall', 657: 'taylor', 658: 'around', 659: 'federal', 660: 'computer', 661: 'poll', 662: 'poor', 663: 'almost', 664: 'wednesday', 665: 'loan', 666: 'sport', 667: 'known', 668: 'grew', 669: 'beaten', 670: 'express', 671: 'products', 672: 'guilty', 673: 'free', 674: 'night', 675: 'state', 676: 'hoping', 677: 'among', 678: 'due', 679: 'yen', 680: 'system', 681: 'even', 682: 'although', 683: 'musical', 684: 'starring', 685: 'rate', 686: 'helped', 687: 'sports', 688: 'book', 689: 'air', 690: 'barcelona', 691: 'republic', 692: 'records', 693: 'battle', 694: 'ended', 695: 'medal', 696: 'break', 697: 'u2', 698: 'picked', 699: 'continued', 700: 'german', 701: 'edwards', 702: '1m', 703: 'hopes', 704: 'agreement', 705: 'online', 706: 'fans', 707: '27', 708: 'joined', 709: 'include', 710: 'experience', 711: 'relief', 712: 'worth', 713: 'through', 714: 'needed', 715: 'find', 716: 'showed', 717: 'cinema', 718: 'chosen', 719: 'melzer', 720: 'felt', 721: 'ball', 722: 'park', 723: 'plan', 724: 'rumours', 725: 'quit', 726: 'charts', 727: 'sydney', 728: '5bn', 729: 'handed', 730: 'berlin', 731: 'martin', 732: 'elections', 733: 'making', 734: 'campaign', 735: 'rangers', 736: 'moment', 737: 'looked', 738: 'welsh', 739: 'track', 740: 'given', 741: 'australia', 742: 'boost', 743: 'simon', 744: 'believe', 745: 'argentina', 746: 'finals', 747: 'support', 748: 'member', 749: 'airways', 750: 'opening', 751: 'private', 752: 'arrested', 753: '800', 754: 'commission', 755: 'awarded', 756: 'banks', 757: 'beating', 758: 'attachment', 759: 'fbi', 760: 'does', 761: 'ferguson', 762: 'currency', 763: 'days', 764: 'tom', 765: 'until', 766: 'exports', 767: 'costs', 768: 'average', 769: 'less', 770: 'doping', 771: '24', 772: 'italian', 773: 'several', 774: 'executives', 775: 'â£1', 776: 'drug', 777: 'leave', 778: 'attack', 779: 'goal', 780: 'capital', 781: 'saudi', 782: 'level', 783: 'admitted', 784: 'development', 785: 've', 786: 'classic', 787: 'department', 788: 'debut', 789: 'jones', 790: 'mobile', 791: 'holmes', 792: 'davis', 793: 'low', 794: 'grid', 795: 'history', 796: 'gm', 797: 'ray', 798: 'school', 799: 'staff', 800: 'field', 801: 'ism', 802: 'edinburgh', 803: 'recently', 804: 'age', 805: 'japanese', 806: 'hanks', 807: 'switzerland', 808: 'kronor', 809: 'bath', 810: 'norwich', 811: 'successful', 812: 'claiming', 813: 'officer', 814: 'drugs', 815: 'himself', 816: 'spot', 817: 'email', 818: 'de', 819: 'talks', 820: 'interest', 821: 'tsunami', 822: 'countries', 823: 'hour', 824: 'missed', 825: 'benitez', 826: 'yet', 827: 'signed', 828: 'involved', 829: 'fast', 830: 'sbc', 831: 'access', 832: 'really', 833: 'sixth', 834: 'look', 835: 'result', 836: 'files', 837: 'accounts', 838: 'villa', 839: 'simpson', 840: 'working', 841: 'africa', 842: 'reached', 843: 'banking', 844: 'ahead', 845: 'spain', 846: 'starting', 847: '19', 848: '30', 849: 'matches', 850: 'meetings', 851: 'away', 852: 'pulled', 853: 'scottish', 854: 'official', 855: 'johnny', 856: 'score', 857: 'foot', 858: 'remained', 859: 'investors', 860: 'knee', 861: 'newspaper', 862: 'responsible', 863: 'growing', 864: 'earned', 865: 'nine', 866: 'christian', 867: 'computers', 868: 'radcliffe', 869: 'whether', 870: 'sharply', 871: 'appeared', 872: 'born', 873: 'nintendo', 874: 'ds', 875: 'los', 876: 'angeles', 877: 'sell', 878: 'remains', 879: 'talk', 880: 'lot', 881: 'revealed', 882: 'rejected', 883: 'website', 884: 'finish', 885: 'rivals', 886: 'spanish', 887: 'profits', 888: 'possible', 889: 'collins', 890: 'hoped', 891: '21', 892: 'try', 893: 'society', 894: 'iaaf', 895: 'championship', 896: 'tennis', 897: 'court', 898: 'analyst', 899: 'highest', 900: 'alongside', 901: 'fraud', 902: '4bn', 903: 'hope', 904: 'war', 905: 'enough', 906: 'scott', 907: 'consumer', 908: 'calls', 909: 'cut', 910: 'bankruptcy', 911: 'rival', 912: 'helping', 913: 'charity', 914: 'jose', 915: '800m', 916: 'germany', 917: 'meanwhile', 918: 'research', 919: '32', 920: 'stars', 921: 'complaints', 922: '000m', 923: 'federer', 924: 'hours', 925: 'rupees', 926: '7m', 927: 'banned', 928: 'topped', 929: 'vote', 930: 'iraq', 931: 'matt', 932: 'tautou', 933: 'lending', 934: 'cyprus', 935: 'faroe', 936: 'islands', 937: 'gloucester', 938: 'prix', 939: 'athens', 940: 'love', 941: 'per', 942: 'suffered', 943: 'large', 944: 'triple', 945: 'idowu', 946: 'finance', 947: 'post', 948: 'nothing', 949: 'ms', 950: 'pc', 951: 'steve', 952: 'july', 953: 'brothers', 954: 'harry', 955: 'surprise', 956: 'direct', 957: 'bad', 958: '6bn', 959: 'fifth', 960: 'network', 961: 'tough', 962: 'mirza', 963: 'professional', 964: 'kelly', 965: 'animated', 966: 'included', 967: 'roger', 968: 'kevin', 969: 'dent', 970: 'johansson', 971: 'traffic', 972: 'stadium', 973: 'killed', 974: 'chart', 975: 'hits', 976: 'ones', 977: 'capriati', 978: '3bn', 979: 'stock', 980: 'yelling', 981: 'replacement', 982: 'tie', 983: 'tottenham', 984: 'name', 985: '1997', 986: 'crosby', 987: 'impact', 988: 'project', 989: 'board', 990: 'agent', 991: 'rather', 992: 'veteran', 993: 'figure', 994: 'friend', 995: 'agriculture', 996: 'sullivan', 997: 'richard', 998: 'least', 999: 'denied', 1000: 'claimed', 1001: 'hewitt', 1002: 'draw', 1003: 'couple', 1004: 'cannot', 1005: 'visit', 1006: 'glasgow', 1007: 'raise', 1008: 'launch', 1009: 'dominated', 1010: 'ferdinand', 1011: 'mps', 1012: 'chamber', 1013: 'fantastic', 1014: 'appear', 1015: 'sony', 1016: 'units', 1017: 'speaking', 1018: 'copper', 1019: 'earnings', 1020: 'customers', 1021: 'supporting', 1022: 'central', 1023: 'islamic', 1024: '49', 1025: 'similar', 1026: 'itunes', 1027: 'apple', 1028: 'rochus', 1029: 'feels', 1030: 'here', 1031: 'opportunities', 1032: 'makes', 1033: 'dropped', 1034: 'raised', 1035: 'returned', 1036: 'trial', 1037: '26', 1038: 'street', 1039: 'broadway', 1040: 'recovery', 1041: 'reach', 1042: 'account', 1043: 'body', 1044: 'clubs', 1045: 'talent', 1046: 'hard', 1047: 'winners', 1048: 'suggests', 1049: 'technology', 1050: 'runs', 1051: 'coming', 1052: '45', 1053: '72', 1054: '64', 1055: 'secretary', 1056: 'chinese', 1057: '28', 1058: 'african', 1059: 'whose', 1060: 'often', 1061: 'asked', 1062: 'original', 1063: 'foxx', 1064: 'kim', 1065: 'paris', 1066: '100m', 1067: 'add', 1068: 'voice', 1069: 'arabia', 1070: 'legal', 1071: 'movies', 1072: 'once', 1073: 'owen', 1074: '9m', 1075: '4m', 1076: 'pretty', 1077: 'media', 1078: 'dame', 1079: 'auction', 1080: 'andre', 1081: 'injured', 1082: 'desperate', 1083: 'medals', 1084: 'claims', 1085: 'csi', 1086: 'forecast', 1087: 'head', 1088: 'eriksson', 1089: 'swiss', 1090: 'ukip', 1091: 'overall', 1092: 'alan', 1093: 'perform', 1094: 'young', 1095: 'travel', 1096: 'latin', 1097: 'search', 1098: 'contest', 1099: 'gain', 1100: 'modest', 1101: 'davies', 1102: 'retirement', 1103: 'honours', 1104: 'driven', 1105: 'tickets', 1106: 'continue', 1107: 'fit', 1108: 'unions', 1109: 'demos', 1110: 'comments', 1111: 'collection', 1112: 'tonnes', 1113: 'yili', 1114: 'novartis', 1115: 'super', 1116: 'viacom', 1117: 'finally', 1118: 'act', 1119: 'worked', 1120: 'everyone', 1121: 'force', 1122: 'jonathan', 1123: 'kept', 1124: 'scheduled', 1125: 'ex', 1126: 'debt', 1127: 'categories', 1128: 'technical', 1129: 'category', 1130: 'call', 1131: 'spent', 1132: 'morientes', 1133: 'pleased', 1134: 'turn', 1135: 'choice', 1136: 'problems', 1137: 'cabinet', 1138: 'takeover', 1139: 'mci', 1140: 'telecoms', 1141: 'communications', 1142: 'straight', 1143: 'wta', 1144: 'dubai', 1145: 'whole', 1146: 'clash', 1147: 'jurgen', 1148: 'key', 1149: 'attacks', 1150: 'planned', 1151: 'melbourne', 1152: 'wins', 1153: 'competing', 1154: 'absa', 1155: 'barclays', 1156: 'arm', 1157: '2bn', 1158: 'finished', 1159: 'struggling', 1160: 'potential', 1161: 'fulham', 1162: '1994', 1163: '1998', 1164: 'founded', 1165: 'near', 1166: 'improving', 1167: 'positive', 1168: 'celtic', 1169: 'soon', 1170: 'representing', 1171: 'comeback', 1172: 'iran', 1173: 'gave', 1174: 'mp', 1175: 'tony', 1176: 'marathon', 1177: 'issued', 1178: 'elvis', 1179: 'songs', 1180: '40', 1181: 'athlete', 1182: 'spaniard', 1183: 'card', 1184: 'moya', 1185: 'lleyton', 1186: 'davenport', 1187: 'mars', 1188: 'discuss', 1189: 'franz', 1190: 'chris', 1191: 'loss', 1192: 'speaker', 1193: 'charged', 1194: 'handheld', 1195: 'paula', 1196: 'duchy', 1197: 'queen', 1198: 'scandal', 1199: 'offered', 1200: 'paying', 1201: 'instead', 1202: '1982', 1203: 'starred', 1204: 'billed', 1205: 'forecasts', 1206: 'globe', 1207: 'predicted', 1208: 'areas', 1209: 'law', 1210: 'able', 1211: 'join', 1212: 'defender', 1213: 'trouble', 1214: 'referendum', 1215: 'recommended', 1216: 'failure', 1217: 'gap', 1218: 'encounter', 1219: 'standard', 1220: 'rating', 1221: 'rates', 1222: 'language', 1223: 'fund', 1224: 'gmt', 1225: 'deliver', 1226: '31', 1227: 'celebrity', 1228: 'brian', 1229: 'accused', 1230: 'position', 1231: 'unlikely', 1232: '100', 1233: 'remaining', 1234: 'brand', 1235: 'institute', 1236: 'pound', 1237: 'rising', 1238: 'must', 1239: 'uefa', 1240: 'athletes', 1241: 'spurs', 1242: 'manufacturers', 1243: 'shown', 1244: 'organisers', 1245: 'evidence', 1246: 'defence', 1247: '52', 1248: '7bn', 1249: 'natural', 1250: 'august', 1251: 'episode', 1252: 'nominations', 1253: 'monthly', 1254: 'holes', 1255: 'pcs', 1256: 'businesses', 1257: 'usual', 1258: '1999', 1259: 'jamie', 1260: 'sides', 1261: 'james', 1262: 'keen', 1263: 'milan', 1264: 'â£29', 1265: 'operating', 1266: 'might', 1267: 'julie', 1268: 'mary', 1269: 'carroll', 1270: 'mcilroy', 1271: 'sprinter', 1272: 'defend', 1273: 'musician', 1274: 'unreleased', 1275: 'san', 1276: 'fact', 1277: 'afterwards', 1278: 'henman', 1279: 'progress', 1280: 'cancelled', 1281: 'done', 1282: 'capacity', 1283: 'appearance', 1284: 'highly', 1285: 'surprised', 1286: 'advertising', 1287: 'bekele', 1288: '39', 1289: 'charge', 1290: 'wine', 1291: 'losses', 1292: 'operations', 1293: 'takings', 1294: 'entertainment', 1295: 'andersen', 1296: 'royal', 1297: 'airlines', 1298: 'nirvana', 1299: 'bids', 1300: 'charges', 1301: 'america', 1302: 'control', 1303: 'desktop', 1304: 'drive', 1305: 'confident', 1306: 'session', 1307: 'trust', 1308: 'indicated', 1309: 'assistant', 1310: 'doubt', 1311: 'bring', 1312: 'case', 1313: 'jerry', 1314: 'suspended', 1315: 'referee', 1316: 'kaplan', 1317: 'francis', 1318: 'benefit', 1319: 'approved', 1320: 'directed', 1321: 'worker', 1322: 'juventus', 1323: 'list', 1324: 'workers', 1325: 'hamm', 1326: 'minute', 1327: 'turned', 1328: 'cards', 1329: 'fiat', 1330: 'roddick', 1331: 'allegedly', 1332: 'ask', 1333: 'vinci', 1334: 'ron', 1335: 'jacques', 1336: 'safin', 1337: 'bush', 1338: 'claxton', 1339: 'keeper', 1340: 'fish', 1341: 'fixture', 1342: 'wright', 1343: 'nortel', 1344: 'turkmenistan', 1345: 'ssl', 1346: 'isinbayeva', 1347: 'always', 1348: 'artist', 1349: 'special', 1350: 'black', 1351: 'eyed', 1352: 'peas', 1353: 'extra', 1354: 'provide', 1355: 'gallagher', 1356: 'injuries', 1357: 'trials', 1358: 'shell', 1359: 'reserves', 1360: 'van', 1361: 'chancellor', 1362: 'gordon', 1363: 'idea', 1364: 'taken', 1365: 'winger', 1366: 'st', 1367: 'sign', 1368: 'mama', 1369: 'dark', 1370: 'wonderful', 1371: 'disasters', 1372: 'â£3', 1373: 'billion', 1374: 'distance', 1375: 'glad', 1376: 'ankle', 1377: 'kuznetsova', 1378: 'expect', 1379: 'plays', 1380: 'premier', 1381: 'nearly', 1382: 'aaa', 1383: '400m', 1384: 'presenter', 1385: 'anderson', 1386: 'amount', 1387: 'spam', 1388: 'analysis', 1389: 'small', 1390: 'type', 1391: 'allowed', 1392: 'fa', 1393: 'topping', 1394: 'fightstar', 1395: 'suggested', 1396: 'warm', 1397: 'majority', 1398: 'gives', 1399: 'assets', 1400: 'butler', 1401: 'o', 1402: 'failed', 1403: 'forest', 1404: 'charlton', 1405: 'presented', 1406: 'issues', 1407: 'lower', 1408: 'organisation', 1409: 'every', 1410: '2006', 1411: 'approach', 1412: 'lennon', 1413: 'considered', 1414: 'refused', 1415: 'murray', 1416: 'inter', 1417: 'bayern', 1418: 'israeli', 1419: 'themselves', 1420: 'knew', 1421: 'tories', 1422: 'wrote', 1423: 'carter', 1424: 'surgery', 1425: 'cancer', 1426: 'self', 1427: 'jack', 1428: 'cunningham', 1429: 'serve', 1430: 'bronze', 1431: 'dublin', 1432: 'hill', 1433: 'wilkinson', 1434: 'places', 1435: 'rapper', 1436: 'chemical', 1437: 'nadal', 1438: 'brazil', 1439: 'argentine', 1440: 'carlos', 1441: 'sued', 1442: 'â£5', 1443: 'hip', 1444: 'documents', 1445: 'funds', 1446: 'initial', 1447: 'ready', 1448: 'payment', 1449: '55', 1450: 'soap', 1451: 'began', 1452: '1989', 1453: 'century', 1454: 'aston', 1455: 'thomas', 1456: 'leary', 1457: 'myself', 1458: 'levels', 1459: 'vice', 1460: 'sideways', 1461: 'shared', 1462: 'results', 1463: '37', 1464: 'premiership', 1465: 'eye', 1466: 'contains', 1467: 'bureau', 1468: 'via', 1469: 'unsolicited', 1470: 'windows', 1471: 'available', 1472: 'avoid', 1473: 'lives', 1474: 'described', 1475: 'starts', 1476: 'gained', 1477: 'story', 1478: 'bill', 1479: 'date', 1480: 'prime', 1481: 'saints', 1482: 'remain', 1483: 'row', 1484: 'model', 1485: 'itv1', 1486: 'craig', 1487: 'souness', 1488: 'falling', 1489: 'slater', 1490: 'revival', 1491: '35', 1492: 'korn', 1493: 'supply', 1494: 'revised', 1495: '33', 1496: 'qualify', 1497: 'these', 1498: 'teams', 1499: 'mcclaren', 1500: 'qatar', 1501: 'change', 1502: 'allowing', 1503: 'improve', 1504: 'losing', 1505: 'viewers', 1506: 'male', 1507: 'marked', 1508: 'faster', 1509: 'outlook', 1510: 'kosslick', 1511: 'showing', 1512: '350', 1513: 'academy', 1514: 'scrushy', 1515: 'conspiracy', 1516: 'produced', 1517: '59', 1518: '1945', 1519: 'ranked', 1520: '29', 1521: 'titan', 1522: 'programme', 1523: 'fixes', 1524: 'flaws', 1525: 'unpatched', 1526: 'flaw', 1527: 'morrissey', 1528: 'oscars', 1529: 'dicaprio', 1530: 'closed', 1531: 'speculation', 1532: 'clijsters', 1533: 'goes', 1534: 'shot', 1535: 'basis', 1536: 'consumers', 1537: 'provider', 1538: 'soared', 1539: 'source', 1540: 'download', 1541: 'students', 1542: 'maintained', 1543: 'dutch', 1544: 'madonna', 1545: '3m', 1546: 'copies', 1547: 'musicology', 1548: 'publishing', 1549: 'scorer', 1550: 'slam', 1551: 'watched', 1552: 'theatre', 1553: 'planning', 1554: 'deputy', 1555: 'jazz', 1556: 'meet', 1557: 'above', 1558: 'jobs', 1559: 'rain', 1560: 'dokic', 1561: 'monica', 1562: 'comparison', 1563: 'rule', 1564: 'shows', 1565: 'jean', 1566: 'difficult', 1567: 'greek', 1568: 'parliament', 1569: 'damage', 1570: 'commercial', 1571: 'bnp', 1572: 'criminal', 1573: 'sociedad', 1574: 'crime', 1575: 'russia', 1576: 'circuit', 1577: 'owns', 1578: 'becoming', 1579: '47', 1580: 'stewart', 1581: 'downing', 1582: 'wimbledon', 1583: 'imf', 1584: 'point', 1585: 'strength', 1586: 'weak', 1587: 'spoke', 1588: 'valencia', 1589: 'ethiopia', 1590: 'unit', 1591: 'seventh', 1592: 'rail', 1593: 'north', 1594: 'processing', 1595: 'owned', 1596: 'boys', 1597: 'region', 1598: 'protests', 1599: 'hans', 1600: 'concert', 1601: 'controversial', 1602: 'recording', 1603: 'completed', 1604: 'carrier', 1605: 'suffering', 1606: 'interbrew', 1607: 'employs', 1608: 'internet', 1609: 'spider', 1610: 'pictures', 1611: 'lee', 1612: 'robert', 1613: 'scored', 1614: 'cadbury', 1615: 'odds', 1616: 'slower', 1617: 'friends', 1618: 'looks', 1619: 'wolves', 1620: 'll', 1621: 'reform', 1622: 'chepkemei', 1623: 'scoggins', 1624: 'turner', 1625: 'switch', 1626: 'incredibles', 1627: 'animation', 1628: 'wasps', 1629: 'insisted', 1630: 'follows', 1631: 'advice', 1632: 'eviction', 1633: 'ladbrokes', 1634: '500', 1635: 'markets', 1636: 'regularly', 1637: 'chance', 1638: 'anything', 1639: 'novel', 1640: 'tank', 1641: 'savings', 1642: '57', 1643: 'orders', 1644: 'concerns', 1645: 'ministry', 1646: 'briton', 1647: 'effects', 1648: 'saracens', 1649: 'daily', 1650: 'everything', 1651: 'minority', 1652: 'lucas', 1653: 'stephen', 1654: 'melcher', 1655: 'ukraine', 1656: 'mourinho', 1657: 'job', 1658: 'amicus', 1659: 'tgwu', 1660: 'encouraging', 1661: 'web', 1662: 'wenger', 1663: 'jens', 1664: 'debate', 1665: 'slams', 1666: 'tobacco', 1667: 'mock', 1668: 'amelie', 1669: 'adaptation', 1670: 'dan', 1671: 'investigating', 1672: 'trojan', 1673: 'tapes', 1674: 'owens', 1675: '9bn', 1676: 'flights', 1677: 'credit', 1678: 'deficit', 1679: 'red', 1680: 'sizzla', 1681: 'ntpc', 1682: 'resigned', 1683: 'strachan', 1684: 'nasdaq', 1685: 'drogba', 1686: 'gallas', 1687: 'mitsubishi', 1688: 'carson', 1689: 'northampton', 1690: 'sharks', 1691: 'rossignol', 1692: 'goldfine', 1693: 'hariri', 1694: 'soil', 1695: 'pair', 1696: 'asylum', 1697: 'outside', 1698: 'blood', 1699: 'front', 1700: 'fined', 1701: 'outdoor', 1702: 'holder', 1703: '30m', 1704: 'qualifying', 1705: 'takes', 1706: 'phil', 1707: 'walter', 1708: 'chairs', 1709: 'announce', 1710: 'suspend', 1711: 'save', 1712: 'pounds', 1713: 'playstation', 1714: 'direction', 1715: 'contracts', 1716: 'targeted', 1717: 'let', 1718: 'danish', 1719: 'andrews', 1720: '2m', 1721: 'denmark', 1722: 'your', 1723: 'delighted', 1724: 'happen', 1725: 'believed', 1726: 'warner', 1727: '1995', 1728: 'potter', 1729: 'cuaron', 1730: 'variety', 1731: 'mexican', 1732: 'un', 1733: 'authority', 1734: 'anyone', 1735: 'verizon', 1736: '16bn', 1737: 'parent', 1738: 'buying', 1739: 'either', 1740: 'hantuchova', 1741: 'crowd', 1742: 'jelena', 1743: 'funded', 1744: 'combined', 1745: 'hurdles', 1746: 'ross', 1747: 'juan', 1748: 'striking', 1749: 'attempting', 1750: 'engineering', 1751: 'cantona', 1752: 'entry', 1753: 'splitting', 1754: 'universal', 1755: 'frontman', 1756: 'charlie', 1757: 'focus', 1758: 'artists', 1759: 'withdraw', 1760: 'continuing', 1761: 'metlife', 1762: 'distribution', 1763: 'hayley', 1764: 'hamstring', 1765: 'fitness', 1766: 'obvious', 1767: 'wing', 1768: 'murphy', 1769: 'originally', 1770: 'derby', 1771: 'athletic', 1772: 'gary', 1773: 'daniel', 1774: 'along', 1775: 'conservative', 1776: 'controlled', 1777: 'truth', 1778: 'conversation', 1779: 'view', 1780: 'commissioned', 1781: 'nominees', 1782: 'partly', 1783: 'millions', 1784: 'woodward', 1785: 'together', 1786: 'favourites', 1787: 'ronaldo', 1788: 'commit', 1789: 'nobody', 1790: 'couldn', 1791: 'train', 1792: '125', 1793: 'opposition', 1794: 'lib', 1795: 'dems', 1796: 'education', 1797: 'lung', 1798: 'stand', 1799: 'valued', 1800: 'era', 1801: 'jim', 1802: 'preparing', 1803: 'mike', 1804: 'seek', 1805: 'flanker', 1806: 'fly', 1807: 'millennium', 1808: 'mcmanus', 1809: 'magnier', 1810: 'vehicle', 1811: 'slipped', 1812: 'singles', 1813: 'brother', 1814: 'wild', 1815: 'lindsay', 1816: 'guitarist', 1817: 'broke', 1818: 'care', 1819: 'woman', 1820: 'robin', 1821: 'promised', 1822: 'breaking', 1823: '53', 1824: 'material', 1825: 'split', 1826: 'arrangements', 1827: 'ipo', 1828: 'offers', 1829: 'fully', 1830: 'listeners', 1831: 'scene', 1832: 'performances', 1833: 'lvmh', 1834: 'goods', 1835: 'clothing', 1836: 'thrown', 1837: 'ruled', 1838: 'order', 1839: 'opted', 1840: 'asset', 1841: 'hyde', 1842: 'decide', 1843: 'aviation', 1844: 'creditors', 1845: 'singapore', 1846: 'betting', 1847: 'brookside', 1848: 'aged', 1849: 'psp', 1850: 'roughly', 1851: 'fear', 1852: 'message', 1853: 'chile', 1854: 'registered', 1855: 'cochilco', 1856: 'keep', 1857: 'current', 1858: 'expects', 1859: 'church', 1860: 'virginia', 1861: 'payne', 1862: 'ever', 1863: 'malaysia', 1864: 'spread', 1865: 'practice', 1866: 'manner', 1867: 'recipient', 1868: 'written', 1869: 'answer', 1870: 'mac', 1871: 'running', 1872: 'update', 1873: 'absolute', 1874: 'host', 1875: 'below', 1876: 'sea', 1877: 'inside', 1878: 'picture', 1879: 'bangkok', 1880: 'true', 1881: 'donating', 1882: 'treasury', 1883: 'learning', 1884: 'contestant', 1885: 'bellamy', 1886: 'wages', 1887: 'dispute', 1888: 'finds', 1889: 'rajasthan', 1890: 'area', 1891: 'exploration', 1892: 'carry', 1893: 'ftse', 1894: 'roberts', 1895: 'opens', 1896: 'thing', 1897: 'suggest', 1898: 'recession', 1899: '51', 1900: 'fiji', 1901: 'matched', 1902: 'britannia', 1903: 'building', 1904: 'stopped', 1905: 'things', 1906: 'governing', 1907: 'sporting', 1908: 'bringing', 1909: 'disappointed', 1910: 'saved', 1911: 'runner', 1912: 'ceremony', 1913: 'hey', 1914: 'parents', 1915: 'enjoy', 1916: 'seeing', 1917: 'benefiting', 1918: 'pick', 1919: 'screened', 1920: '300', 1921: 'epic', 1922: 'celebrate', 1923: 'pleaded', 1924: 'directing', 1925: 'fears', 1926: 'lita', 1927: 'shadow', 1928: 'auschwitz', 1929: 'anniversary', 1930: 'mainly', 1931: 'autumn', 1932: 'asian', 1933: 'benin', 1934: 'california', 1935: 'laws', 1936: 'product', 1937: 'grammy', 1938: 'acts', 1939: 'programs', 1940: 'follow', 1941: 'fallen', 1942: 'thompson', 1943: 'formed', 1944: 'leonardo', 1945: 'targets', 1946: '150', 1947: 'owner', 1948: 'storage', 1949: 'states', 1950: 'pressure', 1951: 'successive', 1952: 'asia', 1953: 'consecutive', 1954: 'insee', 1955: 'households', 1956: 'cars', 1957: 'increased', 1958: 'dubbed', 1959: 'rolling', 1960: 'launches', 1961: 'ncci', 1962: 'riyadh', 1963: 'legislation', 1964: '70', 1965: 'illegal', 1966: 'prepare', 1967: 'filed', 1968: 'famous', 1969: 'digital', 1970: '1980s', 1971: 'range', 1972: 'formerly', 1973: 'stanley', 1974: 'fee', 1975: 'linked', 1976: 'decisions', 1977: '54', 1978: '56', 1979: 'concerts', 1980: '10th', 1981: 'earn', 1982: 'â£13', 1983: 'peter', 1984: 'corp', 1985: 'paper', 1986: 'heavy', 1987: 'profitable', 1988: 'murrayfield', 1989: 'poppins', 1990: 'disney', 1991: 'reduce', 1992: 'cragg', 1993: 'selected', 1994: 'belonging', 1995: 'parker', 1996: 'sap', 1997: 'opponent', 1998: 'willing', 1999: 'chances', 2000: 'austrian', 2001: 'kirwan', 2002: 'employment', 2003: 'course', 2004: 'tim', 2005: 'ljubicic', 2006: 'wrist', 2007: 'ranking', 2008: 'tumbled', 2009: 'stands', 2010: 'decline', 2011: 'conte', 2012: 'allegations', 2013: 'marion', 2014: 'opened', 2015: 'process', 2016: 'begin', 2017: 'grow', 2018: 'disappointing', 2019: 'considering', 2020: 'nick', 2021: 'suspicion', 2022: 'heineken', 2023: 'pre', 2024: 'ground', 2025: 'doing', 2026: '20bn', 2027: 'maran', 2028: '74', 2029: 'morgan', 2030: '2007', 2031: 'king', 2032: 'boston', 2033: 'opera', 2034: 'jane', 2035: 'sven', 2036: 'goran', 2037: 'junior', 2038: 'finalist', 2039: 'promotion', 2040: 'estimate', 2041: 'steven', 2042: 'trophy', 2043: 'rafael', 2044: 'dibaba', 2045: '500m', 2046: 'matter', 2047: 'stakes', 2048: 'savoy', 2049: 'rusedski', 2050: 'balfour', 2051: 'beatty', 2052: 'crash', 2053: 'corporate', 2054: 'yantai', 2055: 'processors', 2056: 'phrase', 2057: 'surged', 2058: 'quarterly', 2059: 'heat', 2060: 'attacked', 2061: 'tally', 2062: '80m', 2063: 'gentleman', 2064: 'limited', 2065: 'dinner', 2066: 'birth', 2067: 'brussels', 2068: 'featuring', 2069: '68', 2070: 'portishead', 2071: 'bristol', 2072: 'appeal', 2073: 'comes', 2074: '85', 2075: 'tory', 2076: 'served', 2077: 'mexico', 2078: 'inbev', 2079: 'brewer', 2080: 'alfa', 2081: 'issue', 2082: 'using', 2083: 'google', 2084: 'tool', 2085: 'crowned', 2086: 'create', 2087: 'worldwide', 2088: 'slowing', 2089: 'lock', 2090: 'wooden', 2091: 'spoon', 2092: 'knocked', 2093: '1965', 2094: 'ariary', 2095: 'enjoyed', 2096: '1985', 2097: 'equipment', 2098: 'letwin', 2099: 'cuts', 2100: 'meant', 2101: 'dr', 2102: 'legend', 2103: 'presley', 2104: 'bookmakers', 2105: 'slightly', 2106: 'eurodisney', 2107: 'created', 2108: 'broadcast', 2109: 'culture', 2110: 'sacked', 2111: 'stuart', 2112: 'data', 2113: 'common', 2114: 'quarters', 2115: 'beckham', 2116: 'runners', 2117: 'lords', 2118: 'kinnock', 2119: 'factor', 2120: 'quite', 2121: 'singing', 2122: 'smart', 2123: 'regular', 2124: 'mercedes', 2125: 'shrek', 2126: 'prizes', 2127: 'activity', 2128: 'why', 2129: 'victims', 2130: 'difference', 2131: 'disaster', 2132: 'mind', 2133: 'weight', 2134: 'rodgers', 2135: 'venue', 2136: 'concerned', 2137: 'lyrics', 2138: 'competition', 2139: 'merge', 2140: 'smaller', 2141: 'confidence', 2142: '76', 2143: 'lufthansa', 2144: 'art', 2145: 'robben', 2146: 'hassan', 2147: 'galloway', 2148: 'george', 2149: 'connick', 2150: 'pension', 2151: 'pensions', 2152: 'crisis', 2153: 'facing', 2154: 'commitment', 2155: 'table', 2156: 'mutu', 2157: 'votes', 2158: 'visa', 2159: 'fastest', 2160: 'changes', 2161: 'priority', 2162: 'congress', 2163: 'usa', 2164: 'positions', 2165: 'henry', 2166: 'baros', 2167: 'suggestions', 2168: 'ethnic', 2169: 'improved', 2170: 'carmen', 2171: 'tree', 2172: 'tate', 2173: 'balco', 2174: 'powerful', 2175: 'terry', 2176: '62', 2177: 'adventure', 2178: 'spokeswoman', 2179: 'brc', 2180: 'footwear', 2181: 'worst', 2182: 'venezuelan', 2183: 'extended', 2184: 'operation', 2185: 'amounted', 2186: 'munich', 2187: 'leverkusen', 2188: 'favour', 2189: 'tuc', 2190: 'calling', 2191: 'managed', 2192: 'stern', 2193: 'replaced', 2194: 'longer', 2195: 'significantly', 2196: 'goalkeeper', 2197: 'transfer', 2198: 'window', 2199: 'jamaica', 2200: 'vw', 2201: 'smoking', 2202: 'jumped', 2203: 'naamsa', 2204: 'hingis', 2205: 'crude', 2206: 'barrels', 2207: '80', 2208: 'wipro', 2209: 'build', 2210: 'lord', 2211: 'sainsbury', 2212: 'santa', 2213: 'fcc', 2214: 'schools', 2215: 'hendrix', 2216: 'loved', 2217: 'audrey', 2218: 'da', 2219: 'code', 2220: 'chose', 2221: 'attempts', 2222: 'spyware', 2223: 'toulouse', 2224: 'exxonmobil', 2225: 'hughes', 2226: 'spears', 2227: 'weekly', 2228: 'centres', 2229: 'scrum', 2230: 'capt', 2231: 'replacements', 2232: 'clive', 2233: 'interested', 2234: 'ivory', 2235: 'coast', 2236: 'son', 2237: 'jeeves', 2238: 'reeves', 2239: 'honour', 2240: 'jesse', 2241: 'cml', 2242: 'gross', 2243: 'ba', 2244: 'deep', 2245: 'surface', 2246: 'industrial', 2247: 'burren', 2248: 'manual', 2249: 'widely', 2250: 'expectancy', 2251: 'policy', 2252: 'death', 2253: 'wasn', 2254: '34', 2255: 'though', 2256: 'betts', 2257: 'matthew', 2258: 'treated', 2259: 'shoppers', 2260: 'westminster', 2261: 'solskjaer', 2262: 'fannie', 2263: 'mae', 2264: 'morris', 2265: 'brass', 2266: 'gibraltarians', 2267: 'leaving', 2268: 'white', 2269: 'shaun', 2270: 'carragher', 2271: 'turkcell', 2272: 'pountney', 2273: 'meersseman', 2274: 'hazell', 2275: 'midfielder', 2276: 'fiscal', 2277: 'stallone', 2278: 'supplies', 2279: 'respect', 2280: 'angola', 2281: 'zambia', 2282: 'bwalya', 2283: 'holiff', 2284: 'alicia', 2285: 'bowl', 2286: 'keys', 2287: 'thailand', 2288: 'ospreys', 2289: 'santini', 2290: 'ranieri', 2291: 'beirut', 2292: 'icbc', 2293: 'knight', 2294: 'plastic', 2295: 'coria', 2296: 'pole', 2297: 'vault', 2298: '91m', 2299: 'maroon', 2300: 'achievement', 2301: 'kilroy', 2302: 'silk', 2303: 'grant', 2304: 'else', 2305: 'abroad', 2306: 'kicked', 2307: 'chest', 2308: 'liam', 2309: 'minor', 2310: 'possibly', 2311: 'hotel', 2312: 'pundit', 2313: 'landed', 2314: 'rankings', 2315: 'jumps', 2316: 'stepped', 2317: 'vijver', 2318: 'restated', 2319: 'resignation', 2320: 'g8', 2321: 'gamecube', 2322: 'racing', 2323: 'person', 2324: 'gronkjaer', 2325: 'bruce', 2326: 'terrific', 2327: 'younger', 2328: 'fernando', 2329: 'interests', 2330: 'fantasy', 2331: 'alfonso', 2332: 'tu', 2333: 'tambien', 2334: 'jeff', 2335: 'coalition', 2336: 'response', 2337: 'criticised', 2338: 'efforts', 2339: 'subsidiary', 2340: 't', 2341: 'attention', 2342: 'hyderabad', 2343: 'svetlana', 2344: 'farina', 2345: 'elia', 2346: 'audit', 2347: 'jointly', 2348: 'situation', 2349: 'stakeholders', 2350: 'sotherton', 2351: 'promise', 2352: 'kluft', 2353: 'impressive', 2354: 'ge', 2355: 'sprint', 2356: 'prepared', 2357: 'vozvrashchenie', 2358: 'belleville', 2359: 'rendezvousdirected', 2360: 'andrey', 2361: 'zvyagintsev', 2362: 'lion', 2363: 'venice', 2364: 'deliberations', 2365: 'panel', 2366: 'gillian', 2367: 'critic', 2368: 'clarke', 2369: 'touching', 2370: 'void', 2371: 'mcdonald', 2372: 'ignacio', 2373: 'chela', 2374: 'alarm', 2375: 'cope', 2376: 'boxes', 2377: 'refers', 2378: 'staggering', 2379: 'slowed', 2380: 'denial', 2381: 'subtlety', 2382: 'altered', 2383: 'wearing', 2384: 'masks', 2385: 'fan', 2386: 'busted', 2387: 'verge', 2388: 'wanting', 2389: 'capitalised', 2390: 'craze', 2391: 'catchy', 2392: 'overtones', 2393: 'jennifer', 2394: 'lady', 2395: 'acquire', 2396: 'travelers', 2397: 'â£6', 2398: 'rest', 2399: '96bn', 2400: '6km', 2401: 'kathy', 2402: 'benita', 2403: 'arcy', 2404: 'test', 2405: 'shane', 2406: 'horgan', 2407: 'hayes', 2408: 'ham', 2409: 'replay', 2410: 'bolton', 2411: 'nottingham', 2412: 'burnley', 2413: 'blackburn', 2414: 'ties', 2415: 'drawn', 2416: 'trip', 2417: 'father', 2418: 'studios', 2419: '110', 2420: 'appointed', 2421: 'immigration', 2422: 'iota', 2423: 'arnold', 2424: 'wasp', 2425: 'kumar', 2426: 'lottery', 2427: 'friendly', 2428: 'fortunes', 2429: 'beyond', 2430: 'neil', 2431: 'admits', 2432: 'slight', 2433: 'insists', 2434: 'ambition', 2435: 'spoken', 2436: 'riley', 2437: 'metres', 2438: 'lay', 2439: 'condition', 2440: 'pupils', 2441: 'watchdog', 2442: 'ring', 2443: 'fire', 2444: 'married', 2445: 'popular', 2446: 'sister', 2447: 'heart', 2448: 'callaghan', 2449: 'portfolio', 2450: 'regained', 2451: 'enforcer', 2452: 'participation', 2453: 'base', 2454: 'bupa', 2455: 'present', 2456: 'opinion', 2457: 'jonny', 2458: 'review', 2459: 'doctor', 2460: 'prospects', 2461: 'soldiers', 2462: 'stormed', 2463: 'offering', 2464: 'push', 2465: 'calleri', 2466: 'eighth', 2467: 'atp', 2468: 'justine', 2469: 'henin', 2470: 'hardenne', 2471: 'girlfriend', 2472: 'mantooth', 2473: 'bob', 2474: 'musharraf', 2475: 'papers', 2476: 'inquiry', 2477: 'details', 2478: 'oversubscribed', 2479: 'reuters', 2480: 'gig', 2481: 'mostly', 2482: 'town', 2483: 'oxfam', 2484: 'fair', 2485: 'featured', 2486: 'razorlight', 2487: 'designer', 2488: 'labels', 2489: 'falic', 2490: 'luxury', 2491: 'cosmetics', 2492: 'blackberries', 2493: 'electronic', 2494: 'devices', 2495: 'frowned', 2496: 'debates', 2497: 'ensuring', 2498: 'enforcing', 2499: 'rules', 2500: 'conventions', 2501: 'â£200', 2502: 'pager', 2503: 'send', 2504: 'understand', 2505: 'question', 2506: 'gb', 2507: 'granted', 2508: 'lancaster', 2509: 'provides', 2510: 'cornwall', 2511: 'generating', 2512: 'senior', 2513: '1993', 2514: 'holding', 2515: 'supplier', 2516: 'futures', 2517: 'immediate', 2518: 'resources', 2519: 'anna', 2520: 'keaveney', 2521: 'touch', 2522: 'jackson', 2523: 'numerous', 2524: 'shirley', 2525: 'machine', 2526: 'walkman', 2527: '21st', 2528: 'gamers', 2529: 'waiting', 2530: 'committing', 2531: 'negotiations', 2532: 'ways', 2533: 'killing', 2534: 'fuelled', 2535: 'chicago', 2536: 'cfca', 2537: 'madsen', 2538: 'roles', 2539: 'leader', 2540: 'kennedy', 2541: 'ed', 2542: 'encourage', 2543: 'limit', 2544: 'deadline', 2545: 'lying', 2546: 'haven', 2547: 'belief', 2548: 'warning', 2549: 'purport', 2550: 'recipients', 2551: 'solicitations', 2552: 'engage', 2553: 'sending', 2554: 'questionnaire', 2555: 'infects', 2556: 'constitution', 2557: 'leslie', 2558: 'parliamentary', 2559: 'affairs', 2560: 'threat', 2561: 'tiebreak', 2562: 'concentration', 2563: 'alex', 2564: 'ruing', 2565: 'giveaway', 2566: 'notch', 2567: 'sessions', 2568: 'ana', 2569: 'announcement', 2570: 'natalie', 2571: 'harvey', 2572: 'blazing', 2573: 'janet', 2574: 'porter', 2575: 'sophie', 2576: 'graeme', 2577: 'cairn', 2578: 'approval', 2579: 'investigations', 2580: 'significant', 2581: 'happiness', 2582: 'anger', 2583: 'station', 2584: 'upbeat', 2585: 'steam', 2586: 'purchasing', 2587: 'cips', 2588: 'pace', 2589: 'dramatic', 2590: 'samoa', 2591: 'skill', 2592: 'â£52', 2593: 'payments', 2594: 'partizan', 2595: 'middlesbrough', 2596: 'mean', 2597: 'forces', 2598: 'forum', 2599: 'met', 2600: 'frank', 2601: 'arnesen', 2602: 'giving', 2603: 'victoria', 2604: 'goodrem', 2605: 'idol', 2606: 'ages', 2607: 'datamonitor', 2608: 'trend', 2609: 'teenagers', 2610: 'brands', 2611: 'driver', 2612: 'statistical', 2613: 'violence', 2614: 'dieter', 2615: 'signals', 2616: 'consciousness', 2617: 'revitalised', 2618: 'isn', 2619: 'aren', 2620: 'accounting', 2621: '1984', 2622: 'profited', 2623: 'captured', 2624: 'dismantle', 2625: 'bomb', 2626: 'unforced', 2627: 'makofo', 2628: 'chorley', 2629: 'mckoy', 2630: 'mackie', 2631: 'pacquette', 2632: 'substitute', 2633: 'volley', 2634: 'subs', 2635: 'commemoration', 2636: 'straw', 2637: 'camp', 2638: 'liberation', 2639: 'jews', 2640: 'altogether', 2641: 'qualifiers', 2642: 'ideal', 2643: 'pipeline', 2644: 'finale', 2645: 'telecommunications', 2646: 'bribery', 2647: 'corporation', 2648: 'kerekou', 2649: 'sec', 2650: 'illegally', 2651: 'violating', 2652: 'saliva', 2653: 'bat', 2654: 'normally', 2655: 'grown', 2656: 'started', 2657: 'patches', 2658: 'ie', 2659: 'bulletin', 2660: 'flagged', 2661: 'spates', 2662: 'viruses', 2663: 'classed', 2664: 'adults', 2665: 'supported', 2666: 'hunting', 2667: 'supergrass', 2668: 'idlewild', 2669: 'roxy', 2670: 'ferry', 2671: 'mackay', 2672: 'swank', 2673: 'guild', 2674: 'nominee', 2675: 'attend', 2676: 'ship', 2677: 'consoles', 2678: 'intends', 2679: 'console', 2680: 'andrew', 2681: 'brokers', 2682: 'ups', 2683: 'deutsche', 2684: 'names', 2685: 'mentioned', 2686: 'connection', 2687: 'exel', 2688: 'delivery', 2689: 'threatening', 2690: 'reasons', 2691: 'returning', 2692: 'leaders', 2693: '60m', 2694: 'greene', 2695: '12th', 2696: 'allows', 2697: 'downloadable', 2698: 'wi', 2699: 'fi', 2700: 'attracted', 2701: '940', 2702: 'wireless', 2703: 'broadreach', 2704: 'telephony', 2705: 'hotspots', 2706: 'forthcoming', 2707: 'conferencing', 2708: 'landlines', 2709: 'mobiles', 2710: 'trackers', 2711: 'bittorrent', 2712: 'websites', 2713: 'youth', 2714: 'reverend', 2715: 'unable', 2716: 'wru', 2717: 'funding', 2718: 'representative', 2719: 'chronology', 2720: 'pioneers', 2721: 'affordable', 2722: 'tulip', 2723: 'resurrected', 2724: 'distributor', 2725: 'atari', 2726: 'infogrames', 2727: '105', 2728: 'danny', 2729: 'insist', 2730: 'massive', 2731: 'adriano', 2732: 'anfield', 2733: 'raul', 2734: 'grossed', 2735: 'monumental', 2736: 'embarking', 2737: 'invention', 2738: '90', 2739: 'â£48', 2740: 'banked', 2741: 'â£30', 2742: 'veterans', 2743: 'garfunkel', 2744: 'chernin', 2745: 'quoted', 2746: 'billionaire', 2747: 'reflecting', 2748: 'boosted', 2749: 'tries', 2750: 'character', 2751: 'collapsed', 2752: 'nervous', 2753: 'hero', 2754: 'fame', 2755: '1964', 2756: 'staged', 2757: 'edward', 2758: 'gala', 2759: 'sound', 2760: 'poverty', 2761: 'colombian', 2762: 'confirm', 2763: 'alistair', 2764: 'europeans', 2765: 'brizzel', 2766: '200m', 2767: 'musicians', 2768: 'coltrane', 2769: 'legendary', 2770: 'fetch', 2771: 'memorabilia', 2772: 'items', 2773: 'auctioned', 2774: 'comprehensive', 2775: 'backhand', 2776: 'example', 2777: 'loosen', 2778: 'bamboozled', 2779: 'drop', 2780: 'shots', 2781: 'challenged', 2782: 'pushing', 2783: 'incredible', 2784: 'unemployment', 2785: 'yes', 2786: 'effectively', 2787: 'jobless', 2788: 'political', 2789: 'weather', 2790: 'breaks', 2791: 'sets', 2792: 'ivan', 2793: 'persistent', 2794: 'seles', 2795: 'absentee', 2796: 'rely', 2797: '127th', 2798: 'housewives', 2799: 'lift', 2800: 'channels', 2801: 'bbc1', 2802: 'proportion', 2803: 'slender', 2804: 'dick', 2805: 'moves', 2806: 'sweet', 2807: 'performed', 2808: '1966', 2809: '1969', 2810: 'â£4m', 2811: 'garnier', 2812: 'generics', 2813: 'pierre', 2814: 'clinical', 2815: 'sevastis', 2816: 'ruling', 2817: 'griffin', 2818: 'morning', 2819: 'racial', 2820: 'bail', 2821: 'yorkshire', 2822: 'biarritz', 2823: 'paseo', 2824: 'anoeta', 2825: 'faced', 2826: 'holds', 2827: 'mendelsohn', 2828: 'tarantino', 2829: 'quentin', 2830: 'shooting', 2831: 'las', 2832: 'vegas', 2833: 'persuaded', 2834: '1500m', 2835: 'sweden', 2836: 'highfield', 2837: 'strategy', 2838: 'competitive', 2839: 'serbia', 2840: 'ivanovic', 2841: 'hungarian', 2842: 'czink', 2843: 'spin', 2844: 'eurozone', 2845: 'ft', 2846: 'economies', 2847: 'gerrard', 2848: 'ordered', 2849: 'captain', 2850: 'tirunesh', 2851: '93', 2852: 'seconds', 2853: 'ethiopian', 2854: 'stuttgart', 2855: '89', 2856: 'substantial', 2857: 'fairmont', 2858: 'river', 2859: 'koubek', 2860: 'defeated', 2861: 'greg', 2862: 'blame', 2863: 'producing', 2864: 'ferrero', 2865: 'saving', 2866: 'conservatives', 2867: 'railway', 2868: 'manslaughter', 2869: 'hatfield', 2870: 'maintenance', 2871: 'happened', 2872: 'leeds', 2873: 'tracks', 2874: 'responsibility', 2875: 'changyu', 2876: '61', 2877: 'yuan', 2878: 'likened', 2879: 'electricity', 2880: '53p', 2881: 'relies', 2882: 'solaris', 2883: 'microsystems', 2884: 'requiring', 2885: 'rent', 2886: 'buzz', 2887: 'commodity', 2888: 'hardware', 2889: 'sandino', 2890: 'moreno', 2891: 'actresses', 2892: 'regarded', 2893: 'promising', 2894: 'joshua', 2895: 'colombia', 2896: 'maria', 2897: 'bennett', 2898: 'producers', 2899: 'suddenly', 2900: 'ends', 2901: '98m', 2902: 'carmaker', 2903: 'maruti', 2904: 'booming', 2905: 'vehicles', 2906: 'algeria', 2907: 'remote', 2908: 'blocked', 2909: 'flared', 2910: 'violent', 2911: 'press', 2912: 'revenue', 2913: '48', 2914: 'motors', 2915: 'healthcare', 2916: 'biopic', 2917: 'surpassed', 2918: 'â£43m', 2919: 'rentals', 2920: 'hackford', 2921: 'nomination', 2922: 'edition', 2923: 'bloom', 2924: 'spring', 2925: 'jarre', 2926: 'writer', 2927: 'complex', 2928: 'aspects', 2929: 'eu', 2930: 'hurt', 2931: 'competitiveness', 2932: 'cobain', 2933: 'gone', 2934: 'unedited', 2935: 'barrow', 2936: 'founding', 2937: 'geoff', 2938: 'influential', 2939: 'output', 2940: 'bankers', 2941: 'fare', 2942: 'anthony', 2943: 'meyer', 2944: 'margaret', 2945: '84', 2946: 'remittance', 2947: 'remittances', 2948: 'estimated', 2949: '60', 2950: 'caribbean', 2951: '45bn', 2952: 'â£8', 2953: 'belgium', 2954: 'brazilian', 2955: 'eco', 2956: 'conglomerate', 2957: 'stripped', 2958: 'yahoo', 2959: 'scot', 2960: 'throughout', 2961: 'comic', 2962: 'sectors', 2963: 'italians', 2964: 'skipper', 2965: 'marco', 2966: 'bortolami', 2967: 'scrappy', 2968: 'decider', 2969: 'boogeyman', 2970: 'hide', 2971: 'flight', 2972: 'teen', 2973: 'nationwide', 2974: 'franc', 2975: 'colonial', 2976: 'address', 2977: 'francs', 2978: 'drink', 2979: 'dollars', 2980: 'expanding', 2981: 'â£4bn', 2982: 'policies', 2983: '11th', 2984: 'taxes', 2985: 'borrowing', 2986: 'eager', 2987: 'vivancos', 2988: 'slashed', 2989: 'respectively', 2990: 'east', 2991: 'priced', 2992: 'site', 2993: 'turning', 2994: 'hoddle', 2995: 'unveiled', 2996: 'suggesting', 2997: 'brink', 2998: 'charvis', 2999: 'hooker', 3000: 'picking', 3001: 'ligament', 3002: 'bondi', 3003: 'bond', 3004: 'auditors', 3005: 'advisors', 3006: 'damages', 3007: 'mass', 3008: 'cases', 3009: 'separately', 3010: 'means', 3011: 'acceptance', 3012: 'seat', 3013: 'democratic', 3014: 'appointment', 3015: 'susan', 3016: 'auditor', 3017: 'theme', 3018: 'tune', 3019: 'beverly', 3020: 'hillbillies', 3021: 'western', 3022: 'reid', 3023: 'accepted', 3024: 'plus', 3025: 'snow', 3026: 'patrol', 3027: 'cordes', 3028: 'models', 3029: 'consistently', 3030: 'libya', 3031: 'regan', 3032: 'omar', 3033: 'ben', 3034: 'wrong', 3035: 'cueto', 3036: 'emergency', 3037: 'contribution', 3038: 'relay', 3039: 'missing', 3040: 'linford', 3041: 'christie', 3042: '86', 3043: 'caprice', 3044: 'warren', 3045: 'lush', 3046: 'kenzie', 3047: 'dean', 3048: 'sex', 3049: 'adrian', 3050: 'sahara', 3051: 'develop', 3052: 'initially', 3053: 'pavey', 3054: '8km', 3055: 'weakened', 3056: 'meltdown', 3057: 'sinatra', 3058: 'punk', 3059: 'telethon', 3060: 'boxing', 3061: 'performers', 3062: 'carried', 3063: 'networks', 3064: 'arjen', 3065: 'psv', 3066: 'mrs', 3067: 'prominent', 3068: 'necessary', 3069: '1990', 3070: 'adler', 3071: 'publication', 3072: 'solve', 3073: 'eased', 3074: 'measuring', 3075: 'disciplinary', 3076: 'rfu', 3077: 'deciding', 3078: 'conflict', 3079: 'carlton', 3080: 'cole', 3081: 'broken', 3082: 'watch', 3083: 'eaa', 3084: 'federations', 3085: 'vital', 3086: 'evening', 3087: 'application', 3088: 'closely', 3089: 'falls', 3090: 'digit', 3091: 'bounced', 3092: 'strongly', 3093: 'deadly', 3094: 'sars', 3095: 'advance', 3096: 'boro', 3097: 'awaited', 3098: 'contact', 3099: 'shoulder', 3100: 'internationals', 3101: 'emotional', 3102: 'fifa', 3103: 'blatter', 3104: 'ac', 3105: 'retired', 3106: 'forced', 3107: 'rib', 3108: 'czech', 3109: 'quitting', 3110: 'industries', 3111: 'independent', 3112: 'explored', 3113: 'northern', 3114: 'korean', 3115: 'bear', 3116: 'u', 3117: 'messages', 3118: 'sculptor', 3119: 'light', 3120: 'gallery', 3121: 'invited', 3122: 'decades', 3123: 'walliams', 3124: 'manson', 3125: 'target', 3126: 'mother', 3127: 'douglas', 3128: 'founder', 3129: 'venerable', 3130: 'forbes', 3131: 'image', 3132: 'passport', 3133: 'screens', 3134: 'strictly', 3135: 'eurovision', 3136: '50th', 3137: 'broadcasting', 3138: 'ukrainian', 3139: 'generally', 3140: 'stores', 3141: 'consortium', 3142: 'housing', 3143: 'retailers', 3144: 'chavez', 3145: 'venezuela', 3146: 'import', 3147: 'exchange', 3148: 'agricultural', 3149: 'samurai', 3150: 'cruise', 3151: 'â£70', 3152: 'accounted', 3153: 'surge', 3154: 'howl', 3155: 'moving', 3156: 'castle', 3157: 'â£102m', 3158: '211bn', 3159: '08bn', 3160: '497bn', 3161: '54bn', 3162: 'porto', 3163: 'werder', 3164: 'bremen', 3165: 'bayer', 3166: 'lyon', 3167: 'twickenham', 3168: 'laporte', 3169: 'submission', 3170: 'springer', 3171: 'thoday', 3172: 'rights', 3173: 'scoring', 3174: 'marks', 3175: 'alliance', 3176: 'daimlerchrysler', 3177: 'tight', 3178: 'lipped', 3179: 'insider', 3180: 'pointed', 3181: 'denying', 3182: 'agenda', 3183: 'transport', 3184: 'employers', 3185: 'membership', 3186: 'oust', 3187: 'starace', 3188: 'habits', 3189: 'argues', 3190: 'active', 3191: 'entitled', 3192: 'asymmetry', 3193: 'aol', 3194: 'upload', 3195: 'content', 3196: 'sites', 3197: '1973', 3198: 'lehmann', 3199: 'recall', 3200: 'spell', 3201: 'favoured', 3202: 'robbie', 3203: 'wars', 3204: 'pg', 3205: 'baywatch', 3206: 'nicole', 3207: 'reality', 3208: 'debts', 3209: 'andhra', 3210: 'pradesh', 3211: 'performing', 3212: 'land', 3213: 'registry', 3214: 'confirming', 3215: 'slowdown', 3216: 'iea', 3217: 'seeded', 3218: 'dane', 3219: 'endured', 3220: 'pulling', 3221: 'â£52m', 3222: 'identified', 3223: 'determined', 3224: 'events', 3225: 'expecting', 3226: 'donation', 3227: 'vision', 3228: 'prosperity', 3229: 'crown', 3230: 'seville', 3231: 'medical', 3232: 'dre', 3233: 'approached', 3234: 'roche', 3235: 'chambers', 3236: 'guy', 3237: 'steroid', 3238: 'connections', 3239: 'ending', 3240: '23', 3241: 'works', 3242: 'hansard', 3243: 'across', 3244: 'initiative', 3245: 'jimi', 3246: 'joe', 3247: 'fender', 3248: 'stratocaster', 3249: 'dedicated', 3250: 'hammer', 3251: 'jeunet', 3252: 'mainstream', 3253: 'preferring', 3254: 'critically', 3255: 'acclaimed', 3256: 'dirty', 3257: 'mile', 3258: 'widespread', 3259: 'malicious', 3260: 'bankash', 3261: 'hardcourt', 3262: 'adelaide', 3263: 'alone', 3264: 'fockers', 3265: 'festive', 3266: 'setting', 3267: 'blamed', 3268: 'aviator', 3269: 'beige', 3270: 'britney', 3271: 'magazines', 3272: 'pregnant', 3273: 'permission', 3274: 'coverage', 3275: 'rhys', 3276: 'wigglesworth', 3277: 'helens', 3278: 'convicted', 3279: 'child', 3280: 'standby', 3281: 'evacuate', 3282: 'nightmare', 3283: 'completely', 3284: 'nogar', 3285: 'rca', 3286: 'reel', 3287: '17m', 3288: 'format', 3289: 'comedian', 3290: 'pasquale', 3291: 'herself', 3292: 'bit', 3293: 'gatlin', 3294: 'outstanding', 3295: 'struggled', 3296: 'praise', 3297: 'shoes', 3298: 'baby', 3299: 'flying', 3300: 'â£21', 3301: 'purchases', 3302: 'halt', 3303: 'heathrow', 3304: 'jeddah', 3305: 'operates', 3306: 'cameron', 3307: 'mackintosh', 3308: 'â£9m', 3309: 'slide', 3310: 'fits', 3311: 'itv', 3312: 'secured', 3313: 'lowest', 3314: 'handling', 3315: 'criticism', 3316: 'pollard', 3317: 'prestigious', 3318: 'securities', 3319: 'subject', 3320: 'egypt', 3321: 'presence', 3322: '8m', 3323: 'haile', 3324: 'gebrselassie', 3325: 'unskilled', 3326: '71', 3327: '79', 3328: 'ppi', 3329: 'understated', 3330: 'aaliyah', 3331: 'twin', 3332: 'sandoz', 3333: 'generic', 3334: 'involvement', 3335: 'reggae', 3336: 'gay', 3337: 'jailed', 3338: 'sunderland', 3339: 'curbishley', 3340: 'subjected', 3341: 'needs', 3342: 'martinez', 3343: 'bulgarian', 3344: 'suffolk', 3345: 'attended', 3346: 'beattie', 3347: 'alleged', 3348: 'gerard', 3349: 'jugnot', 3350: 'chorus', 3351: 'depardieu', 3352: '45m', 3353: 'le', 3354: 'engagement', 3355: 'cesar', 3356: 'putting', 3357: 'earning', 3358: 'portsmouth', 3359: 'somebody', 3360: 'eurotunnel', 3361: 'ports', 3362: 'factual', 3363: 'filing', 3364: 'kenya', 3365: 'stamford', 3366: 'weaken', 3367: 'declining', 3368: 'tulu', 3369: 'robocop', 3370: 'health', 3371: 'gdp', 3372: 'dividends', 3373: 'indoors', 3374: 'owners', 3375: 'klinsmann', 3376: 'dreams', 3377: 'speak', 3378: 'fishing', 3379: 'auctions', 3380: 'versace', 3381: 'marsh', 3382: 'bewlay', 3383: 'disappointment', 3384: 'allardyce', 3385: 'impress', 3386: 'awkward', 3387: 'organised', 3388: 'freddie', 3389: 'psa', 3390: 'comment', 3391: 'withdrawal', 3392: 'shareholder', 3393: '2km', 3394: 'satire', 3395: 'today', 3396: 'ericsson', 3397: 'royce', 3398: 'holloway', 3399: 'signing', 3400: 'r', 3401: 'recalled', 3402: 'reliance', 3403: 'ambani', 3404: 'serious', 3405: 'hain', 3406: 'leaked', 3407: 'mansfield', 3408: 'barnard', 3409: 'rovers', 3410: 'bowen', 3411: 'netherlands', 3412: 'probably', 3413: 'tell', 3414: 'aefa', 3415: 'accept', 3416: 'cover', 3417: 'upson', 3418: 'bridge', 3419: 'partnership', 3420: 'coaching', 3421: 'pointon', 3422: 'generous', 3423: 'soderling', 3424: 'stepanek', 3425: 'anglo', 3426: 'iressa', 3427: 'survival', 3428: 'dawson', 3429: 'grewcock', 3430: 'moody', 3431: 'mladenovic', 3432: 'closure', 3433: 'evicted', 3434: 'brennan', 3435: 'lusaka', 3436: 'boix', 3437: 'vives', 3438: 'quiksilver', 3439: 'shark', 3440: 'tale', 3441: 'id', 3442: 'assistance', 3443: 'excluding', 3444: 'canadian', 3445: 'goals', 3446: 'murambadoro', 3447: 'sakhnin', 3448: 'â£4', 3449: 'sorrell', 3450: 'raiwalui', 3451: 'russell', 3452: 'kalman', 3453: 'inspired', 3454: 'stay', 3455: 'condom', 3456: 'globes', 3457: 'hopman', 3458: 'feliciano', 3459: 'lopez', 3460: 'davydenko', 3461: 'deflation', 3462: 'babayaro', 3463: 'closing', 3464: 'volvo', 3465: 'pattaya', 3466: 'rowell', 3467: 'neath', 3468: 'swansea', 3469: 'rap', 3470: 'indecency', 3471: 'fine', 3472: 'sad', 3473: 'property', 3474: 'square', 3475: 'polar', 3476: 'claus', 3477: 'vabres', 3478: 'lebanese', 3479: '10km', 3480: 'shakur', 3481: 'marijuana', 3482: 'solidere', 3483: 'lebanon', 3484: 'guidant', 3485: 'casinos', 3486: 'dead', 3487: 'prodigy', 3488: 'museum', 3489: 'genius', 3490: 'loves', 3491: 'yelena', 3492: 'thrilling', 3493: 'jumping', 3494: 'seem', 3495: 'nrj', 3496: 'blue', 3497: 'jenifer', 3498: 'gong', 3499: 'elephunk', 3500: 'â£143', 3501: 'seeker', 3502: 'veritas', 3503: 'amnesty', 3504: 'deport', 3505: 'â£500m', 3506: 'refugees', 3507: 'argued', 3508: 'â£2bn', 3509: 'applicants', 3510: 'officers', 3511: 'amounts', 3512: 'alcohol', 3513: 'cocaine', 3514: 'teeth', 3515: 'abandoning', 3516: 'oasis', 3517: 'â£35', 3518: 'â£522', 3519: 'stated', 3520: 'receiving', 3521: 'fooled', 3522: 'inquire', 3523: 'boynton', 3524: 'revelation', 3525: 'inflated', 3526: 'watts', 3527: 'der', 3528: 'locked', 3529: 'repayments', 3530: 'wealthy', 3531: 'affected', 3532: 'â£3bn', 3533: 'proposed', 3534: 'originality', 3535: 'singstar', 3536: 'bongo', 3537: 'rhythm', 3538: 'donkey', 3539: 'konga', 3540: 'burnout', 3541: 'halo', 3542: 'xbox', 3543: 'persia', 3544: 'warrior', 3545: 'adjudged', 3546: 'audio', 3547: 'duty', 3548: 'finest', 3549: 'hitman', 3550: 'shooter', 3551: 'bafta', 3552: 'jesper', 3553: 'atletico', 3554: 'blues', 3555: 'sarcastically', 3556: 'applauded', 3557: 'someone', 3558: 'daughter', 3559: 'stature', 3560: 'attentions', 3561: 'anelka', 3562: 'reluctant', 3563: 'pledge', 3564: 'scupper', 3565: 'snap', 3566: 'â£7m', 3567: 'realistic', 3568: 'princess', 3569: 'erotic', 3570: 'nature', 3571: 'interpretation', 3572: 'alike', 3573: 'robinov', 3574: 'effect', 3575: 'parallel', 3576: 'undermine', 3577: 'moral', 3578: 'coordinating', 3579: 'boast', 3580: 'clare', 3581: 'consolidating', 3582: 'trailblazer', 3583: 'qwest', 3584: 'subscribers', 3585: 'serving', 3586: 'sania', 3587: 'remarkable', 3588: 'silvia', 3589: 'jankovic', 3590: 'prevent', 3591: 'destroying', 3592: 'careers', 3593: 'worse', 3594: 'coping', 3595: 'physically', 3596: 'demanding', 3597: 'displayed', 3598: 'jade', 3599: 'stockholm', 3600: 'galan', 3601: 'heptathlon', 3602: 'carolina', 3603: 'admiration', 3604: 'eric', 3605: 'selhurst', 3606: 'incident', 3607: 'palace', 3608: 'nixon', 3609: 'prior', 3610: 'discussions', 3611: 'shareholders', 3612: 'advised', 3613: 'buys', 3614: 'investments', 3615: 'citigroup', 3616: 'annuity', 3617: '901m', 3618: 'purchase', 3619: 'larger', 3620: 'romped', 3621: 'edith', 3622: 'masai', 3623: '51st', 3624: 'zornotza', 3625: 'amorebieta', 3626: 'attractions', 3627: 'edinburghinternational', 3628: 'undergo', 3629: 'maggs', 3630: 'tbc', 3631: 'hickie', 3632: 'gara', 3633: 'stringer', 3634: 'corrigan', 3635: 'byrne', 3636: 'connell', 3637: 'easterby', 3638: 'connor', 3639: 'foley', 3640: 'driscoll', 3641: 'recover', 3642: 'londoners', 3643: 'providing', 3644: 'hammers', 3645: 'bromwich', 3646: 'albion', 3647: 'brentford', 3648: 'hartlepool', 3649: 'megson', 3650: 'brom', 3651: 'competed', 3652: 'crucible', 3653: 'boxer', 3654: 'scorsese', 3655: 'gangs', 3656: 'oldest', 3657: 'honoured', 3658: 'shochiku', 3659: 'cinematic', 3660: 'institution', 3661: 'berlinale', 3662: 'camera', 3663: 'mckendry', 3664: 'ashvin', 3665: 'sundance', 3666: 'andrea', 3667: 'congratulated', 3668: 'spends', 3669: 'filmmaking', 3670: 'preference', 3671: 'restore', 3672: 'respectability', 3673: 'outline', 3674: 'ideas', 3675: 'nation', 3676: 'qualification', 3677: 'appears', 3678: 'anxious', 3679: 'remainder', 3680: 'differently', 3681: 'concedes', 3682: 'cis', 3683: 'knows', 3684: 'renew', 3685: 'resolved', 3686: 'kilometres', 3687: 'louise', 3688: 'damen', 3689: 'contingent', 3690: 'glynn', 3691: 'tromans', 3692: 'reigning', 3693: 'continues', 3694: 'hashemian', 3695: 'motivated', 3696: 'physical', 3697: 'pain', 3698: 'judo', 3699: 'arash', 3700: 'miresmaeili', 3701: 'reward', 3702: 'nationality', 3703: 'notion', 3704: 'hardly', 3705: 'occurred', 3706: 'olds', 3707: 'icm', 3708: 'interviewed', 3709: 'ofsted', 3710: 'unrequited', 3711: 'wife', 3712: 'anita', 3713: 'kilgore', 3714: 'diagnosed', 3715: 'penned', 3716: 'dear', 3717: '1959', 3718: 'currentily', 3719: 'agio', 3720: 'tindall', 3721: 'entire', 3722: 'greenwood', 3723: 'certain', 3724: 'specialist', 3725: 'fracture', 3726: 'mid', 3727: 'kemp', 3728: 'billionaires', 3729: 'â£800m', 3730: 'undervalues', 3731: 'cubic', 3732: 'expression', 3733: 'block', 3734: 'utd', 3735: 'glazer', 3736: 'stalking', 3737: 'eminem', 3738: 'toy', 3739: 'tourist', 3740: 'toppling', 3741: 'button', 3742: 'fundraiser', 3743: 'grief', 3744: 'grows', 3745: 'agustin', 3746: 'jiri', 3747: 'novak', 3748: 'alberto', 3749: 'albert', 3750: 'montanes', 3751: 'ousted', 3752: 'filippo', 3753: 'volandri', 3754: 'meets', 3755: 'mariano', 3756: 'puerta', 3757: 'overcoming', 3758: 'felix', 3759: 'mantilla', 3760: 'defending', 3761: 'begins', 3762: 'quest', 3763: 'karol', 3764: 'beck', 3765: 'bye', 3766: 'dechy', 3767: 'motley', 3768: 'crue', 3769: 'mick', 3770: 'repeatedly', 3771: 'ceased', 3772: 'allen', 3773: 'underwent', 3774: 'contained', 3775: 'policing', 3776: 'safety', 3777: 'compromised', 3778: 'promptly', 3779: 'contain', 3780: 'detailed', 3781: 'gen', 3782: 'pervez', 3783: 'codes', 3784: 'containing', 3785: 'pakistani', 3786: 'euan', 3787: 'stamping', 3788: 'rapidly', 3789: 'snapped', 3790: 'anticipated', 3791: 'equity', 3792: 'scissor', 3793: 'sisters', 3794: 'virgin', 3795: 'compiled', 3796: 'newcomers', 3797: 'hammersmith', 3798: 'apollo', 3799: 'rem', 3800: 'coldplay', 3801: 'haute', 3802: 'couture', 3803: 'wear', 3804: 'purchased', 3805: 'unspecified', 3806: 'sum', 3807: 'lacroix', 3808: 'label', 3809: 'zara', 3810: 'peters', 3811: 'aides', 3812: 'bodies', 3813: 'questioned', 3814: 'voluntarily', 3815: 'beijing', 3816: 'repay', 3817: '220m', 3818: 'â£117m', 3819: '550m', 3820: 'chen', 3821: 'jiulin', 3822: 'cao', 3823: 'changi', 3824: 'airport', 3825: 'heavily', 3826: 'frost', 3827: 'hospital', 3828: 'marie', 3829: 'runcorn', 3830: 'cheshire', 3831: 'valentine', 3832: 'hitzlsperger', 3833: 'learn', 3834: 'asking', 3835: 'assurances', 3836: 'stalled', 3837: 'reason', 3838: 'outcome', 3839: 'happens', 3840: 'governmental', 3841: 'chilean', 3842: 'analyzing', 3843: 'stable', 3844: 'substitutes', 3845: 'reduction', 3846: 'export', 3847: 'patricio', 3848: 'cartagena', 3849: 'giamatti', 3850: 'haden', 3851: 'southeastern', 3852: 'accolade', 3853: 'associations', 3854: 'alexander', 3855: 'screenplay', 3856: 'polls', 3857: 'frontbenchers', 3858: 'davey', 3859: 'relax', 3860: 'restrictions', 3861: 'ownership', 3862: 'changed', 3863: '1983', 3864: 'kinds', 3865: 'permit', 3866: 'modern', 3867: 'principles', 3868: 'sticking', 3869: 'liberalisation', 3870: 'weir', 3871: 'statements', 3872: 'predictions', 3873: 'suspensions', 3874: 'badly', 3875: 'â£80m', 3876: 'constitutional', 3877: 'avoiding', 3878: 'idefence', 3879: 'notified', 3880: 'upgrade', 3881: 'affects', 3882: 'os', 3883: 'versions', 3884: 'solves', 3885: 'jukebox', 3886: 'clearly', 3887: 'ruffled', 3888: 'disputed', 3889: 'jaslyn', 3890: 'rupee', 3891: 'grade', 3892: 'bbb', 3893: 's', 3894: 'borrowers', 3895: 'creditworthiness', 3896: 'lifted', 3897: 'bb', 3898: 'javier', 3899: 'bardem', 3900: 'annette', 3901: 'bening', 3902: 'geislerova', 3903: 'paralysed', 3904: 'measures', 3905: 'secures', 3906: '1230', 3907: 'appleton', 3908: 'walked', 3909: 'bushtucker', 3910: 'contestants', 3911: 'evictions', 3912: 'anderton', 3913: 'jungle', 3914: 'discussing', 3915: 'understands', 3916: 'interview', 3917: 'magpies', 3918: 'discovery', 3919: 'volumes', 3920: 'extend', 3921: 'string', 3922: 'elevated', 3923: 'listed', 3924: 'stepping', 3925: 'glass', 3926: 'menagerie', 3927: 'understudy', 3928: 'joey', 3929: 'joins', 3930: 'replacing', 3931: 'dallas', 3932: 'tennessee', 3933: 'rave', 3934: 'reviews', 3935: 'flew', 3936: 'cuckoo', 3937: 'nest', 3938: 'experiencing', 3939: 'religious', 3940: 'awakening', 3941: 'hardcore', 3942: 'welch', 3943: 'kids', 3944: 'listen', 3945: 'bakersfield', 3946: 'chartered', 3947: 'pmi', 3948: 'slowest', 3949: 'dented', 3950: 'metals', 3951: 'irb', 3952: 'sevens', 3953: 'plate', 3954: 'tunisia', 3955: 'shield', 3956: 'opponents', 3957: 'â£42m', 3958: 'â£38', 3959: 'deposit', 3960: 'lazio', 3961: 'villarreal', 3962: 'finalists', 3963: 'belgrade', 3964: 'respond', 3965: 'positively', 3966: 'sit', 3967: 'diack', 3968: 'task', 3969: 'coaches', 3970: 'ordinate', 3971: 'sided', 3972: 'road', 3973: 'dementieva', 3974: 'display', 3975: 'pepsi', 3976: 'whilst', 3977: 'bagged', 3978: 'idiot', 3979: 'shannon', 3980: 'noll', 3981: 'sexiest', 3982: 'â£775', 3983: 'pester', 3984: 'stump', 3985: 'particularly', 3986: 'experiment', 3987: 'beauty', 3988: 'routines', 3989: 'youngsters', 3990: 'expansion', 3991: 'tourism', 3992: 'rebound', 3993: 'imports', 3994: 'signalling', 3995: 'expanded', 3996: 'quieter', 3997: 'palestinian', 3998: 'healthsouth', 3999: 'employees', 4000: 'lawyers', 4001: 'deceived', 4002: 'alabama', 4003: 'participated', 4004: 'prosecutor', 4005: 'alice', 4006: 'keane', 4007: 'titled', 4008: 'streets', 4009: 'q', 4010: 'mood', 4011: 'atomic', 4012: 'sounded', 4013: 'amankwaah', 4014: 'coles', 4015: 'fortune', 4016: 'anyinsah', 4017: 'doherty', 4018: 'harley', 4019: 'dinning', 4020: 'bell', 4021: 'cotterill', 4022: 'gillespie', 4023: 'bevan', 4024: 'oyedele', 4025: 'ntimban', 4026: 'zeh', 4027: 'crooks', 4028: 'puncheon', 4029: 'kamara', 4030: 'herve', 4031: 'tapp', 4032: 'dons', 4033: 'serge', 4034: 'netted', 4035: 'orr', 4036: 'ancram', 4037: 'shamed', 4038: '60th', 4039: 'nazi', 4040: 'apologised', 4041: 'soviets', 4042: 'perished', 4043: 'holocaust', 4044: 'preparation', 4045: 'witnessed', 4046: 'kerr', 4047: '54th', 4048: 'qualifier', 4049: 'tel', 4050: 'aviv', 4051: 'blackadder', 4052: 'poignant', 4053: 'farewell', 4054: 'different', 4055: 'ranging', 4056: '15th', 4057: 'dome', 4058: 'greenwich', 4059: 'bskyb', 4060: 'admitting', 4061: 'funnelling', 4062: 'mathieu', 4063: 'unnamed', 4064: 'falsifying', 4065: 'derived', 4066: 'vampire', 4067: '70m', 4068: 'â£49m', 4069: 'desmoteplase', 4070: 'protein', 4071: 'paion', 4072: 'teenager', 4073: 'jocelyn', 4074: 'stoker', 4075: 'devon', 4076: 'diva', 4077: 'discovered', 4078: 'audition', 4079: 'greenberg', 4080: '801', 4081: '63', 4082: 'thirds', 4083: 'mori', 4084: 'countryfile', 4085: 'isle', 4086: 'wight', 4087: 'bryan', 4088: 'manzerana', 4089: '1971', 4090: 'eno', 4091: 'manzanera', 4092: 'joining', 4093: 'screen', 4094: 'actors', 4095: 'ceremonies', 4096: 'staunton', 4097: 'vera', 4098: 'drake', 4099: 'baftas', 4100: 'hilary', 4101: 'luncheon', 4102: 'shipment', 4103: 'device', 4104: '188', 4105: 'â£98', 4106: 'sells', 4107: 'â£78', 4108: 'beh', 4109: 'ing', 4110: 'bidders', 4111: '950p', 4112: 'bidding', 4113: 'parcel', 4114: 'bidder', 4115: 'dhl', 4116: 'imminent', 4117: 'antwerp', 4118: 'marry', 4119: 'currencies', 4120: 'ease', 4121: 'highs', 4122: 'culprit', 4123: 'soaring', 4124: 'pegged', 4125: 'burden', 4126: 'maurice', 4127: 'leonard', 4128: 'cleared', 4129: '88m', 4130: 'hands', 4131: 'statistic', 4132: 'fewer', 4133: 'bodes', 4134: 'cooperative', 4135: 'legally', 4136: 'listing', 4137: 'functioning', 4138: 'introducing', 4139: 'clamp', 4140: 'unauthorised', 4141: 'sue', 4142: 'facilitate', 4143: 'downloading', 4144: 'suing', 4145: 'quicker', 4146: 'suffer', 4147: 'downturn', 4148: 'link', 4149: 'casualty', 4150: 'reorganisation', 4151: 'eldon', 4152: 'shame', 4153: 'fixtures', 4154: 'properly', 4155: 'mawson', 4156: 'travis', 4157: 'mkandawire', 4158: 'pitman', 4159: 'purdie', 4160: 'mills', 4161: '83', 4162: 'stansfield', 4163: '102', 4164: 'equalised', 4165: 'hosts', 4166: 'crisp', 4167: 'penalty', 4168: 'rigoglioso', 4169: 'prospective', 4170: 'bernabeu', 4171: 'attractive', 4172: 'propostition', 4173: 'kicking', 4174: 'tires', 4175: 'rupert', 4176: 'murdoch', 4177: 'eyeing', 4178: 'tags', 4179: 'proving', 4180: 'fun', 4181: 'x', 4182: 'cube', 4183: 'martyn', 4184: 'nanny', 4185: '69', 4186: 'humpty', 4187: 'dumpty', 4188: '1948', 4189: 'trillion', 4190: 'pesos', 4191: 'earmarked', 4192: 'subsidies', 4193: '36', 4194: 'aside', 4195: 'study', 4196: 'reforms', 4197: 'leibovich', 4198: 'corkman', 4199: 'midweek', 4200: 'ballymena', 4201: 'hopefuls', 4202: 'guernsey', 4203: 'instruments', 4204: 'benny', 4205: 'goodman', 4206: 'saxophone', 4207: 'â£535', 4208: 'devoted', 4209: 'tape', 4210: 'recordings', 4211: 'handwritten', 4212: 'sheet', 4213: 'composers', 4214: 'theolonius', 4215: 'monk', 4216: 'troncon', 4217: 'psychologically', 4218: 'unemployed', 4219: 'zdf', 4220: '037', 4221: 'subsidised', 4222: 'schemes', 4223: 'embarrassing', 4224: 'cursing', 4225: 'umpire', 4226: 'incredibly', 4227: 'frustrating', 4228: 'halted', 4229: 'intervened', 4230: 'slumped', 4231: 'interrupted', 4232: 'seal', 4233: 'innocent', 4234: 'lose', 4235: 'enhancing', 4236: 'apply', 4237: 'victor', 4238: 'applegate', 4239: 'gwen', 4240: 'verdon', 4241: 'maclaine', 4242: 'previews', 4243: 'absorbed', 4244: 'managing', 4245: 'terms', 4246: 'discontinued', 4247: 'experimental', 4248: 'treatment', 4249: 'obesity', 4250: '771', 4251: 'sprinters', 4252: 'federation', 4253: 'vassilli', 4254: 'kenteris', 4255: 'thanou', 4256: 'bosses', 4257: 'reponse', 4258: 'twelfth', 4259: 'documentary', 4260: 'incitement', 4261: 'hatred', 4262: 'spokesperson', 4263: 'tyndall', 4264: 'brighton', 4265: 'speech', 4266: 'lancashire', 4267: 'keighley', 4268: 'freed', 4269: 'munster', 4270: 'switched', 4271: 'sebastian', 4272: 'ulster', 4273: 'euskarians', 4274: 'whereas', 4275: 'parc', 4276: 'des', 4277: 'aguilera', 4278: '667', 4279: 'forensic', 4280: 'location', 4281: 'pulp', 4282: 'fiction', 4283: 'carol', 4284: 'bugs', 4285: 'â£10', 4286: 'dayanidhi', 4287: 'armstrong', 4288: 'cl', 4289: 'associates', 4290: 'highfields', 4291: 'transformation', 4292: 'eliminate', 4293: 'transparency', 4294: 'uniquely', 4295: 'damaging', 4296: 'entrenched', 4297: 'strengthening', 4298: 'il', 4299: 'divo', 4300: 'eponymous', 4301: 'greatest', 4302: 'exciting', 4303: 'magnificent', 4304: 'praised', 4305: 'strikers', 4306: 'jimmy', 4307: 'floyd', 4308: 'hasselbaink', 4309: 'viduka', 4310: 'barren', 4311: 'keeps', 4312: 'melinda', 4313: 'canberra', 4314: 'lucky', 4315: 'loser', 4316: 'katarina', 4317: 'srebotnik', 4318: 'withdrew', 4319: 'envelope', 4320: 'investigators', 4321: 'packs', 4322: 'reaction', 4323: 'promoting', 4324: 'standards', 4325: 'contacted', 4326: 'cease', 4327: 'ny', 4328: 'draft', 4329: 'published', 4330: 'deterioration', 4331: 'responded', 4332: 'arriving', 4333: 'carling', 4334: 'cardiff', 4335: 'ambitions', 4336: 'mistake', 4337: 'erase', 4338: 'berhane', 4339: 'adera', 4340: 'battled', 4341: '41', 4342: '42', 4343: 'hotels', 4344: 'resorts', 4345: 'manage', 4346: 'strand', 4347: 'seasons', 4348: 'invest', 4349: '48m', 4350: 'â£26m', 4351: 'renovating', 4352: 'parts', 4353: 'room', 4354: 'suites', 4355: 'views', 4356: 'thames', 4357: 'combining', 4358: 'investor', 4359: 'alwaleed', 4360: 'bin', 4361: 'talal', 4362: 'hbos', 4363: 'decisive', 4364: 'rubber', 4365: 'injection', 4366: 'treat', 4367: 'traces', 4368: 'substance', 4369: 'squeezing', 4370: 'mikhail', 4371: 'youzhny', 4372: 'errors', 4373: 'advantage', 4374: 'campaigned', 4375: 'slogan', 4376: '36m', 4377: '13m', 4378: 'meps', 4379: 'â£10m', 4380: 'millionaire', 4381: 'sykes', 4382: 'bankroll', 4383: 'billboard', 4384: 'managers', 4385: 'faces', 4386: 'upkeep', 4387: 'hertfordshire', 4388: 'accident', 4389: '115', 4390: 'mph', 4391: 'derailed', 4392: 'cracked', 4393: 'section', 4394: 'railtrack', 4395: 'eastern', 4396: 'consumption', 4397: 'litres', 4398: 'capita', 4399: 'illva', 4400: 'saronno', 4401: 'liqueur', 4402: 'catalina', 4403: 'rare', 4404: 'marston', 4405: 'scoured', 4406: 'grace', 4407: 'jury', 4408: 'choose', 4409: 'charlize', 4410: 'theron', 4411: 'monster', 4412: 'tied', 4413: 'circle', 4414: 'hamilton', 4415: 'festen', 4416: 'rufus', 4417: 'norris', 4418: 'theatregoers', 4419: 'diana', 4420: 'rigg', 4421: 'judi', 4422: 'dench', 4423: 'rsc', 4424: 'samuel', 4425: 'barnett', 4426: '39bn', 4427: '32m', 4428: '41bn', 4429: '33bn', 4430: '874', 4431: 'sharp', 4432: 'luring', 4433: 'cheap', 4434: 'efficient', 4435: 'utility', 4436: 'tractor', 4437: 'mahindra', 4438: 'butane', 4439: 'homes', 4440: 'cook', 4441: 'mountain', 4442: 'demonstrators', 4443: 'regions', 4444: 'roads', 4445: 'buildings', 4446: 'overturned', 4447: 'newspapers', 4448: 'el', 4449: 'watan', 4450: 'riots', 4451: 'maghnia', 4452: 'border', 4453: 'morocco', 4454: 'afp', 4455: '193bn', 4456: 'revenues', 4457: '630m', 4458: 'â£481', 4459: 'formally', 4460: 'hometown', 4461: 'odense', 4462: 'supermodel', 4463: 'helena', 4464: 'christensen', 4465: 'ambassador', 4466: 'michel', 4467: 'copenhagen', 4468: 'bicentennial', 4469: 'fairy', 4470: 'tales', 4471: 'timeless', 4472: 'visited', 4473: 'read', 4474: 'ugly', 4475: 'duckling', 4476: 'recognizes', 4477: 'darker', 4478: 'authorship', 4479: 'frederik', 4480: 'tabled', 4481: 'g7', 4482: 'passed', 4483: 'consultation', 4484: 'courtney', 4485: 'widow', 4486: 'kurt', 4487: 'wrangles', 4488: 'centred', 4489: 'gems', 4490: 'unplugged', 4491: 'biographer', 4492: 'mercury', 4493: 'dummy', 4494: 'tsumani', 4495: 'confirmation', 4496: 'became', 4497: 'deeply', 4498: 'scant', 4499: 'naresh', 4500: 'goya', 4501: 'controls', 4502: '1990s', 4503: '050', 4504: 'backbencher', 4505: 'thatcher', 4506: 'leadership', 4507: '1920', 4508: 'educated', 4509: 'eton', 4510: 'college', 4511: 'oxford', 4512: 'scots', 4513: 'guards', 4514: '1941', 4515: 'wounded', 4516: 'tanks', 4517: 'normandy', 4518: 'transactions', 4519: 'value', 4520: '327', 4521: 'represent', 4522: 'estimates', 4523: 'labourers', 4524: 'living', 4525: '82bn', 4526: 'ambev', 4527: 'brewing', 4528: '259', 4529: '353', 4530: 'â£183', 4531: '75m', 4532: 'breweries', 4533: 'cities', 4534: 'klin', 4535: 'ivanovo', 4536: 'saransk', 4537: 'kursk', 4538: 'volzhsky', 4539: 'omsk', 4540: 'perm', 4541: 'novocheboksarsk', 4542: 'beermaker', 4543: 'venture', 4544: 'wada', 4545: 'substances', 4546: 'timescale', 4547: 'denies', 4548: 'increasingly', 4549: 'crowded', 4550: 'touting', 4551: 'entered', 4552: 'fray', 4553: 'releasing', 4554: 'toolbar', 4555: 'explorer', 4556: 'browser', 4557: 'gelete', 4558: 'burka', 4559: 'elsewhere', 4560: 'abebe', 4561: 'dinkessa', 4562: 'completing', 4563: 'ines', 4564: 'monteiro', 4565: 'halfway', 4566: 'beginning', 4567: 'marvellous', 4568: 'paramount', 4569: 'spawn', 4570: 'stan', 4571: 'evans', 4572: 'superhero', 4573: 'sequel', 4574: 'â£857m', 4575: 'hulk', 4576: 'norbert', 4577: 'ore', 4578: 'increases', 4579: 'shortages', 4580: 'surveyed', 4581: 'adjusted', 4582: 'horror', 4583: 'niro', 4584: 'thriller', 4585: 'entries', 4586: 'remake', 4587: 'phoenix', 4588: 'harold', 4589: 'munchies', 4590: 'debuted', 4591: 'cheadle', 4592: 'okonedo', 4593: 'â£507', 4594: '596', 4595: 'madagascar', 4596: 'malagasy', 4597: 'ocean', 4598: 'island', 4599: 'phasing', 4600: 'begun', 4601: 'intended', 4602: 'counterfeit', 4603: 'circulation', 4604: '893', 4605: 'underlying', 4606: 'confectionery', 4607: 'trident', 4608: 'halls', 4609: 'soft', 4610: 'schweppes', 4611: 'disc', 4612: 'footage', 4613: 'raising', 4614: 'famine', 4615: 'economists', 4616: 'oliver', 4617: 'cause', 4618: 'prosper', 4619: 'conference', 4620: 'voting', 4621: 'choosing', 4622: 'waste', 4623: 'fox', 4624: 'characterised', 4625: 'fool', 4626: '001st', 4627: '000th', 4628: 'reissued', 4629: 'fill', 4630: 'collector', 4631: 'equal', 4632: '60secs', 4633: 'kronberg', 4634: 'dorival', 4635: 'clocked', 4636: '62secs', 4637: '63secs', 4638: '64secs', 4639: 'ran', 4640: '04secs', 4641: 'definitely', 4642: 'curve', 4643: 'certainly', 4644: 'challenging', 4645: 'kilbride', 4646: 'felipe', 4647: 'equalled', 4648: 'cents', 4649: 'mickey', 4650: 'mouse', 4651: '253m', 4652: 'â£175m', 4653: '328m', 4654: 'insolvency', 4655: 'attraction', 4656: 'walt', 4657: '1992', 4658: 'redmond', 4659: 'hollyoaks', 4660: 'grange', 4661: 'serial', 4662: '1978', 4663: 'creator', 4664: 'defunct', 4665: 'cbe', 4666: 'glenn', 4667: 'succeeded', 4668: 'caretaker', 4669: 'gray', 4670: 'applied', 4671: 'unsuccessfully', 4672: 'hesitant', 4673: 'definition', 4674: 'negative', 4675: 'sized', 4676: 'contraction', 4677: 'teetered', 4678: 'colin', 4679: 'physio', 4680: 'hal', 4681: 'raring', 4682: 'victories', 4683: 'mcbryde', 4684: 'administrator', 4685: 'turnaround', 4686: 'expert', 4687: 'enrico', 4688: 'banker', 4689: '136m', 4690: 'relating', 4691: 'proceeding', 4692: '12bn', 4693: 'slowly', 4694: 'expressed', 4695: 'passage', 4696: 'knockout', 4697: 'phase', 4698: 'advocates', 4699: 'achieve', 4700: 'peerage', 4701: 'reservations', 4702: '10k', 4703: 'puerto', 4704: 'rico', 4705: 'races', 4706: 'judge', 4707: 'barred', 4708: 'italaudit', 4709: 'thornton', 4710: 'lawsuits', 4711: 'prosecution', 4712: 'deloitte', 4713: 'touche', 4714: 'remembered', 4715: 'daugher', 4716: 'misel', 4717: 'tired', 4718: 'sing', 4719: 'arthur', 4720: 'â£8m', 4721: 'â£3m', 4722: 'â£5m', 4723: 'paddy', 4724: 'casey', 4725: 'collected', 4726: 'meteor', 4727: 'accolades', 4728: 'westlife', 4729: 'mcfadden', 4730: 'juliette', 4731: 'dealerships', 4732: 'dealer', 4733: 'marque', 4734: 'benz', 4735: '06', 4736: 'eckhard', 4737: 'annies', 4738: 'empty', 4739: 'greater', 4740: 'spongebob', 4741: 'squarepants', 4742: 'brittany', 4743: 'withdrawn', 4744: 'frozen', 4745: 'libyan', 4746: 'tripoli', 4747: 'imposed', 4748: 'ronald', 4749: '1986', 4750: 'deemed', 4751: 'terrorist', 4752: '1988', 4753: 'lockerbie', 4754: 'size', 4755: 'farhat', 4756: 'gadaravice', 4757: 'whistle', 4758: 'grounded', 4759: 'bundled', 4760: 'offside', 4761: 'technique', 4762: 'cuff', 4763: 'puzzled', 4764: 'disallowed', 4765: 'contribute', 4766: 'unicef', 4767: 'tamil', 4768: 'nadu', 4769: 'donated', 4770: 'â£28', 4771: 'pledges', 4772: 'donate', 4773: '4x100m', 4774: 'frustration', 4775: 'individual', 4776: 'preparations', 4777: 'icon', 4778: 'getting', 4779: 'broadening', 4780: 'shed', 4781: '91kg', 4782: '9kg', 4783: 'hopefully', 4784: 'hottest', 4785: 'holby', 4786: 'jeremy', 4787: 'anson', 4788: 'emerge', 4789: 'tear', 4790: 'arkansas', 4791: 'university', 4792: 'brisk', 4793: 'fullness', 4794: 'joy', 4795: 'references', 4796: 'demeaning', 4797: 'jonesboro', 4798: 'haul', 4799: 'routes', 4800: 'stoke', 4801: 'drives', 4802: 'chadha', 4803: 'delhi', 4804: 'reporter', 4805: 'nigerian', 4806: 'boards', 4807: 'separate', 4808: 'yesterday', 4809: 'institutions', 4810: 'clinched', 4811: 'keska', 4812: 'contests', 4813: '12km', 4814: 'hickey', 4815: 'amidst', 4816: 'tankan', 4817: 'nikkei', 4818: '488', 4819: 'optimism', 4820: 'contrast', 4821: 'pessimism', 4822: 'community', 4823: 'posting', 4824: 'dividend', 4825: 'preliminary', 4826: '527', 4827: '61m', 4828: 'â£274', 4829: '73m', 4830: '984m', 4831: 'signs', 4832: 'teetering', 4833: 'patti', 4834: 'artistic', 4835: 'smiths', 4836: 'appearances', 4837: 'birkin', 4838: 'nancy', 4839: 'playwright', 4840: 'explore', 4841: 'salute', 4842: 'aesthetically', 4843: 'spiritually', 4844: 'dolls', 4845: 'reunion', 4846: 'nbc', 4847: 'terror', 4848: 'inspirational', 4849: 'einhoven', 4850: 'abducted', 4851: 'baghdad', 4852: 'activist', 4853: 'intermediary', 4854: 'appealed', 4855: 'kidnapped', 4856: 'expelled', 4857: 'staunch', 4858: 'jr', 4859: '1950s', 4860: 'pajama', 4861: 'emile', 4862: 'zola', 4863: 'therese', 4864: 'raquin', 4865: 'thou', 4866: 'shalt', 4867: 'jeffrey', 4868: 'richards', 4869: 'enormous', 4870: 'charisma', 4871: 'bona', 4872: 'fide', 4873: 'writing', 4874: 'includes', 4875: 'numbers', 4876: 'branded', 4877: 'inadequate', 4878: 'proposals', 4879: 'combination', 4880: 'inputs', 4881: '67', 4882: '58', 4883: 'completes', 4884: 'livid', 4885: 'disallow', 4886: 'criticising', 4887: 'confidential', 4888: 'investigate', 4889: 'lodge', 4890: 'complaint', 4891: 'refereed', 4892: 'mediating', 4893: 'obligatory', 4894: 'conciliation', 4895: 'solution', 4896: 'machines', 4897: 'underground', 4898: 'acceptable', 4899: 'darius', 4900: 'vassell', 4901: 'emergence', 4902: 'luke', 4903: 'moore', 4904: 'alleviated', 4905: 'challenge', 4906: 'disgraced', 4907: 'resume', 4908: 'fiorentina', 4909: 'declined', 4910: 'gutsy', 4911: 'scooped', 4912: 'writers', 4913: 'senegalese', 4914: 'youssou', 4915: 'dour', 4916: 'highlights', 4917: 'sage', 4918: 'gateshead', 4919: 'televised', 4920: 'sometimes', 4921: 'dismiss', 4922: 'feared', 4923: 'abused', 4924: 'leigh', 4925: 'worrying', 4926: 'tension', 4927: 'quick', 4928: 'proper', 4929: 'visas', 4930: 'clearance', 4931: 'surely', 4932: 'toughened', 4933: 'tightened', 4934: 'morrison', 4935: 'scans', 4936: 'substituted', 4937: 'graz', 4938: 'ak', 4939: 'equaliser', 4940: 'kick', 4941: 'lisbon', 4942: '2115', 4943: 'repair', 4944: 'hernia', 4945: 'injuring', 4946: 'bicep', 4947: 'falcons', 4948: 'disrupted', 4949: 'muscle', 4950: 'sidelines', 4951: 'sustained', 4952: 'aggravating', 4953: 'haematoma', 4954: 'upper', 4955: 'limiting', 4956: 'andreas', 4957: 'reducing', 4958: 'bonds', 4959: 'dating', 4960: 'declare', 4961: '1979', 4962: 'albums', 4963: 'partially', 4964: 'springsteen', 4965: 'stones', 4966: 'rescue', 4967: 'graceland', 4968: 'ragovoy', 4969: '1968', 4970: '2008', 4971: 'efficiencies', 4972: '163', 4973: 'focused', 4974: 'sepp', 4975: 'thierry', 4976: 'shortlist', 4977: 'ronaldinho', 4978: 'newly', 4979: 'footballer', 4980: 'andriy', 4981: 'shevchenko', 4982: 'regain', 4983: 'prinz', 4984: 'personality', 4985: 'marseille', 4986: 'hand', 4987: 'cage', 4988: 'caused', 4989: 'shock', 4990: 'nalbandian', 4991: 'mystified', 4992: 'bench', 4993: 'thoughts', 4994: 'upon', 4995: 'omission', 4996: 'mel', 4997: 'barriers', 4998: 'succeeding', 4999: 'actions', 5000: 'communication', 5001: 'teag', 5002: 'erfurt', 5003: 'leipzig', 5004: '46', 5005: 'delivered', 5006: 'cold', 5007: 'sparkassen', 5008: 'im', 5009: 'kwon', 5010: 'taek', 5011: 'honorary', 5012: 'bizet', 5013: 'translated', 5014: 'xhosa', 5015: 'reception', 5016: 'ekhayelitsha', 5017: 'khayelitsha', 5018: 'dornford', 5019: 'cannes', 5020: 'chihwaseon', 5021: 'unwrapped', 5022: 'wentworth', 5023: 'decorating', 5024: 'plates', 5025: 'bulbs', 5026: 'text', 5027: '17th', 5028: 'dress', 5029: 'spruce', 5030: 'antenna', 5031: 'bluetooth', 5032: 'texts', 5033: 'visitors', 5034: 'reputation', 5035: 'teachers', 5036: 'michelle', 5037: 'lodged', 5038: 'arbitration', 5039: 'cas', 5040: 'francisco', 5041: 'laboratory', 5042: 'rocked', 5043: 'patterns', 5044: 'observed', 5045: 'urine', 5046: 'tests', 5047: 'listings', 5048: 'risers', 5049: 'presenting', 5050: 'duo', 5051: 'ant', 5052: 'dec', 5053: 'fry', 5054: 'controller', 5055: 'byrds', 5056: 'ry', 5057: 'cooder', 5058: 'beach', 5059: 'circulated', 5060: 'killer', 5061: 'doris', 5062: 'charitable', 5063: 'activities', 5064: 'discounted', 5065: 'pointing', 5066: 'malibu', 5067: 'produce', 5068: 'diamond', 5069: 'robbery', 5070: 'shailendra', 5071: 'singh', 5072: 'percept', 5073: 'crucial', 5074: 'aishwarya', 5075: 'rai', 5076: 'bride', 5077: 'prejudice', 5078: 'preferred', 5079: 'swashbuckling', 5080: 'romancing', 5081: 'stone', 5082: 'kathleen', 5083: 'sagging', 5084: 'hiatus', 5085: 'vaunted', 5086: 'sugar', 5087: 'absent', 5088: 'lyle', 5089: 'businessman', 5090: 'iain', 5091: 'scanned', 5092: 'dimensions', 5093: 'participants', 5094: 'images', 5095: 'performer', 5096: 'bioware', 5097: 'auditions', 5098: 'cast', 5099: 'canada', 5100: 'wide', 5101: 'characters', 5102: 'vaughan', 5103: 'denise', 5104: 'outen', 5105: 'paradise', 5106: 'graham', 5107: 'norton', 5108: 'dance', 5109: 'fever', 5110: 'concentrating', 5111: 'dancing', 5112: 'phenomenally', 5113: 'kiev', 5114: 'ruslana', 5115: 'bargain', 5116: 'hunters', 5117: 'reverted', 5118: 'accountants', 5119: 'kpmg', 5120: 'uncertainty', 5121: 'toll', 5122: 'nestor', 5123: 'kirchner', 5124: 'hugo', 5125: 'buenos', 5126: 'aires', 5127: 'overcome', 5128: 'severe', 5129: '240m', 5130: 'petrobras', 5131: 'formalised', 5132: 'pdvsa', 5133: 'enarsa', 5134: 'hat', 5135: 'qualified', 5136: 'unhappy', 5137: 'eindhoven', 5138: 'rosenborg', 5139: 'drawing', 5140: 'internazionale', 5141: 'dream', 5142: 'bernard', 5143: 'scared', 5144: 'marcoussis', 5145: 'decent', 5146: 'brendan', 5147: 'barber', 5148: 'trades', 5149: 'stem', 5150: 'reviewing', 5151: 'doren', 5152: 'gravesen', 5153: 'zidane', 5154: '84th', 5155: 'mate', 5156: 'torres', 5157: 'athletico', 5158: '67th', 5159: 'holland', 5160: 'piled', 5161: 'outright', 5162: 'division', 5163: 'resulted', 5164: 'ally', 5165: 'unprofitable', 5166: 'clay', 5167: 'forehands', 5168: 'delayed', 5169: 'compatriot', 5170: 'potito', 5171: 'gaston', 5172: 'gaudio', 5173: 'unseeded', 5174: 'flavio', 5175: 'saretta', 5176: 'mix', 5177: 'twins', 5178: 'hazel', 5179: 'phinnaeus', 5180: 'julia', 5181: 'charlotte', 5182: 'oprah', 5183: 'winfrey', 5184: 'goose', 5185: 'cleese', 5186: 'sheep', 5187: 'buscemi', 5188: 'rat', 5189: 'arsene', 5190: 'manuel', 5191: 'almunia', 5192: 'prone', 5193: 'mistakes', 5194: 'forever', 5195: 'voters', 5196: 'melancholy', 5197: 'anthem', 5198: 'monty', 5199: 'python', 5200: 'bright', 5201: 'angels', 5202: 'britons', 5203: 'funeral', 5204: 'advising', 5205: 'scenes', 5206: 'unsuitable', 5207: '13s', 5208: 'restrictive', 5209: 'parental', 5210: 'guidance', 5211: 'ratings', 5212: 'classified', 5213: 'equivalent', 5214: '12a', 5215: 'suitable', 5216: 'surf', 5217: 'numbingly', 5218: 'predictable', 5219: 'scripts', 5220: 'beachgoer', 5221: 'drowning', 5222: 'dukes', 5223: 'hazzard', 5224: 'jamaican', 5225: 'regaining', 5226: 'ailing', 5227: 'difficulties', 5228: 'carriers', 5229: '560m', 5230: 'â£291m', 5231: 'administration', 5232: 'committed', 5233: 'viable', 5234: 'catalyst', 5235: 'factory', 5236: '250', 5237: 'acres', 5238: 'b', 5239: 'satyanarayana', 5240: 'memorandum', 5241: 'accusing', 5242: 'covering', 5243: 'deny', 5244: 'conspired', 5245: 'promote', 5246: 'defraud', 5247: 'manipulated', 5248: 'nicotine', 5249: 'addiction', 5250: 'multi', 5251: 'campaigns', 5252: 'lied', 5253: 'dangers', 5254: 'ignored', 5255: 'contrary', 5256: 'altria', 5257: 'reynolds', 5258: 'gains', 5259: '449', 5260: '603', 5261: 'automobile', 5262: 'internationally', 5263: 'rapid', 5264: 'â£180', 5265: '126', 5266: 'â£178', 5267: '906', 5268: 'nationally', 5269: 'odpm', 5270: 'surveys', 5271: 'halifax', 5272: 'undergoing', 5273: 'thaliand', 5274: 'barrel', 5275: 'stockpiles', 5276: '294', 5277: 'opec', 5278: 'outstrip', 5279: 'americans', 5280: 'survived', 5281: 'scares', 5282: 'employed', 5283: 'lobs', 5284: 'unsettle', 5285: '88th', 5286: 'kenneth', 5287: 'carlsen', 5288: 'sealing', 5289: 'hyung', 5290: 'taik', 5291: 'patient', 5292: 'waited', 5293: 'expectations', 5294: 'turnover', 5295: 'design', 5296: 'tolerate', 5297: 'manic', 5298: 'preachers', 5299: 'helm', 5300: 'questions', 5301: 'mailed', 5302: 'bag', 5303: 'worlds', 5304: 'exception', 5305: 'individually', 5306: 'birchfield', 5307: 'harrier', 5308: 'realise', 5309: '1974', 5310: 'ultimately', 5311: 'unaware', 5312: 'milburn', 5313: 'blitz', 5314: 'commentators', 5315: 'science', 5316: 'â£2m', 5317: 'gift', 5318: 'buck', 5319: 'stabbing', 5320: 'lifetime', 5321: 'seated', 5322: 'autograph', 5323: 'punching', 5324: 'ensuing', 5325: 'scuffle', 5326: 'stabbed', 5327: 'dragged', 5328: 'vibe', 5329: 'kenard', 5330: 'gibbs', 5331: 'sickening', 5332: 'lundgren', 5333: 'darren', 5334: 'cahill', 5335: 'casual', 5336: 'dwain', 5337: 'reverse', 5338: 'harsh', 5339: 'testing', 5340: 'anabolic', 5341: 'thg', 5342: 'suspension', 5343: 'connected', 5344: '38', 5345: 'extremely', 5346: 'valuable', 5347: 'matters', 5348: 'rafferty', 5349: 'colleges', 5350: 'participating', 5351: 'electoral', 5352: 'skills', 5353: 'guitar', 5354: 'â£100', 5355: 'guitars', 5356: 'kenenisa', 5357: 'stranger', 5358: 'overhauling', 5359: 'arena', 5360: 'aiming', 5361: 'compatriots', 5362: 'mulugeta', 5363: 'wondimu', 5364: 'abiyote', 5365: 'abate', 5366: 'markos', 5367: 'geneti', 5368: 'medallist', 5369: '3000m', 5370: 'joachim', 5371: 'restrained', 5372: 'assessment', 5373: 'rated', 5374: 'contender', 5375: 'scheme', 5376: 'qatargas', 5377: 'lng', 5378: 'â£9', 5379: '796', 5380: 'cinemas', 5381: 'expand', 5382: 'reserve', 5383: 'fed', 5384: 'firmed', 5385: 'districts', 5386: 'wage', 5387: 'pressures', 5388: 'false', 5389: 'tabloid', 5390: 'questioning', 5391: 'honesty', 5392: 'letter', 5393: 'tabloids', 5394: 'offenders', 5395: 'clashed', 5396: 'honeymoon', 5397: 'unrepentant', 5398: 'publish', 5399: 'dictate', 5400: 'hanley', 5401: 'mayor', 5402: 'hercus', 5403: 'redpath', 5404: 'roddam', 5405: 'schofield', 5406: 'caillet', 5407: 'chabal', 5408: 'bozzi', 5409: 'coutts', 5410: 'anglesea', 5411: 'lund', 5412: 'martens', 5413: 'duffy', 5414: 'kel', 5415: 'coslett', 5416: 'famously', 5417: '1960s', 5418: 'griffiths', 5419: 'defensive', 5420: 'rhinos', 5421: 'clinic', 5422: 'portugal', 5423: 'bacon', 5424: 'paedophile', 5425: 'amma', 5426: 'asante', 5427: 'fipresci', 5428: 'aaltra', 5429: 'belgian', 5430: 'handicapped', 5431: 'sutherland', 5432: 'caouette', 5433: 'tarnation', 5434: 'kassell', 5435: 'molester', 5436: 'rebuild', 5437: 'jail', 5438: 'troops', 5439: 'hundred', 5440: 'citizens', 5441: 'nationals', 5442: 'peacekeepers', 5443: 'chirac', 5444: 'destruction', 5445: 'peacekeeping', 5446: 'colony', 5447: 'laurent', 5448: 'gbagbo', 5449: 'ceasefire', 5450: 'rebels', 5451: 'bombing', 5452: 'yourself', 5453: 'marat', 5454: 'titles', 5455: 'sudden', 5456: '1956', 5457: '1957', 5458: 'engineer', 5459: 'ass', 5460: 'saver', 5461: 'competes', 5462: 'kilometre', 5463: 'outsprinted', 5464: 'thank', 5465: 'dwarfed', 5466: '204m', 5467: '187m', 5468: 'tipping', 5469: 'resurgence', 5470: 'neither', 5471: 'nor', 5472: 'doubleclick', 5473: 'thrilled', 5474: 'relatively', 5475: 'william', 5476: 'hague', 5477: 'notwithstanding', 5478: 'sheila', 5479: 'troublemaker', 5480: 'folllowing', 5481: 'established', 5482: '1981', 5483: '1936', 5484: 'annually', 5485: 'justin', 5486: 'joanna', 5487: 'usatf', 5488: 'hell', 5489: 'hadn', 5490: 'scores', 5491: 'eddie', 5492: 'heaped', 5493: 'stutter', 5494: 'rome', 5495: 'posted', 5496: '261', 5497: 'â£135', 5498: '6m', 5499: '179', 5500: 'nike', 5501: 'converse', 5502: 'sneakers', 5503: 'gear', 5504: 'unusually', 5505: 'clint', 5506: 'eastwood', 5507: 'quirky', 5508: 'daggers', 5509: 'yimou', 5510: 'zhang', 5511: 'stood', 5512: 'â£17', 5513: 'bba', 5514: 'lenders', 5515: 'bsa', 5516: 'boyle', 5517: 'constant', 5518: 'journeys', 5519: 'â£7', 5520: 'regulation', 5521: 'artificially', 5522: 'depressed', 5523: 'thus', 5524: 'flattering', 5525: 'approvals', 5526: 'reinforces', 5527: 'impression', 5528: 'steadily', 5529: 'insight', 5530: 'archer', 5531: 'commenting', 5532: 'boe', 5533: 'author', 5534: 'pamela', 5535: 'travers', 5536: 'cried', 5537: 'lavish', 5538: 'standing', 5539: 'ovation', 5540: 'impresario', 5541: 'blend', 5542: 'natured', 5543: 'pledged', 5544: 'introduce', 5545: 'halve', 5546: 'submit', 5547: 'lows', 5548: 'fuelling', 5549: 'strict', 5550: 'discipline', 5551: 'non', 5552: 'recommissioned', 5553: 'towards', 5554: 'predict', 5555: 'cowell', 5556: 'style', 5557: 'judges', 5558: 'defended', 5559: 'robbed', 5560: 'punished', 5561: 'welcome', 5562: 'nigel', 5563: 'gutful', 5564: 'persuade', 5565: 'knowledge', 5566: 'speeded', 5567: 'worthy', 5568: 'detained', 5569: 'milk', 5570: 'investigated', 5571: 'embezzlement', 5572: 'wondered', 5573: 'befall', 5574: 'revelations', 5575: 'wrongdoing', 5576: 'zheng', 5577: 'junhuai', 5578: 'inner', 5579: 'mongolia', 5580: 'custody', 5581: 'intense', 5582: 'smashed', 5583: 'outlets', 5584: 'bombarded', 5585: 'bono', 5586: 'phenomenal', 5587: 'potentially', 5588: 'lucrative', 5589: 'coup', 5590: 'secure', 5591: 'guarantees', 5592: 'quality', 5593: 'bedford', 5594: 'occasions', 5595: 'illustrious', 5596: 'largely', 5597: 'social', 5598: 'class', 5599: 'measured', 5600: '65', 5601: '81', 5602: 'appeals', 5603: 'blackground', 5604: 'wrongful', 5605: 'plane', 5606: 'crashed', 5607: 'bahamas', 5608: 'engined', 5609: 'cessna', 5610: 'overloaded', 5611: '700', 5612: '320kg', 5613: 'drugmaker', 5614: '65bn', 5615: 'acquisitions', 5616: 'departments', 5617: 'adding', 5618: 'overtake', 5619: 'teva', 5620: 'pharmaceuticals', 5621: 'hexal', 5622: 'counting', 5623: 'kooyong', 5624: 'comfortable', 5625: 'feeling', 5626: 'cramping', 5627: 'blisters', 5628: 'stomach', 5629: 'venus', 5630: 'swearing', 5631: 'yard', 5632: 'taskforce', 5633: 'examining', 5634: 'campaigners', 5635: 'larne', 5636: 'negotiate', 5637: 'heard', 5638: 'lad', 5639: 'faith', 5640: 'jonatan', 5641: 'nowhere', 5642: 'thermal', 5643: 'risen', 5644: 'feed', 5645: 'starved', 5646: 'flotation', 5647: 'conchita', 5648: 'roberta', 5649: 'doha', 5650: 'slovakian', 5651: 'daniela', 5652: 'magdaleena', 5653: 'maleeva', 5654: 'elena', 5655: 'bovina', 5656: 'clinching', 5657: 'thanks', 5658: 'jerzy', 5659: 'costly', 5660: 'pity', 5661: 'unlucky', 5662: 'nicholas', 5663: 'coastal', 5664: 'disclosures', 5665: 'anglian', 5666: 'attendance', 5667: 'woodbridge', 5668: 'branch', 5669: 'merseyside', 5670: 'declared', 5671: 'assault', 5672: '77m', 5673: 'figaro', 5674: '35m', 5675: '31m', 5676: 'godzilla', 5677: 'reno', 5678: '55m', 5679: 'anybody', 5680: 'apart', 5681: 'lots', 5682: 'brady', 5683: 'announcing', 5684: 'intention', 5685: '04', 5686: 'eclac', 5687: '1980', 5688: '14bn', 5689: 'mining', 5690: 'kewell', 5691: 'mandic', 5692: 'herald', 5693: '789m', 5694: '03bn', 5695: 'â£548m', 5696: 'editor', 5697: 'randall', 5698: 'step', 5699: 'truck', 5700: 'containers', 5701: 'destined', 5702: 'moments', 5703: 'programmes', 5704: 'sharapova', 5705: 'triumph', 5706: 'pinsent', 5707: 'rowing', 5708: 'sight', 5709: 'correspondent', 5710: 'jennie', 5711: 'dozens', 5712: 'rats', 5713: 'crawling', 5714: 'itself', 5715: 'placings', 5716: 'registration', 5717: 'document', 5718: 'frightening', 5719: 'â£600', 5720: 'stolen', 5721: 'mugged', 5722: 'mugging', 5723: 'travelling', 5724: 'sudan', 5725: 'grantham', 5726: 'notoriously', 5727: 'dangerous', 5728: 'nairobi', 5729: 'ballooning', 5730: 'easiest', 5731: 'depreciation', 5732: 'traded', 5733: '364', 5734: '1800', 5735: 'ecb', 5736: 'criminals', 5737: 'puts', 5738: 'suspicions', 5739: 'innuendoes', 5740: 'sacrifice', 5741: 'trumped', 5742: 'easier', 5743: 'scientific', 5744: 'route', 5745: 'derartu', 5746: 'caledonian', 5747: 'tokyo', 5748: 'marathons', 5749: 'decorated', 5750: 'competitors', 5751: 'turnbull', 5752: 'herlihy', 5753: '1955', 5754: 'ceo', 5755: 'omni', 5756: '1987', 5757: 'mill', 5758: 'packard', 5759: 'peaks', 5760: 'marlon', 5761: 'brando', 5762: 'waterfront', 5763: '19th', 5764: 'jailhouse', 5765: '999th', 5766: '1000th', 5767: 'remix', 5768: 'apparent', 5769: 'shortfall', 5770: 'flash', 5771: 'indicators', 5772: 'leaves', 5773: 'hitting', 5774: 'slip', 5775: 'seasonal', 5776: 'flock', 5777: 'statistics', 5778: 'ons', 5779: 'presents', 5780: 'explain', 5781: 'leap', 5782: 'translate', 5783: 'hurdler', 5784: 'sarah', 5785: 'regime', 5786: 'pays', 5787: 'ipod', 5788: '79p', 5789: '70p', 5790: 'downloaded', 5791: 'unwilling', 5792: 'alive', 5793: 'sought', 5794: 'protection', 5795: '200', 5796: 'attendants', 5797: 'bankrupt', 5798: 'survive', 5799: 'cutting', 5800: 'â£530m', 5801: '94m', 5802: 'liquidating', 5803: 'concessions', 5804: 'middle', 5805: '11bn', 5806: 'oao', 5807: 'telesystems', 5808: '17bn', 5809: 'collaboration', 5810: 'phenomenon', 5811: 'langdon', 5812: 'murder', 5813: 'ancient', 5814: 'protected', 5815: 'secrets', 5816: 'centuries', 5817: 'reuniting', 5818: 'whodunit', 5819: 'surrounding', 5820: 'holy', 5821: 'grail', 5822: 'mythology', 5823: 'emphasis', 5824: 'symbols', 5825: 'cryptography', 5826: 'finnie', 5827: 'representatives', 5828: 'environment', 5829: 'rural', 5830: 'touring', 5831: 'talking', 5832: 'aim', 5833: 'peterhead', 5834: 'fraserburgh', 5835: 'allocated', 5836: 'quota', 5837: 'finding', 5838: 'mission', 5839: 'gather', 5840: 'contemporary', 5841: 'paintings', 5842: 'housed', 5843: 'storey', 5844: 'townhouse', 5845: 'murdered', 5846: 'fashion', 5847: 'gianni', 5848: 'roy', 5849: 'lichtenstein', 5850: 'warhol', 5851: 'henri', 5852: 'matisse', 5853: 'pleading', 5854: 'stemming', 5855: 'ongoing', 5856: 'malpractice', 5857: 'spitzer', 5858: 'rigged', 5859: 'fixed', 5860: 'sharing', 5861: 'stefan', 5862: 'schilbe', 5863: 'hsbc', 5864: 'trinkaus', 5865: 'burkhardt', 5866: 'contracted', 5867: 'sluggish', 5868: 'returns', 5869: 'watson', 5870: 'relayed', 5871: 'anastasia', 5872: 'myskina', 5873: 'sam', 5874: 'roma', 5875: 'vincent', 5876: 'candela', 5877: 'nicky', 5878: 'hunt', 5879: 'blessing', 5880: 'disguise', 5881: 'experienced', 5882: 'pedigree', 5883: 'ole', 5884: 'gunnar', 5885: 'aftenposten', 5886: 'millwall', 5887: 'hristo', 5888: 'stoichkov', 5889: 'bulgaria', 5890: 'hearts', 5891: 'livingston', 5892: 'overly', 5893: 'neill', 5894: 'â£24m', 5895: 'willian', 5896: 'didier', 5897: 'cech', 5898: 'ferreira', 5899: 'carvalho', 5900: 'tiago', 5901: 'makelele', 5902: 'lampard', 5903: 'gudjohnsen', 5904: 'restate', 5905: 'watchdogs', 5906: 'strengthen', 5907: 'supervision', 5908: 'probe', 5909: 'books', 5910: 'incorrect', 5911: 'peugeot', 5912: 'citroen', 5913: 'perhaps', 5914: 'nissan', 5915: '5000m', 5916: 'eliud', 5917: 'kipchoge', 5918: 'gavin', 5919: 'mccormick', 5920: '4km', 5921: 'retain', 5922: 'shocked', 5923: 'sitcom', 5924: 'spoof', 5925: 'sketch', 5926: 'jam', 5927: 'paedophilia', 5928: 'sparked', 5929: 'write', 5930: 'nathan', 5931: 'barley', 5932: 'cult', 5933: '19bn', 5934: 'â£722m', 5935: 'optimistic', 5936: 'climbed', 5937: '131', 5938: '117', 5939: 'displaced', 5940: 'arrival', 5941: 'queens', 5942: 'preston', 5943: 'complete', 5944: 'permanently', 5945: 'ipswich', 5946: 'ian', 5947: 'risk', 5948: 'sovereignty', 5949: 'gibraltar', 5950: 'counterpart', 5951: 'miguel', 5952: 'moratinos', 5953: 'establish', 5954: 'summit', 5955: 'kent', 5956: 'chevening', 5957: 'counter', 5958: 'struggle', 5959: 'controlling', 5960: 'fractious', 5961: 'dhirubhai', 5962: 'mukesh', 5963: 'liberal', 5964: 'democrat', 5965: 'chunk', 5966: 'describe', 5967: 'breach', 5968: 'confidentiality', 5969: 'chancellors', 5970: 'leaks', 5971: 'sylvia', 5972: 'heal', 5973: 'concern', 5974: 'immediately', 5975: 'tribute', 5976: 'nebraska', 5977: 'personalities', 5978: 'memorial', 5979: 'lived', 5980: 'tributes', 5981: 'profound', 5982: 'influence', 5983: 'theater', 5984: 'condemned', 5985: 'ninth', 5986: 'harrison', 5987: 'lockwood', 5988: 'donny', 5989: 'saah', 5990: 'carlisle', 5991: 'ibehre', 5992: 'orient', 5993: 'chased', 5994: 'clear', 5995: 'header', 5996: 'pilkington', 5997: 'trim', 5998: 'cartilage', 5999: 'guessing', 6000: 'reckon', 6001: 'maybe', 6002: 'amoruso', 6003: 'availability', 6004: 'duties', 6005: 'progresses', 6006: 'replied', 6007: 'loading', 6008: 'profitability', 6009: 'acquired', 6010: 'diversified', 6011: 'minneapolis', 6012: 'amassing', 6013: 'stop', 6014: 'empires', 6015: 'advisory', 6016: 'advisers', 6017: 'turkish', 6018: 'turkey', 6019: 'scrapped', 6020: 'monitor', 6021: 'developments', 6022: 'observers', 6023: 'pull', 6024: 'bruised', 6025: 'enforced', 6026: 'rio', 6027: 'sol', 6028: 'campbell', 6029: 'summoned', 6030: 'neville', 6031: 'wes', 6032: 'makeshift', 6033: 'budge', 6034: 'disgrace', 6035: 'lander', 6036: 'disrepute', 6037: 'hearing', 6038: 'greatly', 6039: 'funny', 6040: 'witty', 6041: 'esther', 6042: 'rantzen', 6043: 'lovely', 6044: 'delight', 6045: 'fletcher', 6046: 'consummate', 6047: 'broadcaster', 6048: 'kind', 6049: 'pleasure', 6050: 'shall', 6051: 'cyril', 6052: 'fashioned', 6053: 'radek', 6054: 'superior', 6055: 'proved', 6056: 'swede', 6057: 'edged', 6058: 'swedish', 6059: 'patterson', 6060: 'astrazeneca', 6061: 'pitch', 6062: 'medicine', 6063: 'tarceva', 6064: 'prolong', 6065: 'patients', 6066: 'disease', 6067: 'blockbuster', 6068: 'failing', 6069: 'risks', 6070: 'crestor', 6071: 'jefferies', 6072: 'hinted', 6073: 'contradict', 6074: 'chiropractor', 6075: 'dutchman', 6076: 'fractured', 6077: 'telephone', 6078: 'penetration', 6079: 'arab', 6080: 'selection', 6081: 'criteria', 6082: 'speed', 6083: 'implementation', 6084: 'tariff', 6085: 'visible', 6086: 'changeable', 6087: 'telecommunication', 6088: 'titterrell', 6089: 'vickery', 6090: 'borthwick', 6091: 'forrester', 6092: 'ellis', 6093: 'barkley', 6094: 'cohen', 6095: 'j', 6096: 'tait', 6097: 'noon', 6098: 'lewsey', 6099: 'hodgson', 6100: 'rowntree', 6101: 'kay', 6102: 'worsley', 6103: 'pending', 6104: 'citing', 6105: 'dragan', 6106: 'replace', 6107: 'mikel', 6108: 'arteta', 6109: 'loaned', 6110: 'â£150', 6111: 'option', 6112: 'montenegro', 6113: 'completion', 6114: 'restatements', 6115: 'solid', 6116: 'foundation', 6117: 'core', 6118: 'circumstances', 6119: 'restatement', 6120: 'downwards', 6121: '434m', 6122: 'â£231m', 6123: '732m', 6124: 'jackie', 6125: 'sylvester', 6126: 'hot', 6127: 'nielsen', 6128: 'mondays', 6129: 'dancer', 6130: 'bez', 6131: 'blazin', 6132: 'wreck', 6133: 'vacation', 6134: 'sealed', 6135: 'threatened', 6136: 'acted', 6137: 'shut', 6138: 'attempt', 6139: 'imported', 6140: 'coal', 6141: 'deposits', 6142: 'fields', 6143: 'supplied', 6144: 'alienated', 6145: 'suburb', 6146: '18th', 6147: 'translation', 6148: 'schoolteacher', 6149: 'introduces', 6150: 'unruly', 6151: 'classroom', 6152: 'pleasures', 6153: 'classical', 6154: 'kechiche', 6155: 'trevor', 6156: 'surprises', 6157: '44', 6158: 'lions', 6159: 'actually', 6160: 'conversations', 6161: 'esteem', 6162: 'independence', 6163: 'complacent', 6164: 'prevented', 6165: 'zambians', 6166: 'determination', 6167: 'recalling', 6168: 'kalusha', 6169: 'cautious', 6170: 'cosafa', 6171: 'sounding', 6172: 'suitors', 6173: 'golf', 6174: 'snowboards', 6175: 'closer', 6176: 'prompting', 6177: 'skis', 6178: 'ski', 6179: 'surfwear', 6180: 'raked', 6181: 'â£42', 6182: '56m', 6183: 'slice', 6184: '246', 6185: '570', 6186: 'abuses', 6187: '546m', 6188: 'â£290m', 6189: 'comprising', 6190: '635', 6191: '173', 6192: 'catalogue', 6193: 'shopping', 6194: 'frauds', 6195: 'undisclosed', 6196: 'crop', 6197: 'totalled', 6198: 'joint', 6199: 'fao', 6200: 'recommend', 6201: 'locally', 6202: '965', 6203: 'ethiopians', 6204: 'calculated', 6205: 'requirements', 6206: '387', 6207: 'fortified', 6208: 'blended', 6209: 'vegetable', 6210: 'supplementary', 6211: 'distributions', 6212: 'lactating', 6213: 'twice', 6214: 'quickly', 6215: 'promoter', 6216: '1960', 6217: 'peaked', 6218: 'tommy', 6219: 'hunter', 6220: 'statler', 6221: 'saul', 6222: 'entrepreneur', 6223: 'rear', 6224: 'gunner', 6225: 'ii', 6226: 'restaurant', 6227: 'mia', 6228: 'embark', 6229: 'husband', 6230: 'cubs', 6231: 'shortstop', 6232: 'nomar', 6233: 'garciaparra', 6234: 'prolific', 6235: '158', 6236: '276', 6237: 'officially', 6238: 'zimbabwe', 6239: 'hapoel', 6240: 'bnei', 6241: 'haifa', 6242: 'brief', 6243: 'stint', 6244: 'hellenic', 6245: 'contenders', 6246: 'tasting', 6247: 'onto', 6248: 'romantic', 6249: 'hitch', 6250: 'mask', 6251: 'bartholomeusz', 6252: 'castaignede', 6253: 'harris', 6254: 'vaikona', 6255: 'bracken', 6256: 'yates', 6257: 'ibanez', 6258: 'visagie', 6259: 'fullarton', 6260: 'randell', 6261: 'vyvyan', 6262: 'headingley', 6263: 'tykes', 6264: 'prop', 6265: 'mcgee', 6266: 'borders', 6267: 'mcmullen', 6268: 'narbonne', 6269: 'rigney', 6270: 'mcmillan', 6271: 'vickerman', 6272: 'pack', 6273: 'revelled', 6274: 'betis', 6275: 'tried', 6276: 'groenefeld', 6277: 'relentless', 6278: 'accuracy', 6279: 'intelligence', 6280: 'gpw', 6281: 'understood', 6282: 'diligence', 6283: 'client', 6284: 'profile', 6285: 'woo', 6286: 'household', 6287: 'reckitt', 6288: 'benckiser', 6289: 'seton', 6290: 'specialists', 6291: 'scholl', 6292: 'meryl', 6293: 'streep', 6294: 'freeman', 6295: 'cate', 6296: 'blanchett', 6297: 'carradine', 6298: 'portman', 6299: 'slovakia', 6300: 'meghann', 6301: 'shaughnessy', 6302: 'molik', 6303: 'blake', 6304: 'levelled', 6305: 'baccanello', 6306: 'philippoussis', 6307: 'bigger', 6308: '144', 6309: 'excited', 6310: 'describing', 6311: 'admire', 6312: 'vicki', 6313: 'carr', 6314: '1937', 6315: 'easy', 6316: 'costa', 6317: 'croatian', 6318: 'upset', 6319: 'sebastien', 6320: 'grosjean', 6321: 'cpi', 6322: '01', 6323: 'plagued', 6324: 'slow', 6325: 'predicts', 6326: '25m', 6327: 'anderlecht', 6328: 'celestine', 6329: 'reopens', 6330: 'deals', 6331: 'charities', 6332: 'martina', 6333: 'consider', 6334: 'matin', 6335: '30th', 6336: '95th', 6337: 'perfectly', 6338: 'expire', 6339: 'affection', 6340: 'unsung', 6341: 'keegan', 6342: 'bosvelt', 6343: 'count', 6344: 'presentation', 6345: 'brit', 6346: 'undertake', 6347: 'grammys', 6348: 'kanye', 6349: 'contention', 6350: 'soul', 6351: 'mcgraw', 6352: 'contesting', 6353: 'infinity', 6354: 'cumulative', 6355: 'fines', 6356: 'totalling', 6357: 'â£907', 6358: 'settle', 6359: 'violations', 6360: 'djs', 6361: 'purporting', 6362: 'obviously', 6363: 'wish', 6364: 'memorable', 6365: 'regret', 6366: 'assure', 6367: 'swiftly', 6368: 'minimise', 6369: 'departure', 6370: 'insurer', 6371: '42bn', 6372: 'tightly', 6373: 'packed', 6374: 'populations', 6375: 'eclipsed', 6376: 'pushed', 6377: '37bn', 6378: 'touches', 6379: 'kiefer', 6380: 'momentum', 6381: 'lined', 6382: 'paradorn', 6383: 'srichaphan', 6384: 'fabrice', 6385: 'santoro', 6386: 'nikolay', 6387: 'premiere', 6388: 'elegant', 6389: 'spirit', 6390: 'embodied', 6391: 'tells', 6392: 'boy', 6393: 'journey', 6394: 'knocks', 6395: 'respective', 6396: 'opener', 6397: 'wait', 6398: 'knowing', 6399: 'possibilities', 6400: 'immense', 6401: 'decoration', 6402: 'renaud', 6403: 'donnedieu', 6404: 'arts', 6405: 'letters', 6406: 'cultural', 6407: 'adidas', 6408: 'squads', 6409: 'kit', 6410: 'bull', 6411: 'supplying', 6412: 'moorcroft', 6413: 'guiding', 6414: 'claudio', 6415: 'primera', 6416: 'liga', 6417: 'elimination', 6418: 'mom', 6419: 'ok', 6420: 'keanu', 6421: 'matrix', 6422: 'walk', 6423: 'floor', 6424: 'bricks', 6425: 'seats', 6426: 'pursue', 6427: 'acting', 6428: 'stiff', 6429: 'mottram', 6430: '3km', 6431: '5km', 6432: 'pumped', 6433: 'â£24bn', 6434: 'lender', 6435: 'clean', 6436: 'weighed', 6437: 'billions', 6438: 'unpaid', 6439: 'loans', 6440: 'backing', 6441: 'reinstatement', 6442: 'fitting', 6443: 'schedule', 6444: 'traditional', 6445: 'meaning', 6446: 'something', 6447: 'highlight', 6448: 'motivating', 6449: 'driving', 6450: 'mogul', 6451: 'suge', 6452: 'parole', 6453: '1996', 6454: 'gang', 6455: 'tupac', 6456: 'barstow', 6457: 'offence', 6458: 'supposed', 6459: 'club2school', 6460: 'â£250m', 6461: 'yearly', 6462: 'moynihan', 6463: 'empower', 6464: 'lasting', 6465: 'legacy', 6466: 'lessons', 6467: 'mefin', 6468: 'request', 6469: 'angry', 6470: 'stade', 6471: 'francais', 6472: 'â£269bn', 6473: 'â£268bn', 6474: 'apacs', 6475: 'debit', 6476: 'overtaken', 6477: 'barclaycard', 6478: 'handful', 6479: 'reportedly', 6480: 'todd', 6481: 'mardy', 6482: 'florida', 6483: 'sentinel', 6484: 'standpoint', 6485: 'bases', 6486: 'brad', 6487: 'gilbert', 6488: 'drag', 6489: 'assassinated', 6490: 'rafik', 6491: 'renewed', 6492: 'reconstruction', 6493: 'traders', 6494: 'panic', 6495: 'mourn', 6496: 'restored', 6497: 'redeveloped', 6498: 'bitter', 6499: 'civil', 6500: 'pharmaceutical', 6501: 'â£13bn', 6502: 'aimed', 6503: 'offsetting', 6504: 'patent', 6505: 'expirations', 6506: 'battling', 6507: 'fierce', 6508: 'shirking', 6509: 'casino', 6510: 'built', 6511: 'legislate', 6512: 'handled', 6513: 'poliakoff', 6514: 'piece', 6515: 'bloody', 6516: '1972', 6517: 'killings', 6518: 'libertines', 6519: 'filthy', 6520: 'shameless', 6521: 'meadows', 6522: 'weston', 6523: 'hylands', 6524: 'versa', 6525: 'v', 6526: 'angus', 6527: 'headline', 6528: 'headed', 6529: 'stellar', 6530: 'pride', 6531: 'ourselves', 6532: 'unbeatable', 6533: 'disappoint', 6534: 'guillermo', 6535: 'auckland', 6536: 'olivier', 6537: 'jan', 6538: 'hernych', 6539: 'acasuso', 6540: 'conceded', 6541: 'naturally', 6542: 'digney', 6543: 'offices', 6544: 'duets'}\n"
          ]
        }
      ],
      "source": [
        "print(reverse_target_word_index)"
      ]
    },
    {
      "cell_type": "code",
      "execution_count": null,
      "metadata": {
        "id": "u0xFJjdRtRnq",
        "colab": {
          "base_uri": "https://localhost:8080/"
        },
        "outputId": "61451772-b675-4488-a34f-3c6a95880566"
      },
      "outputs": [
        {
          "output_type": "stream",
          "name": "stderr",
          "text": [
            "[nltk_data] Downloading package wordnet to /root/nltk_data...\n",
            "[nltk_data]   Unzipping corpora/wordnet.zip.\n"
          ]
        },
        {
          "output_type": "stream",
          "name": "stdout",
          "text": [
            "Requirement already satisfied: rouge in /usr/local/lib/python3.7/dist-packages (1.0.1)\n",
            "Requirement already satisfied: six in /usr/local/lib/python3.7/dist-packages (from rouge) (1.15.0)\n"
          ]
        }
      ],
      "source": [
        "nltk.download('wordnet')\n",
        "!pip install rouge\n",
        "from rouge import Rouge\n",
        "\n",
        "rouge = Rouge()"
      ]
    },
    {
      "cell_type": "code",
      "source": [
        "def calculate_rogue(src_trg, pred_trg):\n",
        "      \n",
        "  #cut off <eos> token\n",
        "  pred_trg = pred_trg[:-6]\n",
        "\n",
        "  \n",
        "  if (len(pred_trg) == 0):\n",
        "    rogue_score = 0.0\n",
        "  else:\n",
        "    s = rouge.get_scores(pred_trg, src_trg, avg= True)\n",
        "    rogue_score = s['rouge-1']['f']\n",
        "    \n",
        "  return rogue_score"
      ],
      "metadata": {
        "id": "Q5wI9zJHDXvz"
      },
      "execution_count": null,
      "outputs": []
    },
    {
      "cell_type": "code",
      "execution_count": null,
      "metadata": {
        "id": "9EE2PHb2u9By"
      },
      "outputs": [],
      "source": [
        "from nltk.translate.bleu_score import sentence_bleu\n",
        "from nltk.translate.gleu_score import sentence_gleu\n",
        "from nltk.translate.meteor_score import meteor_score\n",
        "\n",
        "def calculate_scores(N=100):    \n",
        "    bscore=0;gscore=0;mscore=0\n",
        "    for i in range(N):\n",
        "        ref=sequence_to_summary(y_tr[i])\n",
        "        hypo=decode_sequence(x_tr[i].reshape(1,max_text_len),i)\n",
        "        bscore+=sentence_bleu([ref],hypo)\n",
        "        gscore+=sentence_gleu([ref],hypo)\n",
        "        # mscore+=meteor_score([ref],hypo)\n",
        "    print(\"Average scores - BLEU:%.4f ROGUE:%.4f METEOR:%.4f\"%(bscore/N,gscore/N,mscore/N))"
      ]
    },
    {
      "cell_type": "markdown",
      "metadata": {
        "id": "CkUJd9lGJuui"
      },
      "source": [
        "###Calculating score metrics for first 100"
      ]
    },
    {
      "cell_type": "code",
      "execution_count": null,
      "metadata": {
        "id": "a51X9S1IACFw",
        "colab": {
          "base_uri": "https://localhost:8080/"
        },
        "outputId": "d4450574-2067-4ba8-b305-c1917dddc841"
      },
      "outputs": [
        {
          "output_type": "stream",
          "name": "stdout",
          "text": [
            "BLEU:0.4512 GLEU:0.4512 METEOR:0.0000\n"
          ]
        }
      ],
      "source": [
        "calculate_scores()"
      ]
    },
    {
      "cell_type": "code",
      "source": [],
      "metadata": {
        "id": "4mgSRK3RLxEI"
      },
      "execution_count": null,
      "outputs": []
    }
  ],
  "metadata": {
    "accelerator": "GPU",
    "colab": {
      "collapsed_sections": [],
      "name": "Text-summarizer.ipynb",
      "provenance": []
    },
    "kernelspec": {
      "display_name": "Python 3",
      "language": "python",
      "name": "python3"
    },
    "language_info": {
      "codemirror_mode": {
        "name": "ipython",
        "version": 3
      },
      "file_extension": ".py",
      "mimetype": "text/x-python",
      "name": "python",
      "nbconvert_exporter": "python",
      "pygments_lexer": "ipython3",
      "version": "3.9.1"
    }
  },
  "nbformat": 4,
  "nbformat_minor": 0
}